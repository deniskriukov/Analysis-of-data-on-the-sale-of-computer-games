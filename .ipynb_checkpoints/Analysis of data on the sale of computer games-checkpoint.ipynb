{
 "cells": [
  {
   "cell_type": "markdown",
   "metadata": {},
   "source": [
    "# Исследование: анализ данных о продаже компьютерных игр"
   ]
  },
  {
   "cell_type": "markdown",
   "metadata": {},
   "source": [
    "<div style=\"border: dashed 10px; background-color:#6C7379; color:#ffffff; padding: 20px\">\n",
    "        \n",
    "Интернет-магазин \"Стримчик\" 🚀 планирует кампанию по продаже компьютерных игр за 2016 год. В распоряжении компании есть исторические данные о продажах за предыдущие года. На основе этих данных необходимо выявить закономерности, определяющие успешность игр. Результаты позволят спланировать рекламную кампанию на 2017 год.\n",
    "\n",
    "**Цель исследования**: определить закономерности успешных игр.\n",
    "\n",
    "**Задачи исследования**: исследовать данные, составить портрет пользователея по регионам и проверить интересующие гипотезы.\n",
    "\n",
    "**План**:\n",
    "\n",
    "1. Загрузка и обзор данных\n",
    "2. Предобработка данных\n",
    "3. Исследовательский анализ данных\n",
    "4. Составление портрета пользователя каждого региона\n",
    "5. Проверка гипотез\n",
    "6. Подведение итогов\n",
    "7. Рекомендации"
   ]
  },
  {
   "cell_type": "markdown",
   "metadata": {},
   "source": [
    "## Загрузка и обзор данных"
   ]
  },
  {
   "cell_type": "markdown",
   "metadata": {},
   "source": [
    "### Загрузка данных"
   ]
  },
  {
   "cell_type": "code",
   "execution_count": 1,
   "metadata": {},
   "outputs": [],
   "source": [
    "import pandas as pd\n",
    "import matplotlib.pyplot as plt\n",
    "import numpy as np\n",
    "from scipy import stats as st\n",
    "import seaborn as sns\n",
    "import warnings\n",
    "warnings.simplefilter(\"ignore\")"
   ]
  },
  {
   "cell_type": "code",
   "execution_count": 2,
   "metadata": {},
   "outputs": [],
   "source": [
    "df = pd.read_csv('/datasets/games.csv')\n",
    "df.to_csv('games.csv', index=False)"
   ]
  },
  {
   "cell_type": "markdown",
   "metadata": {},
   "source": [
    "### Обзор данных"
   ]
  },
  {
   "cell_type": "code",
   "execution_count": 3,
   "metadata": {},
   "outputs": [
    {
     "data": {
      "text/html": [
       "<div>\n",
       "<style scoped>\n",
       "    .dataframe tbody tr th:only-of-type {\n",
       "        vertical-align: middle;\n",
       "    }\n",
       "\n",
       "    .dataframe tbody tr th {\n",
       "        vertical-align: top;\n",
       "    }\n",
       "\n",
       "    .dataframe thead th {\n",
       "        text-align: right;\n",
       "    }\n",
       "</style>\n",
       "<table border=\"1\" class=\"dataframe\">\n",
       "  <thead>\n",
       "    <tr style=\"text-align: right;\">\n",
       "      <th></th>\n",
       "      <th>Name</th>\n",
       "      <th>Platform</th>\n",
       "      <th>Year_of_Release</th>\n",
       "      <th>Genre</th>\n",
       "      <th>NA_sales</th>\n",
       "      <th>EU_sales</th>\n",
       "      <th>JP_sales</th>\n",
       "      <th>Other_sales</th>\n",
       "      <th>Critic_Score</th>\n",
       "      <th>User_Score</th>\n",
       "      <th>Rating</th>\n",
       "    </tr>\n",
       "  </thead>\n",
       "  <tbody>\n",
       "    <tr>\n",
       "      <th>0</th>\n",
       "      <td>Wii Sports</td>\n",
       "      <td>Wii</td>\n",
       "      <td>2006.0</td>\n",
       "      <td>Sports</td>\n",
       "      <td>41.36</td>\n",
       "      <td>28.96</td>\n",
       "      <td>3.77</td>\n",
       "      <td>8.45</td>\n",
       "      <td>76.0</td>\n",
       "      <td>8</td>\n",
       "      <td>E</td>\n",
       "    </tr>\n",
       "    <tr>\n",
       "      <th>1</th>\n",
       "      <td>Super Mario Bros.</td>\n",
       "      <td>NES</td>\n",
       "      <td>1985.0</td>\n",
       "      <td>Platform</td>\n",
       "      <td>29.08</td>\n",
       "      <td>3.58</td>\n",
       "      <td>6.81</td>\n",
       "      <td>0.77</td>\n",
       "      <td>NaN</td>\n",
       "      <td>NaN</td>\n",
       "      <td>NaN</td>\n",
       "    </tr>\n",
       "    <tr>\n",
       "      <th>2</th>\n",
       "      <td>Mario Kart Wii</td>\n",
       "      <td>Wii</td>\n",
       "      <td>2008.0</td>\n",
       "      <td>Racing</td>\n",
       "      <td>15.68</td>\n",
       "      <td>12.76</td>\n",
       "      <td>3.79</td>\n",
       "      <td>3.29</td>\n",
       "      <td>82.0</td>\n",
       "      <td>8.3</td>\n",
       "      <td>E</td>\n",
       "    </tr>\n",
       "    <tr>\n",
       "      <th>3</th>\n",
       "      <td>Wii Sports Resort</td>\n",
       "      <td>Wii</td>\n",
       "      <td>2009.0</td>\n",
       "      <td>Sports</td>\n",
       "      <td>15.61</td>\n",
       "      <td>10.93</td>\n",
       "      <td>3.28</td>\n",
       "      <td>2.95</td>\n",
       "      <td>80.0</td>\n",
       "      <td>8</td>\n",
       "      <td>E</td>\n",
       "    </tr>\n",
       "    <tr>\n",
       "      <th>4</th>\n",
       "      <td>Pokemon Red/Pokemon Blue</td>\n",
       "      <td>GB</td>\n",
       "      <td>1996.0</td>\n",
       "      <td>Role-Playing</td>\n",
       "      <td>11.27</td>\n",
       "      <td>8.89</td>\n",
       "      <td>10.22</td>\n",
       "      <td>1.00</td>\n",
       "      <td>NaN</td>\n",
       "      <td>NaN</td>\n",
       "      <td>NaN</td>\n",
       "    </tr>\n",
       "  </tbody>\n",
       "</table>\n",
       "</div>"
      ],
      "text/plain": [
       "                       Name Platform  Year_of_Release         Genre  NA_sales  \\\n",
       "0                Wii Sports      Wii           2006.0        Sports     41.36   \n",
       "1         Super Mario Bros.      NES           1985.0      Platform     29.08   \n",
       "2            Mario Kart Wii      Wii           2008.0        Racing     15.68   \n",
       "3         Wii Sports Resort      Wii           2009.0        Sports     15.61   \n",
       "4  Pokemon Red/Pokemon Blue       GB           1996.0  Role-Playing     11.27   \n",
       "\n",
       "   EU_sales  JP_sales  Other_sales  Critic_Score User_Score Rating  \n",
       "0     28.96      3.77         8.45          76.0          8      E  \n",
       "1      3.58      6.81         0.77           NaN        NaN    NaN  \n",
       "2     12.76      3.79         3.29          82.0        8.3      E  \n",
       "3     10.93      3.28         2.95          80.0          8      E  \n",
       "4      8.89     10.22         1.00           NaN        NaN    NaN  "
      ]
     },
     "metadata": {},
     "output_type": "display_data"
    },
    {
     "name": "stdout",
     "output_type": "stream",
     "text": [
      "<class 'pandas.core.frame.DataFrame'>\n",
      "RangeIndex: 16715 entries, 0 to 16714\n",
      "Data columns (total 11 columns):\n",
      " #   Column           Non-Null Count  Dtype  \n",
      "---  ------           --------------  -----  \n",
      " 0   Name             16713 non-null  object \n",
      " 1   Platform         16715 non-null  object \n",
      " 2   Year_of_Release  16446 non-null  float64\n",
      " 3   Genre            16713 non-null  object \n",
      " 4   NA_sales         16715 non-null  float64\n",
      " 5   EU_sales         16715 non-null  float64\n",
      " 6   JP_sales         16715 non-null  float64\n",
      " 7   Other_sales      16715 non-null  float64\n",
      " 8   Critic_Score     8137 non-null   float64\n",
      " 9   User_Score       10014 non-null  object \n",
      " 10  Rating           9949 non-null   object \n",
      "dtypes: float64(6), object(5)\n",
      "memory usage: 1.4+ MB\n"
     ]
    }
   ],
   "source": [
    "display(df.head())\n",
    "df.info()"
   ]
  },
  {
   "cell_type": "code",
   "execution_count": 4,
   "metadata": {},
   "outputs": [
    {
     "data": {
      "text/plain": [
       "Name                  2\n",
       "Platform              0\n",
       "Year_of_Release     269\n",
       "Genre                 2\n",
       "NA_sales              0\n",
       "EU_sales              0\n",
       "JP_sales              0\n",
       "Other_sales           0\n",
       "Critic_Score       8578\n",
       "User_Score         6701\n",
       "Rating             6766\n",
       "dtype: int64"
      ]
     },
     "execution_count": 4,
     "metadata": {},
     "output_type": "execute_result"
    }
   ],
   "source": [
    "df.isna().sum()"
   ]
  },
  {
   "cell_type": "markdown",
   "metadata": {},
   "source": [
    "<div style=\"background-color:#6C7379; color:#ffffff; text-align:center; padding:2%\">\n",
    "\n",
    "Посмотрим, за какой период предоставлены данные."
   ]
  },
  {
   "cell_type": "code",
   "execution_count": 5,
   "metadata": {},
   "outputs": [
    {
     "data": {
      "text/plain": [
       "2016.0"
      ]
     },
     "metadata": {},
     "output_type": "display_data"
    },
    {
     "data": {
      "text/plain": [
       "1980.0"
      ]
     },
     "execution_count": 5,
     "metadata": {},
     "output_type": "execute_result"
    }
   ],
   "source": [
    "display(df['Year_of_Release'].max())\n",
    "df['Year_of_Release'].min()"
   ]
  },
  {
   "cell_type": "code",
   "execution_count": 6,
   "metadata": {
    "scrolled": true
   },
   "outputs": [
    {
     "data": {
      "text/plain": [
       "array(['Sports', 'Platform', 'Racing', 'Role-Playing', 'Puzzle', 'Misc',\n",
       "       'Shooter', 'Simulation', 'Action', 'Fighting', 'Adventure',\n",
       "       'Strategy', nan], dtype=object)"
      ]
     },
     "execution_count": 6,
     "metadata": {},
     "output_type": "execute_result"
    }
   ],
   "source": [
    "df['Genre'].unique()"
   ]
  },
  {
   "cell_type": "markdown",
   "metadata": {},
   "source": [
    "### Вывод\n",
    "<div style=\"border: dashed 10px; background-color:#6C7379; color:#ffffff; padding: 20px\">\n",
    "\n",
    "1. Файл `games.csv` содержит 16 715 строк с информацией об играх с 11 характеристиками в каждой.\n",
    "\n",
    "\n",
    "2. Данные содержат 11435 игр, выпущенные с 1980 года по 2016 год и представленные в 12 жанрах.\n",
    "\n",
    "\n",
    "3. Данные нуждаются в объемной предобработке."
   ]
  },
  {
   "cell_type": "markdown",
   "metadata": {},
   "source": [
    "## Предобработка данных"
   ]
  },
  {
   "cell_type": "markdown",
   "metadata": {},
   "source": [
    "### Стандартизация названий столбцов"
   ]
  },
  {
   "cell_type": "code",
   "execution_count": 7,
   "metadata": {},
   "outputs": [],
   "source": [
    "df.columns = df.columns.str.lower()\n",
    "\n",
    "df = df.rename(columns={\n",
    "    'year_of_release': 'year', # данные значения ни с чем не спутать, поэтому сделаем название более лаконичным\n",
    "    'rating': 'esrb_rating' # речь идет именно о ESRB рейтинге\n",
    "})"
   ]
  },
  {
   "cell_type": "markdown",
   "metadata": {},
   "source": [
    "### Добавление столбца общих продаж"
   ]
  },
  {
   "cell_type": "code",
   "execution_count": 8,
   "metadata": {},
   "outputs": [],
   "source": [
    "# рассчитаем общее количество продаж\n",
    "df['total_sales'] = df['na_sales'] + df['eu_sales'] + df['jp_sales'] + df['other_sales']"
   ]
  },
  {
   "cell_type": "markdown",
   "metadata": {},
   "source": [
    "### Изменение типа данных"
   ]
  },
  {
   "cell_type": "code",
   "execution_count": 9,
   "metadata": {},
   "outputs": [
    {
     "data": {
      "text/plain": [
       "name             object\n",
       "platform         object\n",
       "year            float64\n",
       "genre            object\n",
       "na_sales        float64\n",
       "eu_sales        float64\n",
       "jp_sales        float64\n",
       "other_sales     float64\n",
       "critic_score    float64\n",
       "user_score       object\n",
       "esrb_rating      object\n",
       "total_sales     float64\n",
       "dtype: object"
      ]
     },
     "execution_count": 9,
     "metadata": {},
     "output_type": "execute_result"
    }
   ],
   "source": [
    "df.dtypes"
   ]
  },
  {
   "cell_type": "code",
   "execution_count": 10,
   "metadata": {},
   "outputs": [
    {
     "data": {
      "text/plain": [
       "name               2\n",
       "platform           0\n",
       "year             269\n",
       "genre              2\n",
       "na_sales           0\n",
       "eu_sales           0\n",
       "jp_sales           0\n",
       "other_sales        0\n",
       "critic_score    8578\n",
       "user_score      6701\n",
       "esrb_rating     6766\n",
       "total_sales        0\n",
       "dtype: int64"
      ]
     },
     "execution_count": 10,
     "metadata": {},
     "output_type": "execute_result"
    }
   ],
   "source": [
    "# тип данных зависит от пропущенных значений\n",
    "df.isna().sum()"
   ]
  },
  {
   "cell_type": "markdown",
   "metadata": {},
   "source": [
    "#### `na_sales`, `eu_sales`, `jp_sales` и `other_sales`"
   ]
  },
  {
   "cell_type": "code",
   "execution_count": 11,
   "metadata": {},
   "outputs": [],
   "source": [
    "# уменьшим занимаемый объем памяти для уже составленных столбцов\n",
    "df['na_sales'] = df['na_sales'].astype('float32')\n",
    "df['eu_sales'] = df['eu_sales'].astype('float32')\n",
    "df['jp_sales'] = df['jp_sales'].astype('float32')\n",
    "df['other_sales'] = df['other_sales'].astype('float32')"
   ]
  },
  {
   "cell_type": "markdown",
   "metadata": {},
   "source": [
    "#### `user_score`, `rating`"
   ]
  },
  {
   "cell_type": "markdown",
   "metadata": {},
   "source": [
    "<div style=\"background-color:#6C7379; color:#ffffff; text-align:start; padding:2%\">\n",
    "\n",
    "1. TBD (\"to be determined\") - аббревиатура, использующаяся при отсутствии оценок или при в момент сбора оценок. В нашем случае это важно только при анализе `user_score`. Чтобы данные не влияли на ход исследования, в дальнейшем заменим эти абревиатуры тем же способом, что и пропущенные значения. Тип данных после станет `float32`.\n",
    "    \n",
    "    \n",
    "2. ESRB (\"Entertainment Software Rating Board\") - организация, занимающаяся принятем рейтинга игры в соответствии с содержанием и определяющая возрастные ограничения. В дальнейшем выделим пропущенные значения соответствующего столбца в отдельную категорию. Тип данных останется прежним."
   ]
  },
  {
   "cell_type": "markdown",
   "metadata": {},
   "source": [
    "#### Промежуточный вывод\n",
    "\n",
    "\n",
    "<div style=\"border: dashed 10px; background-color:#6C7379; color:#ffffff; padding: 20px\">\n",
    "\n",
    "    \n",
    "\n",
    "1. Значения \"tbd\" столбца `user_score` можно обработать аналогично пропущенным значениям.\n",
    "\n",
    "\n",
    "2. Изменить тип данных столбцов `year` и `critic_score` можно после обработки пропущенных значений."
   ]
  },
  {
   "cell_type": "markdown",
   "metadata": {},
   "source": [
    "### Анализ и обработка пропущенных значений"
   ]
  },
  {
   "cell_type": "markdown",
   "metadata": {},
   "source": [
    "<div style=\"background-color:#6C7379; color:#ffffff; text-align:start; padding:2%\">\n",
    "\n",
    "Заменим пропущенные ячейки на логичные значения, значения-заглушки или удалим строки вовсе. Количество пропущенных значений не должно превышать 1670 строк (10% от общего количества)."
   ]
  },
  {
   "cell_type": "code",
   "execution_count": 12,
   "metadata": {},
   "outputs": [
    {
     "data": {
      "text/plain": [
       "name               2\n",
       "platform           0\n",
       "year             269\n",
       "genre              2\n",
       "na_sales           0\n",
       "eu_sales           0\n",
       "jp_sales           0\n",
       "other_sales        0\n",
       "critic_score    8578\n",
       "user_score      6701\n",
       "esrb_rating     6766\n",
       "total_sales        0\n",
       "dtype: int64"
      ]
     },
     "execution_count": 12,
     "metadata": {},
     "output_type": "execute_result"
    }
   ],
   "source": [
    "df.isna().sum()"
   ]
  },
  {
   "cell_type": "markdown",
   "metadata": {},
   "source": [
    "#### `name` и `genre`"
   ]
  },
  {
   "cell_type": "code",
   "execution_count": 13,
   "metadata": {},
   "outputs": [
    {
     "data": {
      "text/html": [
       "<div>\n",
       "<style scoped>\n",
       "    .dataframe tbody tr th:only-of-type {\n",
       "        vertical-align: middle;\n",
       "    }\n",
       "\n",
       "    .dataframe tbody tr th {\n",
       "        vertical-align: top;\n",
       "    }\n",
       "\n",
       "    .dataframe thead th {\n",
       "        text-align: right;\n",
       "    }\n",
       "</style>\n",
       "<table border=\"1\" class=\"dataframe\">\n",
       "  <thead>\n",
       "    <tr style=\"text-align: right;\">\n",
       "      <th></th>\n",
       "      <th>name</th>\n",
       "      <th>platform</th>\n",
       "      <th>year</th>\n",
       "      <th>genre</th>\n",
       "      <th>na_sales</th>\n",
       "      <th>eu_sales</th>\n",
       "      <th>jp_sales</th>\n",
       "      <th>other_sales</th>\n",
       "      <th>critic_score</th>\n",
       "      <th>user_score</th>\n",
       "      <th>esrb_rating</th>\n",
       "      <th>total_sales</th>\n",
       "    </tr>\n",
       "  </thead>\n",
       "  <tbody>\n",
       "    <tr>\n",
       "      <th>659</th>\n",
       "      <td>NaN</td>\n",
       "      <td>GEN</td>\n",
       "      <td>1993.0</td>\n",
       "      <td>NaN</td>\n",
       "      <td>1.78</td>\n",
       "      <td>0.53</td>\n",
       "      <td>0.00</td>\n",
       "      <td>0.08</td>\n",
       "      <td>NaN</td>\n",
       "      <td>NaN</td>\n",
       "      <td>NaN</td>\n",
       "      <td>2.39</td>\n",
       "    </tr>\n",
       "    <tr>\n",
       "      <th>14244</th>\n",
       "      <td>NaN</td>\n",
       "      <td>GEN</td>\n",
       "      <td>1993.0</td>\n",
       "      <td>NaN</td>\n",
       "      <td>0.00</td>\n",
       "      <td>0.00</td>\n",
       "      <td>0.03</td>\n",
       "      <td>0.00</td>\n",
       "      <td>NaN</td>\n",
       "      <td>NaN</td>\n",
       "      <td>NaN</td>\n",
       "      <td>0.03</td>\n",
       "    </tr>\n",
       "  </tbody>\n",
       "</table>\n",
       "</div>"
      ],
      "text/plain": [
       "      name platform    year genre  na_sales  eu_sales  jp_sales  other_sales  \\\n",
       "659    NaN      GEN  1993.0   NaN      1.78      0.53      0.00         0.08   \n",
       "14244  NaN      GEN  1993.0   NaN      0.00      0.00      0.03         0.00   \n",
       "\n",
       "       critic_score user_score esrb_rating  total_sales  \n",
       "659             NaN        NaN         NaN         2.39  \n",
       "14244           NaN        NaN         NaN         0.03  "
      ]
     },
     "execution_count": 13,
     "metadata": {},
     "output_type": "execute_result"
    }
   ],
   "source": [
    "df.query('name.isna()')"
   ]
  },
  {
   "cell_type": "markdown",
   "metadata": {},
   "source": [
    "<div style=\"background-color:#6C7379; color:#ffffff; text-align:start; padding:2%\">\n",
    "    \n",
    "Все пропущенные значения данных столбцов содержатся в двух одинаковых строках. Так как игры разные, можем заполнить пропущенные ячейки \"названиями-заглушками\"."
   ]
  },
  {
   "cell_type": "code",
   "execution_count": 14,
   "metadata": {},
   "outputs": [],
   "source": [
    "# изменим игру строки 659\n",
    "df.loc[659, 'name'] = 'name_1'\n",
    "df.loc[659, 'genre'] = 'genre_1'\n",
    "\n",
    "# изменим игру строки 14244\n",
    "df.loc[14244, 'name'] = 'name_2'\n",
    "df.loc[14244, 'genre'] = 'genre_2'"
   ]
  },
  {
   "cell_type": "markdown",
   "metadata": {},
   "source": [
    "#### `year`"
   ]
  },
  {
   "cell_type": "code",
   "execution_count": 15,
   "metadata": {},
   "outputs": [
    {
     "data": {
      "text/html": [
       "<div>\n",
       "<style scoped>\n",
       "    .dataframe tbody tr th:only-of-type {\n",
       "        vertical-align: middle;\n",
       "    }\n",
       "\n",
       "    .dataframe tbody tr th {\n",
       "        vertical-align: top;\n",
       "    }\n",
       "\n",
       "    .dataframe thead th {\n",
       "        text-align: right;\n",
       "    }\n",
       "</style>\n",
       "<table border=\"1\" class=\"dataframe\">\n",
       "  <thead>\n",
       "    <tr style=\"text-align: right;\">\n",
       "      <th></th>\n",
       "      <th>name</th>\n",
       "      <th>platform</th>\n",
       "      <th>year</th>\n",
       "      <th>genre</th>\n",
       "      <th>na_sales</th>\n",
       "      <th>eu_sales</th>\n",
       "      <th>jp_sales</th>\n",
       "      <th>other_sales</th>\n",
       "      <th>critic_score</th>\n",
       "      <th>user_score</th>\n",
       "      <th>esrb_rating</th>\n",
       "      <th>total_sales</th>\n",
       "    </tr>\n",
       "  </thead>\n",
       "  <tbody>\n",
       "    <tr>\n",
       "      <th>183</th>\n",
       "      <td>Madden NFL 2004</td>\n",
       "      <td>PS2</td>\n",
       "      <td>NaN</td>\n",
       "      <td>Sports</td>\n",
       "      <td>4.26</td>\n",
       "      <td>0.26</td>\n",
       "      <td>0.01</td>\n",
       "      <td>0.71</td>\n",
       "      <td>94.0</td>\n",
       "      <td>8.5</td>\n",
       "      <td>E</td>\n",
       "      <td>5.24</td>\n",
       "    </tr>\n",
       "    <tr>\n",
       "      <th>377</th>\n",
       "      <td>FIFA Soccer 2004</td>\n",
       "      <td>PS2</td>\n",
       "      <td>NaN</td>\n",
       "      <td>Sports</td>\n",
       "      <td>0.59</td>\n",
       "      <td>2.36</td>\n",
       "      <td>0.04</td>\n",
       "      <td>0.51</td>\n",
       "      <td>84.0</td>\n",
       "      <td>6.4</td>\n",
       "      <td>E</td>\n",
       "      <td>3.50</td>\n",
       "    </tr>\n",
       "    <tr>\n",
       "      <th>456</th>\n",
       "      <td>LEGO Batman: The Videogame</td>\n",
       "      <td>Wii</td>\n",
       "      <td>NaN</td>\n",
       "      <td>Action</td>\n",
       "      <td>1.80</td>\n",
       "      <td>0.97</td>\n",
       "      <td>0.00</td>\n",
       "      <td>0.29</td>\n",
       "      <td>74.0</td>\n",
       "      <td>7.9</td>\n",
       "      <td>E10+</td>\n",
       "      <td>3.06</td>\n",
       "    </tr>\n",
       "    <tr>\n",
       "      <th>475</th>\n",
       "      <td>wwe Smackdown vs. Raw 2006</td>\n",
       "      <td>PS2</td>\n",
       "      <td>NaN</td>\n",
       "      <td>Fighting</td>\n",
       "      <td>1.57</td>\n",
       "      <td>1.02</td>\n",
       "      <td>0.00</td>\n",
       "      <td>0.41</td>\n",
       "      <td>NaN</td>\n",
       "      <td>NaN</td>\n",
       "      <td>NaN</td>\n",
       "      <td>3.00</td>\n",
       "    </tr>\n",
       "    <tr>\n",
       "      <th>609</th>\n",
       "      <td>Space Invaders</td>\n",
       "      <td>2600</td>\n",
       "      <td>NaN</td>\n",
       "      <td>Shooter</td>\n",
       "      <td>2.36</td>\n",
       "      <td>0.14</td>\n",
       "      <td>0.00</td>\n",
       "      <td>0.03</td>\n",
       "      <td>NaN</td>\n",
       "      <td>NaN</td>\n",
       "      <td>NaN</td>\n",
       "      <td>2.53</td>\n",
       "    </tr>\n",
       "    <tr>\n",
       "      <th>...</th>\n",
       "      <td>...</td>\n",
       "      <td>...</td>\n",
       "      <td>...</td>\n",
       "      <td>...</td>\n",
       "      <td>...</td>\n",
       "      <td>...</td>\n",
       "      <td>...</td>\n",
       "      <td>...</td>\n",
       "      <td>...</td>\n",
       "      <td>...</td>\n",
       "      <td>...</td>\n",
       "      <td>...</td>\n",
       "    </tr>\n",
       "    <tr>\n",
       "      <th>16373</th>\n",
       "      <td>PDC World Championship Darts 2008</td>\n",
       "      <td>PSP</td>\n",
       "      <td>NaN</td>\n",
       "      <td>Sports</td>\n",
       "      <td>0.01</td>\n",
       "      <td>0.00</td>\n",
       "      <td>0.00</td>\n",
       "      <td>0.00</td>\n",
       "      <td>43.0</td>\n",
       "      <td>tbd</td>\n",
       "      <td>E10+</td>\n",
       "      <td>0.01</td>\n",
       "    </tr>\n",
       "    <tr>\n",
       "      <th>16405</th>\n",
       "      <td>Freaky Flyers</td>\n",
       "      <td>GC</td>\n",
       "      <td>NaN</td>\n",
       "      <td>Racing</td>\n",
       "      <td>0.01</td>\n",
       "      <td>0.00</td>\n",
       "      <td>0.00</td>\n",
       "      <td>0.00</td>\n",
       "      <td>69.0</td>\n",
       "      <td>6.5</td>\n",
       "      <td>T</td>\n",
       "      <td>0.01</td>\n",
       "    </tr>\n",
       "    <tr>\n",
       "      <th>16448</th>\n",
       "      <td>Inversion</td>\n",
       "      <td>PC</td>\n",
       "      <td>NaN</td>\n",
       "      <td>Shooter</td>\n",
       "      <td>0.01</td>\n",
       "      <td>0.00</td>\n",
       "      <td>0.00</td>\n",
       "      <td>0.00</td>\n",
       "      <td>59.0</td>\n",
       "      <td>6.7</td>\n",
       "      <td>M</td>\n",
       "      <td>0.01</td>\n",
       "    </tr>\n",
       "    <tr>\n",
       "      <th>16458</th>\n",
       "      <td>Hakuouki: Shinsengumi Kitan</td>\n",
       "      <td>PS3</td>\n",
       "      <td>NaN</td>\n",
       "      <td>Adventure</td>\n",
       "      <td>0.01</td>\n",
       "      <td>0.00</td>\n",
       "      <td>0.00</td>\n",
       "      <td>0.00</td>\n",
       "      <td>NaN</td>\n",
       "      <td>NaN</td>\n",
       "      <td>NaN</td>\n",
       "      <td>0.01</td>\n",
       "    </tr>\n",
       "    <tr>\n",
       "      <th>16522</th>\n",
       "      <td>Virtua Quest</td>\n",
       "      <td>GC</td>\n",
       "      <td>NaN</td>\n",
       "      <td>Role-Playing</td>\n",
       "      <td>0.01</td>\n",
       "      <td>0.00</td>\n",
       "      <td>0.00</td>\n",
       "      <td>0.00</td>\n",
       "      <td>55.0</td>\n",
       "      <td>5.5</td>\n",
       "      <td>T</td>\n",
       "      <td>0.01</td>\n",
       "    </tr>\n",
       "  </tbody>\n",
       "</table>\n",
       "<p>269 rows × 12 columns</p>\n",
       "</div>"
      ],
      "text/plain": [
       "                                    name platform  year         genre  \\\n",
       "183                      Madden NFL 2004      PS2   NaN        Sports   \n",
       "377                     FIFA Soccer 2004      PS2   NaN        Sports   \n",
       "456           LEGO Batman: The Videogame      Wii   NaN        Action   \n",
       "475           wwe Smackdown vs. Raw 2006      PS2   NaN      Fighting   \n",
       "609                       Space Invaders     2600   NaN       Shooter   \n",
       "...                                  ...      ...   ...           ...   \n",
       "16373  PDC World Championship Darts 2008      PSP   NaN        Sports   \n",
       "16405                      Freaky Flyers       GC   NaN        Racing   \n",
       "16448                          Inversion       PC   NaN       Shooter   \n",
       "16458        Hakuouki: Shinsengumi Kitan      PS3   NaN     Adventure   \n",
       "16522                       Virtua Quest       GC   NaN  Role-Playing   \n",
       "\n",
       "       na_sales  eu_sales  jp_sales  other_sales  critic_score user_score  \\\n",
       "183        4.26      0.26      0.01         0.71          94.0        8.5   \n",
       "377        0.59      2.36      0.04         0.51          84.0        6.4   \n",
       "456        1.80      0.97      0.00         0.29          74.0        7.9   \n",
       "475        1.57      1.02      0.00         0.41           NaN        NaN   \n",
       "609        2.36      0.14      0.00         0.03           NaN        NaN   \n",
       "...         ...       ...       ...          ...           ...        ...   \n",
       "16373      0.01      0.00      0.00         0.00          43.0        tbd   \n",
       "16405      0.01      0.00      0.00         0.00          69.0        6.5   \n",
       "16448      0.01      0.00      0.00         0.00          59.0        6.7   \n",
       "16458      0.01      0.00      0.00         0.00           NaN        NaN   \n",
       "16522      0.01      0.00      0.00         0.00          55.0        5.5   \n",
       "\n",
       "      esrb_rating  total_sales  \n",
       "183             E         5.24  \n",
       "377             E         3.50  \n",
       "456          E10+         3.06  \n",
       "475           NaN         3.00  \n",
       "609           NaN         2.53  \n",
       "...           ...          ...  \n",
       "16373        E10+         0.01  \n",
       "16405           T         0.01  \n",
       "16448           M         0.01  \n",
       "16458         NaN         0.01  \n",
       "16522           T         0.01  \n",
       "\n",
       "[269 rows x 12 columns]"
      ]
     },
     "execution_count": 15,
     "metadata": {},
     "output_type": "execute_result"
    }
   ],
   "source": [
    "df.query('year.isna()')"
   ]
  },
  {
   "cell_type": "markdown",
   "metadata": {},
   "source": [
    "<div style=\"background-color:#6C7379; color:#ffffff; text-align:start; padding:2%\">\n",
    "    \n",
    "Для некоторых игр год пропущен, вероятно, из-за наличия в названии, поэтому год можно определить. Это будет тот же год или предыдущей, что можно будет дополнить реальным значением."
   ]
  },
  {
   "cell_type": "code",
   "execution_count": 16,
   "metadata": {},
   "outputs": [
    {
     "name": "stdout",
     "output_type": "stream",
     "text": [
      "Madden NFL 2004\n",
      "FIFA Soccer 2004\n",
      "wwe Smackdown vs. Raw 2006\n",
      "NASCAR Thunder 2003\n",
      "MLB SlugFest 20-03\n",
      "PES 2009: Pro Evolution Soccer\n",
      "Madden NFL 2002\n",
      "NFL GameDay 2003\n",
      "NBA Live 2003\n",
      "Tomb Raider (2013)\n",
      "All-Star Baseball 2005\n",
      "Jet X20\n",
      "Tour de France 2011\n",
      "Sega Rally 2006\n",
      "PDC World Championship Darts 2008\n",
      "Football Manager 2007\n"
     ]
    }
   ],
   "source": [
    "for el in df.query('year.isna()')['name'].unique():\n",
    "    if ('20' or '19') in el:\n",
    "        print(el)"
   ]
  },
  {
   "cell_type": "code",
   "execution_count": 17,
   "metadata": {},
   "outputs": [],
   "source": [
    "# в списке игры, выпущенные только после 2000 года\n",
    "# большинство спортивных игр всегда выпускаются годом ранее\n",
    "# для остальных попавшихся в список найдем значения в интернете\n",
    "df.loc[((df['year'].isna()) & (df['name'] == \"Madden NFL 2004\"), 'year')] = 2003\n",
    "df.loc[((df['year'].isna()) & (df['name'] == \"FIFA Soccer 2004\"), 'year')] = 2003\n",
    "df.loc[((df['year'].isna()) & (df['name'] == \"wwe Smackdown vs. Raw 2006\"), 'year')] = 2005\n",
    "df.loc[((df['year'].isna()) & (df['name'] == \"NASCAR Thunder 2003\"), 'year')] = 2002\n",
    "df.loc[((df['year'].isna()) & (df['name'] == \"MLB SlugFest 20-03\"), 'year')] = 2002\n",
    "df.loc[((df['year'].isna()) & (df['name'] == \"PES 2009: Pro Evolution Soccer\"), 'year')] = 2008\n",
    "df.loc[((df['year'].isna()) & (df['name'] == \"NFL GameDay 2003\"), 'year')] = 2002\n",
    "df.loc[((df['year'].isna()) & (df['name'] == \"Tomb Raider (2013)\"), 'year')] = 2013\n",
    "df.loc[((df['year'].isna()) & (df['name'] == \"All-Star Baseball 2005\"), 'year')] = 2004\n",
    "df.loc[((df['year'].isna()) & (df['name'] == \"Jet X20\"), 'year')] = 2002\n",
    "df.loc[((df['year'].isna()) & (df['name'] == \"Tour de France 2011\"), 'year')] = 2011\n",
    "df.loc[((df['year'].isna()) & (df['name'] == \"Sega Rally 2006\"), 'year')] = 2006\n",
    "df.loc[((df['year'].isna()) & (df['name'] == \"PDC World Championship Darts 2008\"), 'year')] = 2008\n",
    "df.loc[((df['year'].isna()) & (df['name'] == \"Football Manager 2007\"), 'year')] = 2006"
   ]
  },
  {
   "cell_type": "code",
   "execution_count": 18,
   "metadata": {},
   "outputs": [
    {
     "data": {
      "text/plain": [
       "253"
      ]
     },
     "execution_count": 18,
     "metadata": {},
     "output_type": "execute_result"
    }
   ],
   "source": [
    "# подсчитаем количество оставшихся значений с пропущенной датой выпуска\n",
    "df.query('year.isna()')['name'].count()"
   ]
  },
  {
   "cell_type": "code",
   "execution_count": 19,
   "metadata": {},
   "outputs": [],
   "source": [
    "# удалим их\n",
    "df = df.dropna(subset=['year'])\n",
    "\n",
    "# окончательно определим тип данных\n",
    "df['year'] = df['year'].astype('int32')"
   ]
  },
  {
   "cell_type": "markdown",
   "metadata": {},
   "source": [
    "#### `esrb_rating`"
   ]
  },
  {
   "cell_type": "code",
   "execution_count": 20,
   "metadata": {},
   "outputs": [],
   "source": [
    "df['esrb_rating'] = df['esrb_rating'].fillna('no_rating')"
   ]
  },
  {
   "cell_type": "code",
   "execution_count": 31,
   "metadata": {},
   "outputs": [],
   "source": [
    "# заменим значения \"tbd\" на пустые\n",
    "df['user_score'] = pd.to_numeric(df['user_score'], errors='coerce')"
   ]
  },
  {
   "cell_type": "markdown",
   "metadata": {},
   "source": [
    "#### Промежуточный вывод\n",
    "<div style=\"border: dashed 10px; background-color:#6C7379; color:#ffffff; padding: 20px\">\n",
    "\n",
    "\n",
    "1. Удалены 253 строки (1.5 % от начального количества) и обработаны все остальные значения.\n",
    "\n",
    "\n",
    "2. Численные данные заменены на логичные по смыслу медианные значения для разработанных категорий. Строчные данные заменены на \"названия-заглушки\". Оставлены пропущенные значения в столбцах `user_score` и `critic_score`."
   ]
  },
  {
   "cell_type": "code",
   "execution_count": 32,
   "metadata": {},
   "outputs": [
    {
     "name": "stdout",
     "output_type": "stream",
     "text": [
      "<class 'pandas.core.frame.DataFrame'>\n",
      "Int64Index: 16462 entries, 0 to 16714\n",
      "Data columns (total 12 columns):\n",
      " #   Column        Non-Null Count  Dtype  \n",
      "---  ------        --------------  -----  \n",
      " 0   name          16462 non-null  object \n",
      " 1   platform      16462 non-null  object \n",
      " 2   year          16462 non-null  int32  \n",
      " 3   genre         16462 non-null  object \n",
      " 4   na_sales      16462 non-null  float32\n",
      " 5   eu_sales      16462 non-null  float32\n",
      " 6   jp_sales      16462 non-null  float32\n",
      " 7   other_sales   16462 non-null  float32\n",
      " 8   total_sales   16462 non-null  float64\n",
      " 9   critic_score  7993 non-null   float64\n",
      " 10  user_score    7471 non-null   float64\n",
      " 11  esrb_rating   16462 non-null  object \n",
      "dtypes: float32(4), float64(3), int32(1), object(4)\n",
      "memory usage: 1.3+ MB\n"
     ]
    }
   ],
   "source": [
    "# сгруппируем столбцы по смыслу\n",
    "df = df[['name', 'platform', 'year', 'genre',\n",
    "         'na_sales', 'eu_sales', 'jp_sales',\n",
    "         'other_sales', 'total_sales',\n",
    "         'critic_score',\n",
    "         'user_score', 'esrb_rating']]\n",
    "\n",
    "df.info()"
   ]
  },
  {
   "cell_type": "code",
   "execution_count": 33,
   "metadata": {},
   "outputs": [
    {
     "name": "stdout",
     "output_type": "stream",
     "text": [
      "name             object\n",
      "platform         object\n",
      "year              int32\n",
      "genre            object\n",
      "na_sales        float32\n",
      "eu_sales        float32\n",
      "jp_sales        float32\n",
      "other_sales     float32\n",
      "total_sales     float64\n",
      "critic_score    float64\n",
      "user_score      float64\n",
      "esrb_rating      object\n",
      "dtype: object\n"
     ]
    },
    {
     "data": {
      "text/plain": [
       "name               0\n",
       "platform           0\n",
       "year               0\n",
       "genre              0\n",
       "na_sales           0\n",
       "eu_sales           0\n",
       "jp_sales           0\n",
       "other_sales        0\n",
       "total_sales        0\n",
       "critic_score    8469\n",
       "user_score      8991\n",
       "esrb_rating        0\n",
       "dtype: int64"
      ]
     },
     "metadata": {},
     "output_type": "display_data"
    }
   ],
   "source": [
    "# Код ревьюера\n",
    "print(df.dtypes)\n",
    "display(df.isna().sum())"
   ]
  },
  {
   "cell_type": "markdown",
   "metadata": {},
   "source": [
    "### Анализ и обработка дубликатов"
   ]
  },
  {
   "cell_type": "markdown",
   "metadata": {},
   "source": [
    "#### Явные дубликаты"
   ]
  },
  {
   "cell_type": "code",
   "execution_count": 34,
   "metadata": {},
   "outputs": [
    {
     "data": {
      "text/plain": [
       "0"
      ]
     },
     "execution_count": 34,
     "metadata": {},
     "output_type": "execute_result"
    }
   ],
   "source": [
    "df.duplicated().sum()"
   ]
  },
  {
   "cell_type": "code",
   "execution_count": 35,
   "metadata": {},
   "outputs": [
    {
     "name": "stdout",
     "output_type": "stream",
     "text": [
      "<class 'pandas.core.frame.DataFrame'>\n",
      "Int64Index: 16462 entries, 0 to 16714\n",
      "Data columns (total 12 columns):\n",
      " #   Column        Non-Null Count  Dtype  \n",
      "---  ------        --------------  -----  \n",
      " 0   name          16462 non-null  object \n",
      " 1   platform      16462 non-null  object \n",
      " 2   year          16462 non-null  int32  \n",
      " 3   genre         16462 non-null  object \n",
      " 4   na_sales      16462 non-null  float32\n",
      " 5   eu_sales      16462 non-null  float32\n",
      " 6   jp_sales      16462 non-null  float32\n",
      " 7   other_sales   16462 non-null  float32\n",
      " 8   total_sales   16462 non-null  float64\n",
      " 9   critic_score  7993 non-null   float64\n",
      " 10  user_score    7471 non-null   float64\n",
      " 11  esrb_rating   16462 non-null  object \n",
      "dtypes: float32(4), float64(3), int32(1), object(4)\n",
      "memory usage: 1.3+ MB\n"
     ]
    }
   ],
   "source": [
    "df.info()"
   ]
  },
  {
   "cell_type": "markdown",
   "metadata": {},
   "source": [
    "#### Неявные дубликаты"
   ]
  },
  {
   "cell_type": "code",
   "execution_count": 36,
   "metadata": {},
   "outputs": [
    {
     "data": {
      "text/plain": [
       "array(['Wii', 'NES', 'GB', 'DS', 'X360', 'PS3', 'PS2', 'SNES', 'GBA',\n",
       "       'PS4', '3DS', 'N64', 'PS', 'XB', 'PC', '2600', 'PSP', 'XOne',\n",
       "       'WiiU', 'GC', 'GEN', 'DC', 'PSV', 'SAT', 'SCD', 'WS', 'NG', 'TG16',\n",
       "       '3DO', 'GG', 'PCFX'], dtype=object)"
      ]
     },
     "execution_count": 36,
     "metadata": {},
     "output_type": "execute_result"
    }
   ],
   "source": [
    "df.platform.unique()"
   ]
  },
  {
   "cell_type": "code",
   "execution_count": 37,
   "metadata": {},
   "outputs": [
    {
     "data": {
      "text/plain": [
       "Action          3308\n",
       "Sports          2316\n",
       "Misc            1721\n",
       "Role-Playing    1481\n",
       "Shooter         1296\n",
       "Adventure       1293\n",
       "Racing          1230\n",
       "Platform         878\n",
       "Simulation       857\n",
       "Fighting         838\n",
       "Strategy         673\n",
       "Puzzle           569\n",
       "genre_1            1\n",
       "genre_2            1\n",
       "Name: genre, dtype: int64"
      ]
     },
     "execution_count": 37,
     "metadata": {},
     "output_type": "execute_result"
    }
   ],
   "source": [
    "df.genre.value_counts()"
   ]
  },
  {
   "cell_type": "code",
   "execution_count": 38,
   "metadata": {},
   "outputs": [
    {
     "data": {
      "text/plain": [
       "Need for Speed: Most Wanted           12\n",
       "Ratatouille                            9\n",
       "LEGO Marvel Super Heroes               9\n",
       "FIFA 14                                9\n",
       "Madden NFL 07                          8\n",
       "                                      ..\n",
       "Taito Legends Power Up                 1\n",
       "Sonic Adventure 2 Battle               1\n",
       "Macross 30: Ginga o Tsunagu Utagoe     1\n",
       "Puzzle & Action: Tant-R                1\n",
       "Ys: The Oath in Felghana               1\n",
       "Name: name, Length: 11435, dtype: int64"
      ]
     },
     "execution_count": 38,
     "metadata": {},
     "output_type": "execute_result"
    }
   ],
   "source": [
    "df.name.value_counts()"
   ]
  },
  {
   "cell_type": "code",
   "execution_count": 39,
   "metadata": {},
   "outputs": [
    {
     "data": {
      "text/html": [
       "<div>\n",
       "<style scoped>\n",
       "    .dataframe tbody tr th:only-of-type {\n",
       "        vertical-align: middle;\n",
       "    }\n",
       "\n",
       "    .dataframe tbody tr th {\n",
       "        vertical-align: top;\n",
       "    }\n",
       "\n",
       "    .dataframe thead th {\n",
       "        text-align: right;\n",
       "    }\n",
       "</style>\n",
       "<table border=\"1\" class=\"dataframe\">\n",
       "  <thead>\n",
       "    <tr style=\"text-align: right;\">\n",
       "      <th></th>\n",
       "      <th>name</th>\n",
       "      <th>platform</th>\n",
       "      <th>year</th>\n",
       "      <th>genre</th>\n",
       "      <th>na_sales</th>\n",
       "      <th>eu_sales</th>\n",
       "      <th>jp_sales</th>\n",
       "      <th>other_sales</th>\n",
       "      <th>total_sales</th>\n",
       "      <th>critic_score</th>\n",
       "      <th>user_score</th>\n",
       "      <th>esrb_rating</th>\n",
       "    </tr>\n",
       "  </thead>\n",
       "  <tbody>\n",
       "    <tr>\n",
       "      <th>253</th>\n",
       "      <td>Need for Speed: Most Wanted</td>\n",
       "      <td>PS2</td>\n",
       "      <td>2005</td>\n",
       "      <td>Racing</td>\n",
       "      <td>2.03</td>\n",
       "      <td>1.79</td>\n",
       "      <td>0.08</td>\n",
       "      <td>0.47</td>\n",
       "      <td>4.37</td>\n",
       "      <td>82.0</td>\n",
       "      <td>9.1</td>\n",
       "      <td>T</td>\n",
       "    </tr>\n",
       "    <tr>\n",
       "      <th>523</th>\n",
       "      <td>Need for Speed: Most Wanted</td>\n",
       "      <td>PS3</td>\n",
       "      <td>2012</td>\n",
       "      <td>Racing</td>\n",
       "      <td>0.71</td>\n",
       "      <td>1.46</td>\n",
       "      <td>0.06</td>\n",
       "      <td>0.58</td>\n",
       "      <td>2.81</td>\n",
       "      <td>NaN</td>\n",
       "      <td>NaN</td>\n",
       "      <td>no_rating</td>\n",
       "    </tr>\n",
       "    <tr>\n",
       "      <th>1190</th>\n",
       "      <td>Need for Speed: Most Wanted</td>\n",
       "      <td>X360</td>\n",
       "      <td>2012</td>\n",
       "      <td>Racing</td>\n",
       "      <td>0.62</td>\n",
       "      <td>0.78</td>\n",
       "      <td>0.01</td>\n",
       "      <td>0.15</td>\n",
       "      <td>1.56</td>\n",
       "      <td>83.0</td>\n",
       "      <td>8.5</td>\n",
       "      <td>T</td>\n",
       "    </tr>\n",
       "    <tr>\n",
       "      <th>1591</th>\n",
       "      <td>Need for Speed: Most Wanted</td>\n",
       "      <td>X360</td>\n",
       "      <td>2005</td>\n",
       "      <td>Racing</td>\n",
       "      <td>1.00</td>\n",
       "      <td>0.13</td>\n",
       "      <td>0.02</td>\n",
       "      <td>0.10</td>\n",
       "      <td>1.25</td>\n",
       "      <td>83.0</td>\n",
       "      <td>8.5</td>\n",
       "      <td>T</td>\n",
       "    </tr>\n",
       "    <tr>\n",
       "      <th>1998</th>\n",
       "      <td>Need for Speed: Most Wanted</td>\n",
       "      <td>XB</td>\n",
       "      <td>2005</td>\n",
       "      <td>Racing</td>\n",
       "      <td>0.53</td>\n",
       "      <td>0.46</td>\n",
       "      <td>0.00</td>\n",
       "      <td>0.05</td>\n",
       "      <td>1.04</td>\n",
       "      <td>83.0</td>\n",
       "      <td>8.8</td>\n",
       "      <td>T</td>\n",
       "    </tr>\n",
       "    <tr>\n",
       "      <th>2048</th>\n",
       "      <td>Need for Speed: Most Wanted</td>\n",
       "      <td>PSV</td>\n",
       "      <td>2012</td>\n",
       "      <td>Racing</td>\n",
       "      <td>0.33</td>\n",
       "      <td>0.45</td>\n",
       "      <td>0.01</td>\n",
       "      <td>0.22</td>\n",
       "      <td>1.01</td>\n",
       "      <td>NaN</td>\n",
       "      <td>NaN</td>\n",
       "      <td>no_rating</td>\n",
       "    </tr>\n",
       "    <tr>\n",
       "      <th>3581</th>\n",
       "      <td>Need for Speed: Most Wanted</td>\n",
       "      <td>GC</td>\n",
       "      <td>2005</td>\n",
       "      <td>Racing</td>\n",
       "      <td>0.43</td>\n",
       "      <td>0.11</td>\n",
       "      <td>0.00</td>\n",
       "      <td>0.02</td>\n",
       "      <td>0.56</td>\n",
       "      <td>80.0</td>\n",
       "      <td>9.1</td>\n",
       "      <td>T</td>\n",
       "    </tr>\n",
       "    <tr>\n",
       "      <th>5972</th>\n",
       "      <td>Need for Speed: Most Wanted</td>\n",
       "      <td>PC</td>\n",
       "      <td>2005</td>\n",
       "      <td>Racing</td>\n",
       "      <td>0.02</td>\n",
       "      <td>0.23</td>\n",
       "      <td>0.00</td>\n",
       "      <td>0.04</td>\n",
       "      <td>0.29</td>\n",
       "      <td>82.0</td>\n",
       "      <td>8.5</td>\n",
       "      <td>T</td>\n",
       "    </tr>\n",
       "    <tr>\n",
       "      <th>6273</th>\n",
       "      <td>Need for Speed: Most Wanted</td>\n",
       "      <td>WiiU</td>\n",
       "      <td>2013</td>\n",
       "      <td>Racing</td>\n",
       "      <td>0.13</td>\n",
       "      <td>0.12</td>\n",
       "      <td>0.00</td>\n",
       "      <td>0.02</td>\n",
       "      <td>0.27</td>\n",
       "      <td>NaN</td>\n",
       "      <td>NaN</td>\n",
       "      <td>no_rating</td>\n",
       "    </tr>\n",
       "    <tr>\n",
       "      <th>6410</th>\n",
       "      <td>Need for Speed: Most Wanted</td>\n",
       "      <td>DS</td>\n",
       "      <td>2005</td>\n",
       "      <td>Racing</td>\n",
       "      <td>0.24</td>\n",
       "      <td>0.01</td>\n",
       "      <td>0.00</td>\n",
       "      <td>0.02</td>\n",
       "      <td>0.27</td>\n",
       "      <td>45.0</td>\n",
       "      <td>6.1</td>\n",
       "      <td>E</td>\n",
       "    </tr>\n",
       "    <tr>\n",
       "      <th>6473</th>\n",
       "      <td>Need for Speed: Most Wanted</td>\n",
       "      <td>GBA</td>\n",
       "      <td>2005</td>\n",
       "      <td>Racing</td>\n",
       "      <td>0.19</td>\n",
       "      <td>0.07</td>\n",
       "      <td>0.00</td>\n",
       "      <td>0.00</td>\n",
       "      <td>0.26</td>\n",
       "      <td>NaN</td>\n",
       "      <td>8.3</td>\n",
       "      <td>E</td>\n",
       "    </tr>\n",
       "    <tr>\n",
       "      <th>11715</th>\n",
       "      <td>Need for Speed: Most Wanted</td>\n",
       "      <td>PC</td>\n",
       "      <td>2012</td>\n",
       "      <td>Racing</td>\n",
       "      <td>0.00</td>\n",
       "      <td>0.06</td>\n",
       "      <td>0.00</td>\n",
       "      <td>0.02</td>\n",
       "      <td>0.08</td>\n",
       "      <td>82.0</td>\n",
       "      <td>8.5</td>\n",
       "      <td>T</td>\n",
       "    </tr>\n",
       "  </tbody>\n",
       "</table>\n",
       "</div>"
      ],
      "text/plain": [
       "                              name platform  year   genre  na_sales  eu_sales  \\\n",
       "253    Need for Speed: Most Wanted      PS2  2005  Racing      2.03      1.79   \n",
       "523    Need for Speed: Most Wanted      PS3  2012  Racing      0.71      1.46   \n",
       "1190   Need for Speed: Most Wanted     X360  2012  Racing      0.62      0.78   \n",
       "1591   Need for Speed: Most Wanted     X360  2005  Racing      1.00      0.13   \n",
       "1998   Need for Speed: Most Wanted       XB  2005  Racing      0.53      0.46   \n",
       "2048   Need for Speed: Most Wanted      PSV  2012  Racing      0.33      0.45   \n",
       "3581   Need for Speed: Most Wanted       GC  2005  Racing      0.43      0.11   \n",
       "5972   Need for Speed: Most Wanted       PC  2005  Racing      0.02      0.23   \n",
       "6273   Need for Speed: Most Wanted     WiiU  2013  Racing      0.13      0.12   \n",
       "6410   Need for Speed: Most Wanted       DS  2005  Racing      0.24      0.01   \n",
       "6473   Need for Speed: Most Wanted      GBA  2005  Racing      0.19      0.07   \n",
       "11715  Need for Speed: Most Wanted       PC  2012  Racing      0.00      0.06   \n",
       "\n",
       "       jp_sales  other_sales  total_sales  critic_score  user_score  \\\n",
       "253        0.08         0.47         4.37          82.0         9.1   \n",
       "523        0.06         0.58         2.81           NaN         NaN   \n",
       "1190       0.01         0.15         1.56          83.0         8.5   \n",
       "1591       0.02         0.10         1.25          83.0         8.5   \n",
       "1998       0.00         0.05         1.04          83.0         8.8   \n",
       "2048       0.01         0.22         1.01           NaN         NaN   \n",
       "3581       0.00         0.02         0.56          80.0         9.1   \n",
       "5972       0.00         0.04         0.29          82.0         8.5   \n",
       "6273       0.00         0.02         0.27           NaN         NaN   \n",
       "6410       0.00         0.02         0.27          45.0         6.1   \n",
       "6473       0.00         0.00         0.26           NaN         8.3   \n",
       "11715      0.00         0.02         0.08          82.0         8.5   \n",
       "\n",
       "      esrb_rating  \n",
       "253             T  \n",
       "523     no_rating  \n",
       "1190            T  \n",
       "1591            T  \n",
       "1998            T  \n",
       "2048    no_rating  \n",
       "3581            T  \n",
       "5972            T  \n",
       "6273    no_rating  \n",
       "6410            E  \n",
       "6473            E  \n",
       "11715           T  "
      ]
     },
     "execution_count": 39,
     "metadata": {},
     "output_type": "execute_result"
    }
   ],
   "source": [
    "df[df['name'] == 'Need for Speed: Most Wanted']"
   ]
  },
  {
   "cell_type": "markdown",
   "metadata": {},
   "source": [
    "#### Промежуточный вывод\n",
    "<div style=\"border: dashed 10px; background-color:#6C7379; color:#ffffff; padding: 20px\">\n",
    "\n",
    "\n",
    "Явных дубликатов в данных нет. Некоторые игры представлены несколькими строками, отличие - год выпуска и платформа."
   ]
  },
  {
   "cell_type": "markdown",
   "metadata": {},
   "source": [
    "### Вывод\n",
    "<div style=\"border: dashed 10px; background-color:#6C7379; color:#ffffff; padding: 20px\">\n",
    "\n",
    "\n",
    "1. Стандартизированы названия столбцов, добавлены данные с общим количеством продаж и сгруппированы в порядке по смыслу.\n",
    "\n",
    "\n",
    "2. Изменен тип данных: столбцы с количественными данными переведены в тип с меньшим объемом памяти. Смешанные данные распределены на количественные и категоральные значения.\n",
    "\n",
    "\n",
    "3. Обработаны все пропущенные значения. Численные данные заменены на логичные по смыслу медианные значения для разработанных категорий. Строчные данные заменены на \"названия-заглушки\".\n",
    "\n",
    "\n",
    "4. Удалены 253 строки (1.5 % от начального количества).\n",
    "\n",
    "\n",
    "5. Обнаружено, что одна игра может быть представлена несколькими строками в зависимости от года выпуска и платформы."
   ]
  },
  {
   "cell_type": "markdown",
   "metadata": {},
   "source": [
    "## Исследовательский анализ данных"
   ]
  },
  {
   "cell_type": "markdown",
   "metadata": {},
   "source": [
    "### Анализ выпуска игр в разные годы"
   ]
  },
  {
   "cell_type": "code",
   "execution_count": 41,
   "metadata": {},
   "outputs": [
    {
     "data": {
      "text/plain": [
       "year\n",
       "1980       9\n",
       "1981      46\n",
       "1982      36\n",
       "1983      17\n",
       "1984      14\n",
       "1985      14\n",
       "1986      21\n",
       "1987      16\n",
       "1988      15\n",
       "1989      17\n",
       "1990      16\n",
       "1991      41\n",
       "1992      43\n",
       "1993      62\n",
       "1994     121\n",
       "1995     219\n",
       "1996     263\n",
       "1997     289\n",
       "1998     379\n",
       "1999     338\n",
       "2000     350\n",
       "2001     482\n",
       "2002     833\n",
       "2003     777\n",
       "2004     764\n",
       "2005     940\n",
       "2006    1008\n",
       "2007    1197\n",
       "2008    1430\n",
       "2009    1426\n",
       "2010    1255\n",
       "2011    1137\n",
       "2012     653\n",
       "2013     545\n",
       "2014     581\n",
       "2015     606\n",
       "2016     502\n",
       "Name: total_sales, dtype: int64"
      ]
     },
     "execution_count": 41,
     "metadata": {},
     "output_type": "execute_result"
    }
   ],
   "source": [
    "df.groupby('year')['total_sales'].count()"
   ]
  },
  {
   "cell_type": "code",
   "execution_count": 42,
   "metadata": {},
   "outputs": [
    {
     "data": {
      "image/png": "[encoded data removed]",
      "text/plain": [
       "<Figure size 432x288 with 1 Axes>"
      ]
     },
     "metadata": {
      "needs_background": "light"
     },
     "output_type": "display_data"
    }
   ],
   "source": [
    "plt.bar(\n",
    "    df['year'].value_counts().sort_values().index,\n",
    "    df.groupby('year')['total_sales'].sum().sort_values()\n",
    ")\n",
    "plt.title('Общее количество продаж в разные года')\n",
    "plt.ylabel(\"Количество продаж, млн\")\n",
    "plt.xlabel(\"Платформа\");"
   ]
  },
  {
   "cell_type": "markdown",
   "metadata": {},
   "source": [
    "#### Промежуточный вывод\n",
    "<div style=\"border: dashed 10px; background-color:#6C7379; color:#ffffff; padding: 20px\">\n",
    "\n",
    "\n",
    "1. Общее количество выпущенных игр закономерно растает из года в год. Исключением стал 2012 год, когда количество новых игр упало в 2 раза и держится на одном уровне вплоть до 2016 года.\n",
    "\n",
    "\n",
    "2. Количество новых игр в начале развития индустрии было очень мало. В период 1980-1994 года было выпущено 468 игр, что меньше за любой годовой период, начиная с 2001 года."
   ]
  },
  {
   "cell_type": "markdown",
   "metadata": {},
   "source": [
    "### Анализ продаж игр на разных платформах в разные годы"
   ]
  },
  {
   "cell_type": "code",
   "execution_count": 43,
   "metadata": {},
   "outputs": [
    {
     "data": {
      "text/html": [
       "<div>\n",
       "<style scoped>\n",
       "    .dataframe tbody tr th:only-of-type {\n",
       "        vertical-align: middle;\n",
       "    }\n",
       "\n",
       "    .dataframe tbody tr th {\n",
       "        vertical-align: top;\n",
       "    }\n",
       "\n",
       "    .dataframe thead th {\n",
       "        text-align: right;\n",
       "    }\n",
       "</style>\n",
       "<table border=\"1\" class=\"dataframe\">\n",
       "  <thead>\n",
       "    <tr style=\"text-align: right;\">\n",
       "      <th></th>\n",
       "      <th>total_sales</th>\n",
       "    </tr>\n",
       "    <tr>\n",
       "      <th>platform</th>\n",
       "      <th></th>\n",
       "    </tr>\n",
       "  </thead>\n",
       "  <tbody>\n",
       "    <tr>\n",
       "      <th>PS2</th>\n",
       "      <td>2136</td>\n",
       "    </tr>\n",
       "    <tr>\n",
       "      <th>DS</th>\n",
       "      <td>2122</td>\n",
       "    </tr>\n",
       "    <tr>\n",
       "      <th>PS3</th>\n",
       "      <td>1306</td>\n",
       "    </tr>\n",
       "    <tr>\n",
       "      <th>Wii</th>\n",
       "      <td>1286</td>\n",
       "    </tr>\n",
       "    <tr>\n",
       "      <th>X360</th>\n",
       "      <td>1234</td>\n",
       "    </tr>\n",
       "    <tr>\n",
       "      <th>PSP</th>\n",
       "      <td>1195</td>\n",
       "    </tr>\n",
       "    <tr>\n",
       "      <th>PS</th>\n",
       "      <td>1190</td>\n",
       "    </tr>\n",
       "    <tr>\n",
       "      <th>PC</th>\n",
       "      <td>958</td>\n",
       "    </tr>\n",
       "    <tr>\n",
       "      <th>GBA</th>\n",
       "      <td>811</td>\n",
       "    </tr>\n",
       "    <tr>\n",
       "      <th>XB</th>\n",
       "      <td>804</td>\n",
       "    </tr>\n",
       "    <tr>\n",
       "      <th>GC</th>\n",
       "      <td>542</td>\n",
       "    </tr>\n",
       "    <tr>\n",
       "      <th>3DS</th>\n",
       "      <td>512</td>\n",
       "    </tr>\n",
       "    <tr>\n",
       "      <th>PSV</th>\n",
       "      <td>429</td>\n",
       "    </tr>\n",
       "    <tr>\n",
       "      <th>PS4</th>\n",
       "      <td>392</td>\n",
       "    </tr>\n",
       "    <tr>\n",
       "      <th>N64</th>\n",
       "      <td>316</td>\n",
       "    </tr>\n",
       "    <tr>\n",
       "      <th>XOne</th>\n",
       "      <td>247</td>\n",
       "    </tr>\n",
       "    <tr>\n",
       "      <th>SNES</th>\n",
       "      <td>239</td>\n",
       "    </tr>\n",
       "    <tr>\n",
       "      <th>SAT</th>\n",
       "      <td>173</td>\n",
       "    </tr>\n",
       "    <tr>\n",
       "      <th>WiiU</th>\n",
       "      <td>147</td>\n",
       "    </tr>\n",
       "    <tr>\n",
       "      <th>2600</th>\n",
       "      <td>116</td>\n",
       "    </tr>\n",
       "    <tr>\n",
       "      <th>NES</th>\n",
       "      <td>98</td>\n",
       "    </tr>\n",
       "    <tr>\n",
       "      <th>GB</th>\n",
       "      <td>97</td>\n",
       "    </tr>\n",
       "    <tr>\n",
       "      <th>DC</th>\n",
       "      <td>52</td>\n",
       "    </tr>\n",
       "    <tr>\n",
       "      <th>GEN</th>\n",
       "      <td>29</td>\n",
       "    </tr>\n",
       "    <tr>\n",
       "      <th>NG</th>\n",
       "      <td>12</td>\n",
       "    </tr>\n",
       "    <tr>\n",
       "      <th>SCD</th>\n",
       "      <td>6</td>\n",
       "    </tr>\n",
       "    <tr>\n",
       "      <th>WS</th>\n",
       "      <td>6</td>\n",
       "    </tr>\n",
       "    <tr>\n",
       "      <th>3DO</th>\n",
       "      <td>3</td>\n",
       "    </tr>\n",
       "    <tr>\n",
       "      <th>TG16</th>\n",
       "      <td>2</td>\n",
       "    </tr>\n",
       "    <tr>\n",
       "      <th>PCFX</th>\n",
       "      <td>1</td>\n",
       "    </tr>\n",
       "    <tr>\n",
       "      <th>GG</th>\n",
       "      <td>1</td>\n",
       "    </tr>\n",
       "  </tbody>\n",
       "</table>\n",
       "</div>"
      ],
      "text/plain": [
       "          total_sales\n",
       "platform             \n",
       "PS2              2136\n",
       "DS               2122\n",
       "PS3              1306\n",
       "Wii              1286\n",
       "X360             1234\n",
       "PSP              1195\n",
       "PS               1190\n",
       "PC                958\n",
       "GBA               811\n",
       "XB                804\n",
       "GC                542\n",
       "3DS               512\n",
       "PSV               429\n",
       "PS4               392\n",
       "N64               316\n",
       "XOne              247\n",
       "SNES              239\n",
       "SAT               173\n",
       "WiiU              147\n",
       "2600              116\n",
       "NES                98\n",
       "GB                 97\n",
       "DC                 52\n",
       "GEN                29\n",
       "NG                 12\n",
       "SCD                 6\n",
       "WS                  6\n",
       "3DO                 3\n",
       "TG16                2\n",
       "PCFX                1\n",
       "GG                  1"
      ]
     },
     "execution_count": 43,
     "metadata": {},
     "output_type": "execute_result"
    }
   ],
   "source": [
    "(\n",
    " df.pivot_table(index='platform',\n",
    "               values='total_sales',\n",
    "               aggfunc='count')\n",
    "   .sort_values(by='total_sales', ascending=False)   \n",
    ")"
   ]
  },
  {
   "cell_type": "markdown",
   "metadata": {},
   "source": [
    "<div style=\"background-color:#6C7379; color:#ffffff; text-align:start; padding:2%\">\n",
    "    \n",
    "Построим распределение продаж по годам для платформ, на которых можно было играть в минимум 800 различных игр."
   ]
  },
  {
   "cell_type": "code",
   "execution_count": 45,
   "metadata": {},
   "outputs": [
    {
     "data": {
      "image/png": "[encoded data removed]",
      "text/plain": [
       "<Figure size 1080x720 with 1 Axes>"
      ]
     },
     "metadata": {
      "needs_background": "light"
     },
     "output_type": "display_data"
    }
   ],
   "source": [
    "df_pivot = df.pivot_table(index='year',\n",
    "                          columns='platform',\n",
    "                          values='total_sales',\n",
    "                          aggfunc='sum')\n",
    "\n",
    "df_pivot.plot(figsize=(15,10),\n",
    "                             marker='o',\n",
    "                             markersize=6,\n",
    "                             linewidth = 3,\n",
    "                             xlim=(1993, 2016),\n",
    "                             grid=True,\n",
    "                             title='Продажи игр топ-10 платформ по общему количеству игр (более 800 игр)',\n",
    "                             xlabel='Год выпуска',\n",
    "                             ylabel='Количество продаж, млн');"
   ]
  },
  {
   "cell_type": "markdown",
   "metadata": {},
   "source": [
    "#### Промежуточный вывод\n",
    "<div style=\"border: dashed 10px; background-color:#6C7379; color:#ffffff; padding: 20px\">\n",
    "\n",
    "\n",
    "1. Не все платформы одинаково популярны для выпуска игр: менее 100 игр выпустили сразу для 11 платформ. На самых популярных платформах можно играть более чем в 2000 разных игр.\n",
    "\n",
    "\n",
    "2. Абсолютно все платформы имеют свой \"цикл жизни\": в течение первых 2-4 лет идет увеличение количества новых игр и увеличение продаж, после чего также в течение 2-4 лет количество падает. В определенный момент игры могут вовсе перестают выпускаться. Полный \"цикл жизни\" платформы в среднем составляет 5-10 лет. Исключение - универсальный **PC**: новые игры на него выпускаются с начала 1990-х годов по сей день."
   ]
  },
  {
   "cell_type": "markdown",
   "metadata": {},
   "source": [
    "### Определение актуального периода для прогноза на 2017 год"
   ]
  },
  {
   "cell_type": "markdown",
   "metadata": {},
   "source": [
    "<div style=\"background-color:#6C7379; color:#ffffff; text-align:start; padding:2%\">\n",
    "\n",
    "Исходя из предыдущего анализа видно, что для большинства платформ игры больше не выпускаются. Популярные недавно платформы **DS** и **PSP** не имеют новых игр с 2013 и 2015 годов соответственно. В 2016 году новые игры появились только для четырех платформ: **PS3**, **X360**, **Wii** и **PC**.\n",
    "\n",
    "\n",
    "Цикл жизни первых трех платформ подходит к концу, поэтому имеет смысл анализировать только последние 3 года. Для **PC** каждый год новые игры выпускаются приблизительно одинаково и продаются также, поэтому для этой платформы также можно рассмотреть последние 3 года.\n",
    "\n",
    "\n",
    "Таким образом, получим новые данные, по которым можно будет составить прогноз на 2017 год."
   ]
  },
  {
   "cell_type": "code",
   "execution_count": 47,
   "metadata": {},
   "outputs": [],
   "source": [
    "df_relevant = df.query('year >= 2014').reset_index(drop=True)"
   ]
  },
  {
   "cell_type": "markdown",
   "metadata": {},
   "source": [
    "### Анализ продаж игр и потенциальной прибыльности"
   ]
  },
  {
   "cell_type": "code",
   "execution_count": 48,
   "metadata": {},
   "outputs": [
    {
     "data": {
      "image/png": "[encoded data removed]",
      "text/plain": [
       "<Figure size 720x504 with 1 Axes>"
      ]
     },
     "metadata": {
      "needs_background": "light"
     },
     "output_type": "display_data"
    }
   ],
   "source": [
    "(\n",
    "    df_relevant.pivot_table(\n",
    "        index='year',\n",
    "        columns='platform',\n",
    "        values='total_sales',\n",
    "        aggfunc='sum')\n",
    "    .plot(\n",
    "        figsize=(10, 7),\n",
    "        marker='o',\n",
    "        markersize=6,\n",
    "        linewidth=3,\n",
    "        grid=True,\n",
    "        title='Продажи новых игр актуальных платформ',\n",
    "        xlabel='Год выпуска',\n",
    "        ylabel='Количество продаж, млн'\n",
    "    )\n",
    ");\n",
    "x_ticks = [2014, 2015, 2016]\n",
    "plt.xticks(ticks=x_ticks)\n",
    "plt.legend(loc='upper left');"
   ]
  },
  {
   "cell_type": "markdown",
   "metadata": {},
   "source": [
    "#### Промежуточный вывод\n",
    "<div style=\"border: dashed 10px; background-color:#6C7379; color:#ffffff; padding: 20px\">\n",
    "\n",
    "\n",
    "1. В 2017 году новые игры будут продаваться не более, чем для 9 платформ. В 2016 году лидирами стали платформы **PS4**, **XOne** и **3DS**.\n",
    "\n",
    "\n",
    "2. Продажи новых игр в последние 3 года неуклонно падают. В 2016 году три лидирующие платформы имеют более 10 млн продаж."
   ]
  },
  {
   "cell_type": "markdown",
   "metadata": {},
   "source": [
    "### Анализ продажам игр на разных платформах за последние 3 года"
   ]
  },
  {
   "cell_type": "code",
   "execution_count": 49,
   "metadata": {},
   "outputs": [
    {
     "data": {
      "image/png": "[encoded data removed]",
      "text/plain": [
       "<Figure size 720x1080 with 1 Axes>"
      ]
     },
     "metadata": {
      "needs_background": "light"
     },
     "output_type": "display_data"
    }
   ],
   "source": [
    "df_relevant.boxplot(column='total_sales',\n",
    "                    by='platform',\n",
    "                    figsize=(10,15))\n",
    "plt.title('Количество продаж для разных платформ')\n",
    "plt.xlabel('Платформа')\n",
    "plt.ylabel('Количество продаж, млн');\n",
    "y_ticks = [0, 0.25, 0.5, 1, 1.5, 2.0, 2.5, 3.0, 3.5, 4.0, 4.5, 5, 6, 7, 8, 9, 10, 11, 12, 13, 14]\n",
    "plt.yticks(ticks=y_ticks);"
   ]
  },
  {
   "cell_type": "code",
   "execution_count": 86,
   "metadata": {},
   "outputs": [
    {
     "data": {
      "image/png": "[encoded data removed]",
      "text/plain": [
       "<Figure size 720x1080 with 1 Axes>"
      ]
     },
     "metadata": {
      "needs_background": "light"
     },
     "output_type": "display_data"
    }
   ],
   "source": [
    "# Код ревьюера\n",
    "df_relevant.boxplot(column='total_sales',\n",
    "                    by='platform',\n",
    "                    figsize=(10,15))\n",
    "plt.title('Количество продаж для разных платформ')\n",
    "plt.xlabel('Платформа')\n",
    "plt.ylabel('Количество продаж, млн')\n",
    "plt.ylim(0, 2)\n",
    "plt.show()"
   ]
  },
  {
   "cell_type": "markdown",
   "metadata": {},
   "source": [
    "#### Промежуточный вывод\n",
    "<div style=\"border: dashed 10px; background-color:#6C7379; color:#ffffff; padding: 20px\">\n",
    "\n",
    "\n",
    "1. Медианные значения продаж всех платформ находятся на уровне менее 250 тысяч. Большинство платформ имеют многочисленные выбросы: показатели продаж отдельной игры могу превышать средние значения в десятки раз. \n",
    "\n",
    "\n",
    "2. Данная диаграмма подтверждает предыдущее заключение: платформы **PS4**, **XOne** и **3DS** выглядят ниаболее перспктивными для продаж. У них самый большой межквартильный размах, а также больше количество выбросов, превышающих средние значения."
   ]
  },
  {
   "cell_type": "markdown",
   "metadata": {},
   "source": [
    "### Анализ корреляции продаж и оценкой пользователей / критиков"
   ]
  },
  {
   "cell_type": "code",
   "execution_count": 51,
   "metadata": {},
   "outputs": [],
   "source": [
    "df_relevant_score = df_relevant.query('~(user_score.isna()) and ~(critic_score.isna())')"
   ]
  },
  {
   "cell_type": "code",
   "execution_count": 52,
   "metadata": {},
   "outputs": [
    {
     "name": "stdout",
     "output_type": "stream",
     "text": [
      "<class 'pandas.core.frame.DataFrame'>\n",
      "Int64Index: 704 entries, 1 to 1682\n",
      "Data columns (total 12 columns):\n",
      " #   Column        Non-Null Count  Dtype  \n",
      "---  ------        --------------  -----  \n",
      " 0   name          704 non-null    object \n",
      " 1   platform      704 non-null    object \n",
      " 2   year          704 non-null    int32  \n",
      " 3   genre         704 non-null    object \n",
      " 4   na_sales      704 non-null    float32\n",
      " 5   eu_sales      704 non-null    float32\n",
      " 6   jp_sales      704 non-null    float32\n",
      " 7   other_sales   704 non-null    float32\n",
      " 8   total_sales   704 non-null    float64\n",
      " 9   critic_score  704 non-null    float64\n",
      " 10  user_score    704 non-null    float64\n",
      " 11  esrb_rating   704 non-null    object \n",
      "dtypes: float32(4), float64(3), int32(1), object(4)\n",
      "memory usage: 57.8+ KB\n"
     ]
    }
   ],
   "source": [
    "df_relevant_score.info()"
   ]
  },
  {
   "cell_type": "markdown",
   "metadata": {},
   "source": [
    "#### Платформа ``PS4``"
   ]
  },
  {
   "cell_type": "code",
   "execution_count": 53,
   "metadata": {
    "scrolled": true
   },
   "outputs": [
    {
     "data": {
      "image/png": "[encoded data removed]",
      "text/plain": [
       "<Figure size 360x360 with 1 Axes>"
      ]
     },
     "metadata": {
      "needs_background": "light"
     },
     "output_type": "display_data"
    }
   ],
   "source": [
    "# диаграмма рассеяния для оценки пользователей\n",
    "df_relevant_score[df_relevant_score['platform'] == 'PS4'].plot(x='total_sales',\n",
    "                                                   y='user_score',\n",
    "                                                   kind='scatter',\n",
    "                                                   alpha=0.3,\n",
    "                                                   figsize=(5, 5),\n",
    "                                                   title='Диаграмма рассеяния игр (кол-во продаж / оценка пользователей) для PS4',\n",
    "                                                   xlabel='Количество продаж, млн',\n",
    "                                                   ylabel='Оценка пользователей');"
   ]
  },
  {
   "cell_type": "code",
   "execution_count": 54,
   "metadata": {},
   "outputs": [
    {
     "data": {
      "image/png": "[encoded data removed]",
      "text/plain": [
       "<Figure size 360x360 with 1 Axes>"
      ]
     },
     "metadata": {
      "needs_background": "light"
     },
     "output_type": "display_data"
    }
   ],
   "source": [
    "# диаграмма рассеяния для оценки критиков\n",
    "df_relevant_score[df_relevant_score['platform'] == 'PS4'].plot(x='total_sales',\n",
    "                                                   y='critic_score',\n",
    "                                                   kind='scatter',\n",
    "                                                   alpha=0.3,\n",
    "                                                   figsize=(5, 5),\n",
    "                                                   title='Диаграмма рассеяния игр (кол-во продаж / оценка критиков) для PS4',\n",
    "                                                   xlabel='Количество продаж, млн',\n",
    "                                                   ylabel='Оценка критиков');"
   ]
  },
  {
   "cell_type": "code",
   "execution_count": 55,
   "metadata": {},
   "outputs": [
    {
     "data": {
      "text/plain": [
       "-0.04318585997193634"
      ]
     },
     "execution_count": 55,
     "metadata": {},
     "output_type": "execute_result"
    }
   ],
   "source": [
    "# корреляция продаж / оценки пользователей\n",
    "df_relevant_score.query('platform == \"PS4\"')['total_sales'].corr(df_relevant['user_score'])"
   ]
  },
  {
   "cell_type": "code",
   "execution_count": 56,
   "metadata": {},
   "outputs": [
    {
     "data": {
      "text/plain": [
       "0.40190287811475334"
      ]
     },
     "execution_count": 56,
     "metadata": {},
     "output_type": "execute_result"
    }
   ],
   "source": [
    "# корреляция продаж / оценки критиков\n",
    "df_relevant_score.query('platform == \"PS4\"')['total_sales'].corr(df_relevant['critic_score'])"
   ]
  },
  {
   "cell_type": "markdown",
   "metadata": {},
   "source": [
    "#### Платформа ``XOne``"
   ]
  },
  {
   "cell_type": "code",
   "execution_count": 57,
   "metadata": {
    "scrolled": true
   },
   "outputs": [
    {
     "data": {
      "image/png": "[encoded data removed]",
      "text/plain": [
       "<Figure size 360x360 with 1 Axes>"
      ]
     },
     "metadata": {
      "needs_background": "light"
     },
     "output_type": "display_data"
    }
   ],
   "source": [
    "# диаграмма рассеяния для оценки пользователей\n",
    "df_relevant_score[df_relevant_score['platform'] == 'XOne'].plot(x='total_sales',\n",
    "                                                   y='user_score',\n",
    "                                                   kind='scatter',\n",
    "                                                   alpha=0.3,\n",
    "                                                   figsize=(5, 5),\n",
    "                                                   title='Диаграмма рассеяния игр (кол-во продаж / оценка пользователей) для XOne',\n",
    "                                                   xlabel='Количество продаж, млн',\n",
    "                                                   ylabel='Оценка пользователей');"
   ]
  },
  {
   "cell_type": "code",
   "execution_count": 58,
   "metadata": {},
   "outputs": [
    {
     "data": {
      "image/png": "[encoded data removed]",
      "text/plain": [
       "<Figure size 360x360 with 1 Axes>"
      ]
     },
     "metadata": {
      "needs_background": "light"
     },
     "output_type": "display_data"
    }
   ],
   "source": [
    "# диаграмма рассеяния для оценки критиков\n",
    "df_relevant_score[df_relevant_score['platform'] == 'XOne'].plot(x='total_sales',\n",
    "                                                   y='critic_score',\n",
    "                                                   kind='scatter',\n",
    "                                                   alpha=0.3,\n",
    "                                                   figsize=(5, 5),\n",
    "                                                   title='Диаграмма рассеяния игр (кол-во продаж / оценка критиков) для XOne',\n",
    "                                                   xlabel='Количество продаж, млн',\n",
    "                                                   ylabel='Оценка критиков');"
   ]
  },
  {
   "cell_type": "code",
   "execution_count": 59,
   "metadata": {},
   "outputs": [
    {
     "data": {
      "text/plain": [
       "-0.09173434503310748"
      ]
     },
     "execution_count": 59,
     "metadata": {},
     "output_type": "execute_result"
    }
   ],
   "source": [
    "# корреляция продаж / оценки пользователей\n",
    "df_relevant_score.query('platform == \"XOne\"')['total_sales'].corr(df_relevant['user_score'])"
   ]
  },
  {
   "cell_type": "code",
   "execution_count": 60,
   "metadata": {
    "scrolled": true
   },
   "outputs": [
    {
     "data": {
      "text/plain": [
       "0.4221118510555765"
      ]
     },
     "execution_count": 60,
     "metadata": {},
     "output_type": "execute_result"
    }
   ],
   "source": [
    "# корреляция продаж / оценки критиков\n",
    "df_relevant_score.query('platform == \"XOne\"')['total_sales'].corr(df_relevant['critic_score'])"
   ]
  },
  {
   "cell_type": "markdown",
   "metadata": {},
   "source": [
    "#### Платформа ``3DS``"
   ]
  },
  {
   "cell_type": "code",
   "execution_count": 61,
   "metadata": {
    "scrolled": true
   },
   "outputs": [
    {
     "data": {
      "image/png": "[encoded data removed]",
      "text/plain": [
       "<Figure size 360x360 with 1 Axes>"
      ]
     },
     "metadata": {
      "needs_background": "light"
     },
     "output_type": "display_data"
    }
   ],
   "source": [
    "# диаграмма рассеяния для оценки пользователей\n",
    "df_relevant_score[df_relevant_score['platform'] == '3DS'].plot(x='total_sales',\n",
    "                                                   y='user_score',\n",
    "                                                   kind='scatter',\n",
    "                                                   alpha=0.3,\n",
    "                                                   figsize=(5, 5),\n",
    "                                                   title='Диаграмма рассеяния игр (кол-во продаж / оценка пользователей) для 3DS',\n",
    "                                                   xlabel='Количество продаж, млн',\n",
    "                                                   ylabel='Оценка пользователей');"
   ]
  },
  {
   "cell_type": "code",
   "execution_count": 62,
   "metadata": {},
   "outputs": [
    {
     "data": {
      "image/png": "[encoded data removed]",
      "text/plain": [
       "<Figure size 360x360 with 1 Axes>"
      ]
     },
     "metadata": {
      "needs_background": "light"
     },
     "output_type": "display_data"
    }
   ],
   "source": [
    "# диаграмма рассеяния для оценки критиков\n",
    "df_relevant_score[df_relevant_score['platform'] == '3DS'].plot(x='total_sales',\n",
    "                                                   y='critic_score',\n",
    "                                                   kind='scatter',\n",
    "                                                   alpha=0.3,\n",
    "                                                   figsize=(5, 5),\n",
    "                                                   title='Диаграмма рассеяния игр (кол-во продаж / оценка критиков) для 3DS',\n",
    "                                                   xlabel='Количество продаж, млн',\n",
    "                                                   ylabel='Оценка критиков');"
   ]
  },
  {
   "cell_type": "code",
   "execution_count": 63,
   "metadata": {},
   "outputs": [
    {
     "data": {
      "text/plain": [
       "0.2798498792503281"
      ]
     },
     "execution_count": 63,
     "metadata": {},
     "output_type": "execute_result"
    }
   ],
   "source": [
    "# корреляция продаж / оценки пользователей\n",
    "df_relevant_score.query('platform == \"3DS\"')['total_sales'].corr(df_relevant['user_score'])"
   ]
  },
  {
   "cell_type": "code",
   "execution_count": 64,
   "metadata": {
    "scrolled": true
   },
   "outputs": [
    {
     "data": {
      "text/plain": [
       "0.28468579095782925"
      ]
     },
     "execution_count": 64,
     "metadata": {},
     "output_type": "execute_result"
    }
   ],
   "source": [
    "# корреляция продаж / оценки критиков\n",
    "df_relevant_score.query('platform == \"3DS\"')['total_sales'].corr(df_relevant['critic_score'])"
   ]
  },
  {
   "cell_type": "markdown",
   "metadata": {},
   "source": [
    "#### Платформа ``PC``"
   ]
  },
  {
   "cell_type": "code",
   "execution_count": 65,
   "metadata": {
    "scrolled": true
   },
   "outputs": [
    {
     "data": {
      "image/png": "[encoded data removed]",
      "text/plain": [
       "<Figure size 360x360 with 1 Axes>"
      ]
     },
     "metadata": {
      "needs_background": "light"
     },
     "output_type": "display_data"
    }
   ],
   "source": [
    "# диаграмма рассеяния для оценки пользователей\n",
    "df_relevant_score[df_relevant_score['platform'] == 'PC'].plot(x='total_sales',\n",
    "                                                   y='user_score',\n",
    "                                                   kind='scatter',\n",
    "                                                   alpha=0.3,\n",
    "                                                   figsize=(5, 5),\n",
    "                                                   title='Диаграмма рассеяния игр (кол-во продаж / оценка пользователей) для PC',\n",
    "                                                   xlabel='Количество продаж, млн',\n",
    "                                                   ylabel='Оценка пользователей');"
   ]
  },
  {
   "cell_type": "code",
   "execution_count": 66,
   "metadata": {},
   "outputs": [
    {
     "data": {
      "image/png": "[encoded data removed]",
      "text/plain": [
       "<Figure size 360x360 with 1 Axes>"
      ]
     },
     "metadata": {
      "needs_background": "light"
     },
     "output_type": "display_data"
    }
   ],
   "source": [
    "# диаграмма рассеяния для оценки критиков\n",
    "df_relevant_score[df_relevant_score['platform'] == 'PC'].plot(x='total_sales',\n",
    "                                                   y='critic_score',\n",
    "                                                   kind='scatter',\n",
    "                                                   alpha=0.3,\n",
    "                                                   figsize=(5, 5),\n",
    "                                                   title='Диаграмма рассеяния игр (кол-во продаж / оценка критиков) для PC',\n",
    "                                                   xlabel='Количество продаж, млн',\n",
    "                                                   ylabel='Оценка критиков');"
   ]
  },
  {
   "cell_type": "code",
   "execution_count": 67,
   "metadata": {},
   "outputs": [
    {
     "data": {
      "text/plain": [
       "-0.08997391228554938"
      ]
     },
     "execution_count": 67,
     "metadata": {},
     "output_type": "execute_result"
    }
   ],
   "source": [
    "# корреляция продаж / оценки пользователей\n",
    "df_relevant_score.query('platform == \"PC\"')['total_sales'].corr(df_relevant['user_score'])"
   ]
  },
  {
   "cell_type": "code",
   "execution_count": 68,
   "metadata": {
    "scrolled": true
   },
   "outputs": [
    {
     "data": {
      "text/plain": [
       "0.17206091490145103"
      ]
     },
     "execution_count": 68,
     "metadata": {},
     "output_type": "execute_result"
    }
   ],
   "source": [
    "# корреляция продаж / оценки критиков\n",
    "df_relevant_score.query('platform == \"PC\"')['total_sales'].corr(df_relevant['critic_score'])"
   ]
  },
  {
   "cell_type": "markdown",
   "metadata": {},
   "source": [
    "#### Промежуточный вывод\n",
    "<div style=\"border: dashed 10px; background-color:#6C7379; color:#ffffff; padding: 20px\">\n",
    "\n",
    "Для четырех самых популярных за последние 3 года платформ выявлены закономерности:\n",
    "    \n",
    "1. Корреляция между количеством продаж и оценкой пользователей слабая (-0.04, -0.09, 0.27 и -0.08). Это говорит о том, что чаще всего связи между ними нет. Возможно, люди заранее выбирают те игры, которые им могут понравиться, и ставят хорошие оценки, но не обязательно покупают самые продающиеся варианты.\n",
    "\n",
    "\n",
    "2. Корреляция между количеством продаж и оценкой критиков всегда положиетльная и сильнее (0.40, 0.42, 0.28 и 0.17). Это говорит о том, что в критики чаще положительно оценивают те игры, которые хорошо продаются, или, наоборот, хорошо продаются те игры, которые хорошо оцениваются критиками. Однако связь недостаточно сильная, чтобы точно полагаться на оценку критиков при планировании продаж.\n",
    "    \n",
    "    \n",
    "3. Платформа `3DS` имеет игры, которые одинаково оцениваются как критиками, так и пользователями. Но связь недостаточно сильная.\n",
    "    \n",
    "    \n",
    "4. Для остальных платформ полагаться на оценку критиков стоит чаще, чем на оценку пользователей."
   ]
  },
  {
   "cell_type": "markdown",
   "metadata": {},
   "source": [
    "### Анализ продаж игр в зависимости от жанра"
   ]
  },
  {
   "cell_type": "code",
   "execution_count": 69,
   "metadata": {},
   "outputs": [
    {
     "data": {
      "text/plain": [
       "genre\n",
       "Puzzle            2.21\n",
       "Strategy          3.96\n",
       "Simulation       13.13\n",
       "Adventure        17.55\n",
       "Platform         18.09\n",
       "Racing           27.52\n",
       "Fighting         28.22\n",
       "Misc             37.55\n",
       "Role-Playing    101.44\n",
       "Sports          109.48\n",
       "Shooter         170.94\n",
       "Action          199.36\n",
       "Name: total_sales, dtype: float64"
      ]
     },
     "execution_count": 69,
     "metadata": {},
     "output_type": "execute_result"
    }
   ],
   "source": [
    "df_relevant.groupby('genre')['total_sales'].sum().sort_values()"
   ]
  },
  {
   "cell_type": "code",
   "execution_count": 70,
   "metadata": {},
   "outputs": [
    {
     "data": {
      "image/png": "[encoded data removed]",
      "text/plain": [
       "<Figure size 1080x360 with 1 Axes>"
      ]
     },
     "metadata": {
      "needs_background": "light"
     },
     "output_type": "display_data"
    }
   ],
   "source": [
    "plt.figure(figsize=(15, 5))\n",
    "\n",
    "plt.bar(\n",
    "    df_relevant.groupby('genre')['total_sales'].sum().sort_values().index,\n",
    "    df_relevant.groupby('genre')['total_sales'].sum().sort_values()\n",
    ")\n",
    "plt.title('Количество продаж в зависимости от жанра')\n",
    "plt.grid(True)\n",
    "plt.xlabel(\"Жанр\")\n",
    "plt.ylabel(\"Количество продаж, млн\");"
   ]
  },
  {
   "cell_type": "code",
   "execution_count": 71,
   "metadata": {},
   "outputs": [
    {
     "data": {
      "image/png": "[encoded data removed]",
      "text/plain": [
       "<Figure size 1080x360 with 1 Axes>"
      ]
     },
     "metadata": {
      "needs_background": "light"
     },
     "output_type": "display_data"
    }
   ],
   "source": [
    "plt.figure(figsize=(15, 5))\n",
    "\n",
    "plt.bar(\n",
    "    df_relevant.groupby('genre')['total_sales'].median().sort_values().index,\n",
    "    df_relevant.groupby('genre')['total_sales'].median().sort_values()\n",
    ")\n",
    "plt.title('Медианные продажи в зависимости от жанра')\n",
    "plt.grid(True)\n",
    "plt.xlabel(\"Жанр\")\n",
    "plt.ylabel(\"Количество продаж, млн\");"
   ]
  },
  {
   "cell_type": "markdown",
   "metadata": {},
   "source": [
    "#### Промежуточный вывод\n",
    "<div style=\"border: dashed 10px; background-color:#6C7379; color:#ffffff; padding: 20px\">\n",
    "\n",
    "\n",
    "1. Количество продаж неравномерно распределено по жанрам:\n",
    "   - топ-3 самых продающихся: **Action** (199.36 млн), **Shooter** (170.94 млн) и **Sports** (109.48 млн)\n",
    "   - худшие по продажам: **Puzzle** (2.21 млн) и **Strategy** (3.96 млн)\n",
    "    \n",
    "    \n",
    "2. Самый прибыльный жанр можно определить не только по общему количеству продаж, но и по медианному значению продажи для одной игры. В этом случае ситуация меняется:\n",
    "    - не перврое место с большим отрывом выходит жанр **Shooter**\n",
    "    - далее идет плавное снижение по все жанрам (**Sports** сохраняет лидирующие позиции, а **Action** теряет их)\n",
    "    - **Puzzle** и **Strategy** по-прежнему составляют тройку худших по продажам"
   ]
  },
  {
   "cell_type": "code",
   "execution_count": 72,
   "metadata": {},
   "outputs": [
    {
     "data": {
      "text/plain": [
       "array(['PS4', '3DS', 'XOne', 'WiiU', 'PS3', 'X360', 'PC', 'Wii', 'PSV',\n",
       "       'PSP'], dtype=object)"
      ]
     },
     "execution_count": 72,
     "metadata": {},
     "output_type": "execute_result"
    }
   ],
   "source": [
    "df_relevant.platform.unique()"
   ]
  },
  {
   "cell_type": "markdown",
   "metadata": {},
   "source": [
    "### Вывод\n",
    "<div style=\"border: dashed 10px; background-color:#6C7379; color:#ffffff; padding: 20px\">\n",
    "\n",
    "\n",
    "1. В начале развития индустрии новых игр было очень мало (до 1994 года выпускалось менее 100 игр в год). Далее последовал скачок, и с каждым годом игр становилось на порядок больше. Максимум новых игр зафиксировано в 2009 году (1426), после чего уровень постепенно уменьшается и составляет 502 игры в 2016 году.\n",
    "\n",
    "\n",
    "2. Абсолютно все платформы имеют свой \"цикл жизни\" в 5-10 лет: сначала новы игр выходит больше, затем снижается и далее новые игры не выходят. Исключение - универсальный **PC**: игры на него выпускаются с начала 1990-х годов по сей день.\n",
    "\n",
    "\n",
    "3. За основу прогноза взяты данные трех последних лет по 10 плафтормам, новые игры на которые по-прежнему выпускаются: **PS4**, **3DS**, **XOne**, **WiiU**, **PS3**, **X360**, **PC**, **Wii**, **PSV** и **PSP**.\n",
    "\n",
    "\n",
    "4. Продажи новых игр в последние 3 года неуклонно падают. В 2016 году три лидирующие платформы (**PS4**, **3DS**, **XOne**) имеют более 10 млн продаж.\n",
    "\n",
    "\n",
    "5. Медианные значения продаж всех платформ находятся на уровне 250 тысяч. Медианные значения продаж также подтверждают вывод о том, что самые популярные платформы - это **PS4**, **3DS**, **XOne**.\n",
    "\n",
    "\n",
    "6. Корреляция между количеством продаж и оценкой пользователей - слабая, однако для оценки критиков ситуация лучше: последние чаще положительно оценивают те игры, которые будут хорошо продаваться, или, наоборот, хорошо продаются те игры, которые хорошо оцениваются критиками.\n",
    "\n",
    "\n",
    "7. Топ-3 самых продающихся жанров за последние 3 года: **Action** (199.36 млн), **Shooter** (170.94 млн) и **Sports** (109.48 млн). Хуже всего продаются: **Puzzle** (2.21 млн) и **Strategy** (3.96 млн).\n",
    "    \n",
    "    \n",
    "8. Самый прибыльный жанр по среднему количеству продаж на игру - **Shooter** (более чем в 2 раза, чем любой другой жанр). Худшие жанры по этому показателю прежние: **Puzzle** и **Strategy**."
   ]
  },
  {
   "cell_type": "markdown",
   "metadata": {},
   "source": [
    "## Составление портрета пользователя каждого региона"
   ]
  },
  {
   "cell_type": "markdown",
   "metadata": {},
   "source": [
    "### Самые популярные платформы по регионам"
   ]
  },
  {
   "cell_type": "code",
   "execution_count": 73,
   "metadata": {
    "scrolled": true
   },
   "outputs": [
    {
     "data": {
      "image/png": "[encoded data removed]",
      "text/plain": [
       "<Figure size 1224x360 with 3 Axes>"
      ]
     },
     "metadata": {
      "needs_background": "light"
     },
     "output_type": "display_data"
    }
   ],
   "source": [
    "# создадим одну фигуру для трех столбчатых диаграмм\n",
    "plt.figure(figsize=(17, 5))\n",
    "\n",
    "# первая диаграмма\n",
    "plt.subplot(131)\n",
    "plt.bar(\n",
    "    df_relevant.groupby('platform')['na_sales'].sum().sort_values().index,\n",
    "    df_relevant.groupby('platform')['na_sales'].sum().sort_values()\n",
    ")\n",
    "plt.title('Количество продаж и платформы (NA)')\n",
    "plt.ylabel(\"Количество продаж, млн\")\n",
    "\n",
    "# вторая диаграмма\n",
    "plt.subplot(132)\n",
    "plt.bar(\n",
    "    df_relevant.groupby('platform')['eu_sales'].sum().sort_values().index,\n",
    "    df_relevant.groupby('platform')['eu_sales'].sum().sort_values()\n",
    ")\n",
    "plt.title('Количество продаж и платформы (EU)')\n",
    "plt.xlabel(\"Платформа\")\n",
    "\n",
    "# третья диаграмма\n",
    "plt.subplot(133)\n",
    "plt.bar(\n",
    "    df_relevant.groupby('platform')['jp_sales'].sum().sort_values().index,\n",
    "    df_relevant.groupby('platform')['jp_sales'].sum().sort_values()\n",
    ")\n",
    "plt.title('Количество продаж и платформы (JP)')\n",
    "\n",
    "plt.show()"
   ]
  },
  {
   "cell_type": "markdown",
   "metadata": {},
   "source": [
    "#### Промежуточный вывод\n",
    "<div style=\"border: dashed 10px; background-color:#6C7379; color:#ffffff; padding: 20px\">\n",
    "\n",
    "\n",
    "1. В регионе NA продажи сильно зависят от платформы: заметно лучше продаются игры для **PS4** (100 млн) и **XOne** (80 млн), плохо - для **PSP** (менее 1 млн). Топ-5: **PS4*, **XOne**, **X360**, **3DS**, **PS3**.\n",
    "\n",
    "\n",
    "2. В регионе EU есть ситуация схожая, отличие лишь в том, что отрыв **PS4** от **XOne** более чем в  2 раза. Топ-5: **PS4*, **XOne**, **PS3**, **PC**, **3DS**.\n",
    "\n",
    "\n",
    "3. В регионе JP лидер продаж - **3DS** (более 40 млн). Далее идут 4 платформы со приблизительно равным числом продаж: **PS4**, **PSV*, **PS3** и **WiiU** (8-15 млн). Все остальные платформы имеют минимум продаж.\n",
    "    \n",
    "    \n",
    "4. Таким образом видно, что рынок для NA и EU в целом схож. В регионе JP картина сильно отличается."
   ]
  },
  {
   "cell_type": "markdown",
   "metadata": {},
   "source": [
    "### Самые популярные жанры по регионам"
   ]
  },
  {
   "cell_type": "code",
   "execution_count": 74,
   "metadata": {},
   "outputs": [
    {
     "data": {
      "image/png": "[encoded data removed]",
      "text/plain": [
       "<Figure size 1080x1080 with 3 Axes>"
      ]
     },
     "metadata": {
      "needs_background": "light"
     },
     "output_type": "display_data"
    }
   ],
   "source": [
    "# создадим одну фигуру для трех столбчатых диаграмм другим способом\n",
    "f, ax = plt.subplots(3, 1, figsize=(15, 15))\n",
    "f.tight_layout(h_pad=5)\n",
    "\n",
    "# первая диаграмма\n",
    "ax[0].bar(\n",
    "    df_relevant.groupby('genre')['na_sales'].sum().sort_values().index,\n",
    "    df_relevant.groupby('genre')['na_sales'].sum().sort_values()\n",
    ")\n",
    "ax[0].set_xlabel('Платформа')\n",
    "ax[0].set_ylabel('Количество продаж, млн')\n",
    "ax[0].set_title('Количество продаж и жанры (NA)')\n",
    "\n",
    "# вторая диаграмма\n",
    "ax[1].bar(\n",
    "    df_relevant.groupby('genre')['eu_sales'].sum().sort_values().index,\n",
    "    df_relevant.groupby('genre')['eu_sales'].sum().sort_values()\n",
    ")\n",
    "ax[1].set_xlabel('Платформа')\n",
    "ax[1].set_ylabel('Количество продаж, млн')\n",
    "ax[1].set_title('Количество продаж и жанры (EU)')\n",
    "\n",
    "# третья диаграмма\n",
    "ax[2].bar(\n",
    "    df_relevant.groupby('genre')['jp_sales'].sum().sort_values().index,\n",
    "    df_relevant.groupby('genre')['jp_sales'].sum().sort_values()\n",
    ")\n",
    "ax[2].set_xlabel('Платформа')\n",
    "ax[2].set_ylabel('Количество продаж, млн')\n",
    "ax[2].set_title('Количество продаж и жанры (JP)')\n",
    "pass"
   ]
  },
  {
   "cell_type": "markdown",
   "metadata": {},
   "source": [
    "#### Промежуточный вывод\n",
    "<div style=\"border: dashed 10px; background-color:#6C7379; color:#ffffff; padding: 20px\">\n",
    "\n",
    "Общая картина распределения глобальных продаж по жанрам повторяется для NA и EU:\n",
    "    \n",
    "1. ТОП-5 в регионе NA: **Shooter**, **Action**, **Sports**, **Role-Playing**, **Misc**.\n",
    "    \n",
    "    \n",
    "2. ТОП-5 в регионе EU: **Action**, **Shooter**, **Sports**, **Role-Playing**, **Racing**.\n",
    "    \n",
    "\n",
    "В регионе JP картина отличается: лидеры с большим отрывом - это жанры **Role-Playing** и **Action**.\n",
    "    \n",
    "3. ТОП-5 в регионе JP: **Role-Playing**, **Action**, **Fighting**, **Misc**, **Shooter**."
   ]
  },
  {
   "cell_type": "markdown",
   "metadata": {},
   "source": [
    "### Анализ влияния рейтинга ESRB на продажи по регионам"
   ]
  },
  {
   "cell_type": "code",
   "execution_count": 75,
   "metadata": {},
   "outputs": [
    {
     "data": {
      "image/png": "[encoded data removed]",
      "text/plain": [
       "<Figure size 1080x360 with 3 Axes>"
      ]
     },
     "metadata": {
      "needs_background": "light"
     },
     "output_type": "display_data"
    }
   ],
   "source": [
    "plt.figure(figsize=(15, 5))\n",
    "\n",
    "plt.subplot(131)\n",
    "plt.bar(\n",
    "    df_relevant.groupby('esrb_rating')['na_sales'].sum().sort_values().index,\n",
    "    df_relevant.groupby('esrb_rating')['na_sales'].sum().sort_values()\n",
    ")\n",
    "plt.title('Количество продаж и рейтинг ESRB (NA)')\n",
    "\n",
    "plt.ylabel(\"Количество продаж, млн\")\n",
    "\n",
    "plt.subplot(132)\n",
    "plt.bar(\n",
    "    df_relevant.groupby('esrb_rating')['eu_sales'].sum().sort_values().index,\n",
    "    df_relevant.groupby('esrb_rating')['eu_sales'].sum().sort_values()\n",
    ")\n",
    "plt.title('Количество продаж и платформы (EU)')\n",
    "plt.xlabel(\"Рейтинг ESRB\")\n",
    "\n",
    "plt.subplot(133)\n",
    "plt.bar(\n",
    "    df_relevant.groupby('esrb_rating')['jp_sales'].sum().sort_values().index,\n",
    "    df_relevant.groupby('esrb_rating')['jp_sales'].sum().sort_values()\n",
    ")\n",
    "plt.title('Количество продаж и рейтинг ESRB (JP)')\n",
    "\n",
    "plt.show()"
   ]
  },
  {
   "cell_type": "markdown",
   "metadata": {},
   "source": [
    "#### Промежуточный вывод\n",
    "<div style=\"border: dashed 10px; background-color:#6C7379; color:#ffffff; padding: 20px\">\n",
    "\n",
    "\n",
    "1. В NA и EU больше всего игр выходит для взрослых. На втором меcте онлайн-игры без указания рейтинга. Далее идут игры для любого возраста и подростков (13 лет и более)\n",
    "    \n",
    "    \n",
    "2. Самые большие отличия в продажах по рейтингу - для региона JP. Здесь со значительным лидерством преобладают продажи онлайн-игр. Игры для подростков больше, чем для взрослых.\n",
    "    \n",
    "    \n",
    "3. В JP, вероятно, существует свой внутренний национальный рейтинг."
   ]
  },
  {
   "cell_type": "markdown",
   "metadata": {},
   "source": [
    "### Вывод\n",
    "<div style=\"border: dashed 10px; background-color:#6C7379; color:#ffffff; padding: 20px\">\n",
    "\n",
    "\n",
    "1. Портрет пользователя в регионе (NA) выглядит следующим образом:\n",
    "    - вероятнее всего приобретет игру на платформе **PS4** или **XOne**\n",
    "    - предпочитает жанры **Shooter**, **Action** и **Sports**\n",
    "    - приобретет игру для взрослых или онлайн-игру\n",
    "\n",
    "\n",
    "2. Портрет пользователя в регионе (EU) выглядит следующим образом:\n",
    "    - вероятнее всего приобретет игру на платформе **PS4** или **XOne**\n",
    "    - предпочитает жанры **Action**, **Shooter** и **Sports**\n",
    "    - приобретет игру для взрослых или онлайн-игру\n",
    "\n",
    "\n",
    "3. Портрет пользователя в регионе (JP) выглядит следующим образом:\n",
    "    - вероятнее всего приобретет игру на платформе **3DS**\n",
    "    - предпочитает жанры **Role-Playing** и **Action**\n",
    "    - приобретет онлайн-игру или игру для подростков\n",
    "    \n",
    "    \n",
    "4. В JP, вероятно, существует свой внутренний национальный рейтинг."
   ]
  },
  {
   "cell_type": "markdown",
   "metadata": {},
   "source": [
    "## Проверка гипотез"
   ]
  },
  {
   "cell_type": "markdown",
   "metadata": {},
   "source": [
    "### Проверка гипотезы: средние пользовательские рейтинги платформ XOne и PC одинаковые"
   ]
  },
  {
   "cell_type": "code",
   "execution_count": 77,
   "metadata": {},
   "outputs": [
    {
     "data": {
      "text/plain": [
       "6.620529801324504"
      ]
     },
     "metadata": {},
     "output_type": "display_data"
    },
    {
     "data": {
      "text/plain": [
       "6.3417391304347825"
      ]
     },
     "execution_count": 77,
     "metadata": {},
     "output_type": "execute_result"
    }
   ],
   "source": [
    "# для выдвижения гипотез посмоттрим среднее значение для двух платформ\n",
    "# используем переменную df_relevant_score, которая не содержит пропущенных значений\n",
    "df_xone_user_score = df_relevant_score.query('platform == \"XOne\"')['user_score']\n",
    "display(df_xone_user_score.mean())\n",
    "\n",
    "df_pc_user_score = df_relevant_score.query('platform == \"PC\"')['user_score']\n",
    "df_pc_user_score.mean()"
   ]
  },
  {
   "cell_type": "markdown",
   "metadata": {},
   "source": [
    "<div style=\"background-color:#6C7379; color:#ffffff; text-align:start; padding:2%\">\n",
    "\n",
    "**Нулевая гипотеза**: средний пользовательский рейтинг платформы **XOne** `равен` аналогичному рейтингу платформы **PC**.\n",
    "\n",
    "**Альтернативная гипотеза**: средний пользовательский рейтинг платформы **XOne** `не равен` аналогичному рейтингу платформы **PC**."
   ]
  },
  {
   "cell_type": "code",
   "execution_count": 78,
   "metadata": {},
   "outputs": [
    {
     "name": "stdout",
     "output_type": "stream",
     "text": [
      "P-value: 0.12817793652639856\n",
      "Не получилось отвергнуть нулевую гипотезу\n"
     ]
    }
   ],
   "source": [
    "alpha = 0.05\n",
    "\n",
    "result = st.ttest_ind(df_xone_user_score, df_pc_user_score)\n",
    "\n",
    "print('P-value:', result.pvalue)\n",
    "\n",
    "if result.pvalue < alpha:\n",
    "    print('Отвергаем нулевую гипотезу')\n",
    "else:\n",
    "    print('Не получилось отвергнуть нулевую гипотезу')"
   ]
  },
  {
   "cell_type": "markdown",
   "metadata": {},
   "source": [
    "#### Промежуточный вывод\n",
    "<div style=\"border: dashed 10px; background-color:#6C7379; color:#ffffff; padding: 20px\">\n",
    "\n",
    "\n",
    "Нулевая гипотеза подтвердилась: вероятнее всего средний пользовательский рейтинг платформы **XOne** `равен` аналогичному рейтингу платформы **PC**."
   ]
  },
  {
   "cell_type": "markdown",
   "metadata": {},
   "source": [
    "### Проверка гипотезы: средние пользовательские рейтинги жанров Action и Sports разные"
   ]
  },
  {
   "cell_type": "code",
   "execution_count": 80,
   "metadata": {},
   "outputs": [
    {
     "data": {
      "text/plain": [
       "6.832599118942731"
      ]
     },
     "metadata": {},
     "output_type": "display_data"
    },
    {
     "data": {
      "text/plain": [
       "5.68433734939759"
      ]
     },
     "execution_count": 80,
     "metadata": {},
     "output_type": "execute_result"
    }
   ],
   "source": [
    "# для выдвижения гипотез посмоттрим среднее значение для двух жанров\n",
    "# используем переменную df_relevant_score, которая не содержит пропущенных значений\n",
    "df_action_user_score = df_relevant_score.query('genre == \"Action\"')['user_score']\n",
    "display(df_action_user_score.mean())\n",
    "\n",
    "df_sports_user_score = df_relevant_score.query('genre == \"Sports\"')['user_score']\n",
    "df_sports_user_score.mean()"
   ]
  },
  {
   "cell_type": "markdown",
   "metadata": {},
   "source": [
    "<div style=\"background-color:#6C7379; color:#ffffff; text-align:start; padding:2%\">\n",
    "\n",
    "**Нулевая гипотеза**: средний пользовательский рейтинг жанра **Action** `равен` аналогичному рейтингу жанра **Sports**.\n",
    "\n",
    "**Альтернативная гипотеза**: средний пользовательский рейтинг жанра **Action** `больше` аналогичного рейтинга жанра **Sports**."
   ]
  },
  {
   "cell_type": "code",
   "execution_count": 81,
   "metadata": {},
   "outputs": [
    {
     "name": "stdout",
     "output_type": "stream",
     "text": [
      "P-value: 2.0270447999971618e-10\n",
      "Отвергаем нулевую гипотезу\n"
     ]
    }
   ],
   "source": [
    "result = st.ttest_ind(df_action_user_score, df_sports_user_score, alternative='greater')\n",
    "\n",
    "print('P-value:', result.pvalue)\n",
    "\n",
    "if result.pvalue < alpha:\n",
    "    print('Отвергаем нулевую гипотезу')\n",
    "else:\n",
    "    print('Не получилось отвергнуть нулевую гипотезу')"
   ]
  },
  {
   "cell_type": "markdown",
   "metadata": {},
   "source": [
    "#### Промежуточный вывод\n",
    "<div style=\"border: dashed 10px; background-color:#6C7379; color:#ffffff; padding: 20px\">\n",
    "\n",
    "\n",
    "Нулевая гипотеза отвергнута: есть основания говорить, что средний пользовательский рейтинг жанра **Action** `больше` аналогичного рейтинга жанра **Sports**."
   ]
  },
  {
   "cell_type": "markdown",
   "metadata": {},
   "source": [
    "## Подведение итогов"
   ]
  },
  {
   "cell_type": "markdown",
   "metadata": {},
   "source": [
    "<div style=\"border: dashed 10px; background-color:#002D6B; color:#ffffff; padding: 20px\">\n",
    "\n",
    "\n",
    "1. Изначальные данные содержат 11435 игр, выпущенные с 1980 года по 2016 год и представленные в 12 жанрах. Игры могут представлены в 10 и более вариантах в зависимости от платформы и года выпуска. Данные нуждались в объемной предобработке.\n",
    "\n",
    "\n",
    "2. После предобработки удалено 1.5 % информации с отсутствующей информацией о дате выпуска. Пропущено около 50 % информации об оценке пользователей и критиков. Анализ оценки пользователей проводился по имеющимся данным.\n",
    "\n",
    "\n",
    "3. В процессе обсуждения работы с коллегами по когорте был сделан важный вывод. Данные отражают не количество продаж по годам, а количество продаж для игр конкретного года выпуска. Поэтому в ходу исследования было принято допущение, что пик продаж приходится на год релиза игры, а прогнозы делаются для новых игр.\n",
    "\n",
    "\n",
    "4. Количество выпущенных игр с каждым годом увеличивалось с максимум в 2009 году (1426 новых игр), что связано как с увеличением продаж, так и с созданием новых платформ и перевыпуском уже существующих игр. Абсолютно все платформы имеют свой \"цикл жизни\" в 5-10 лет, за исключением универсального **PC**. В последний год было выпущено 502 новые игры.\n",
    "\n",
    "\n",
    "5. На основе данных за последние 3 года были проанализированы все 10 платформ (**PS4**, **3DS**, **XOne**, **WiiU**, **PS3**, **X360**, **PC**, **Wii**, **PSV** и **PSP**), для которых еще выпускаются игры. Продажи новых игр в последние 3 года неуклонно падают. В 2016 году три лидирующие платформы (**PS4**, **3DS**, **XOne**) имеют более 10 млн продаж. Медианное значение продаж каждой платформы находится на уровне 250 тысяч копий в год.\n",
    "\n",
    "\n",
    "6. Корреляция между количеством продаж и оценкой пользователей практически отсутствует, для критиков ситуация лучше: они чаще положительно оценивают те игры, которые будут хорошо продаваться. Топ-3 самых продающихся жанров за последние 3 года: **Action** (199.36 млн), **Shooter** (170.94 млн) и **Sports** (109.48 млн), а самый прибыльный жанр по среднему количеству продаж на игру - **Shooter**. Хуже всего продаются: **Puzzle** (2.21 млн) и **Strategy** (3.96 млн).\n",
    "\n",
    "\n",
    "7. Портрет пользователя в регионе (NA) выглядит следующим образом:\n",
    "    - вероятнее всего приобретет игру на платформе **PS4** или **XOne**\n",
    "    - предпочитает жанры **Shooter**, **Action** и **Sports**\n",
    "    - приобретет игру для взрослых или онлайн-игру\n",
    "\n",
    "\n",
    "8. Портрет пользователя в регионе (EU) выглядит следующим образом:\n",
    "    - вероятнее всего приобретет игру на платформе **PS4** или **XOne**\n",
    "    - предпочитает жанры **Action**, **Shooter** и **Sports**\n",
    "    - приобретет игру для взрослых или онлайн-игру\n",
    "\n",
    "\n",
    "9. Портрет пользователя в регионе (JP) выглядит следующим образом:\n",
    "    - вероятнее всего приобретет игру на платформе **3DS**\n",
    "    - предпочитает жанры **Role-Playing** и **Action**\n",
    "    - приобретет онлайн-игру или игру для подростков (В JP, вероятно, существует свой внутренний национальный рейтинг)\n",
    " \n",
    "    \n",
    "10. Проверены две важные гипотезы. Вероятнее всего средний пользовательский рейтинг платформы **XOne** `равен` аналогичному рейтингу платформы **PC**. Также есть основания говорить, что средний пользовательский рейтинг жанра **Action** `больше` аналогичного рейтинга жанра **Sports**."
   ]
  },
  {
   "cell_type": "markdown",
   "metadata": {},
   "source": [
    "## Рекомендации"
   ]
  },
  {
   "cell_type": "markdown",
   "metadata": {},
   "source": [
    "<div style=\"border:solid yellow 3px; padding: 20px; border-radius: 10px\">\n",
    "\n",
    "<b>В 2017 году будет выгодно продавать новые игры со следующими характеристиками:</b>\n",
    "\n",
    "- для платформ **PS4** и **XOne** в регионах EU / NA и только для **3DS** в регионе JP\n",
    " - для любителей жанров **Shooter**, **Action**, **Sports** в регионах EU / NA и **Role-Playing**, **Action** в регионе JP\n",
    " - для взрослых любителей онлайн-игр (без рейтинга ESRB) вне зависимости от региона, а также для взрослых в регионах EU / NA и для подростков в регионе JP\n",
    " - для платформы **XOne** в силу статистически равного пользовательского рейтинга c самой стабильной платформой **PC**\n",
    " - для любителей жанра **Action** в силу статистически большего пользовательского рейтинга другого популярного жанра **Sports**\n",
    " - с хорошей оценкой критиков для определения уровня продаж в качестве дополнительного критерия</div>"
   ]
  }
 ],
 "metadata": {
  "ExecuteTimeLog": [
   {
    "duration": 1170,
    "start_time": "2023-05-28T22:28:38.702Z"
   },
   {
    "duration": 189,
    "start_time": "2023-05-28T22:29:22.394Z"
   },
   {
    "duration": 21,
    "start_time": "2023-05-28T22:29:49.596Z"
   },
   {
    "duration": 25,
    "start_time": "2023-05-28T22:30:23.738Z"
   },
   {
    "duration": 7,
    "start_time": "2023-05-28T22:37:05.238Z"
   },
   {
    "duration": 5,
    "start_time": "2023-05-28T22:37:56.514Z"
   },
   {
    "duration": 4,
    "start_time": "2023-05-28T22:38:39.548Z"
   },
   {
    "duration": 5,
    "start_time": "2023-05-28T22:38:48.955Z"
   },
   {
    "duration": 13,
    "start_time": "2023-05-28T22:57:31.698Z"
   },
   {
    "duration": 54,
    "start_time": "2023-05-28T22:58:21.198Z"
   },
   {
    "duration": 20,
    "start_time": "2023-05-28T22:58:27.186Z"
   },
   {
    "duration": 6,
    "start_time": "2023-05-28T22:59:15.528Z"
   },
   {
    "duration": 5,
    "start_time": "2023-05-28T22:59:16.293Z"
   },
   {
    "duration": 13,
    "start_time": "2023-05-28T22:59:19.456Z"
   },
   {
    "duration": 22,
    "start_time": "2023-05-28T23:04:19.058Z"
   },
   {
    "duration": 19,
    "start_time": "2023-05-28T23:04:50.685Z"
   },
   {
    "duration": 6,
    "start_time": "2023-05-28T23:04:55.622Z"
   },
   {
    "duration": 19,
    "start_time": "2023-05-28T23:04:58.156Z"
   },
   {
    "duration": 5,
    "start_time": "2023-05-28T23:05:07.499Z"
   },
   {
    "duration": 21,
    "start_time": "2023-05-28T23:05:19.492Z"
   },
   {
    "duration": 12,
    "start_time": "2023-05-28T23:05:23.655Z"
   },
   {
    "duration": 4,
    "start_time": "2023-05-28T23:06:59.175Z"
   },
   {
    "duration": 5,
    "start_time": "2023-05-28T23:07:54.688Z"
   },
   {
    "duration": 6,
    "start_time": "2023-05-28T23:08:05.156Z"
   },
   {
    "duration": 90,
    "start_time": "2023-05-28T23:08:21.659Z"
   },
   {
    "duration": 4,
    "start_time": "2023-05-28T23:08:29.703Z"
   },
   {
    "duration": 15,
    "start_time": "2023-05-28T23:09:08.655Z"
   },
   {
    "duration": 22,
    "start_time": "2023-05-28T23:13:54.255Z"
   },
   {
    "duration": 8,
    "start_time": "2023-05-28T23:14:04.523Z"
   },
   {
    "duration": 6,
    "start_time": "2023-05-28T23:14:28.381Z"
   },
   {
    "duration": 7,
    "start_time": "2023-05-28T23:15:11.558Z"
   },
   {
    "duration": 6,
    "start_time": "2023-05-28T23:15:17.055Z"
   },
   {
    "duration": 7,
    "start_time": "2023-05-28T23:17:07.176Z"
   },
   {
    "duration": 8,
    "start_time": "2023-05-28T23:17:07.350Z"
   },
   {
    "duration": 3,
    "start_time": "2023-05-28T23:24:07.492Z"
   },
   {
    "duration": 15,
    "start_time": "2023-05-28T23:24:25.851Z"
   },
   {
    "duration": 1129,
    "start_time": "2023-05-28T23:24:56.352Z"
   },
   {
    "duration": 52,
    "start_time": "2023-05-28T23:24:57.483Z"
   },
   {
    "duration": 26,
    "start_time": "2023-05-28T23:24:57.536Z"
   },
   {
    "duration": 6,
    "start_time": "2023-05-28T23:24:57.564Z"
   },
   {
    "duration": 6,
    "start_time": "2023-05-28T23:24:57.573Z"
   },
   {
    "duration": 6,
    "start_time": "2023-05-28T23:24:57.580Z"
   },
   {
    "duration": 17,
    "start_time": "2023-05-28T23:24:57.587Z"
   },
   {
    "duration": 15,
    "start_time": "2023-05-28T23:24:57.606Z"
   },
   {
    "duration": 7,
    "start_time": "2023-05-28T23:24:57.622Z"
   },
   {
    "duration": 8,
    "start_time": "2023-05-28T23:24:57.630Z"
   },
   {
    "duration": 49,
    "start_time": "2023-05-28T23:24:57.639Z"
   },
   {
    "duration": 54,
    "start_time": "2023-05-28T23:25:33.290Z"
   },
   {
    "duration": 12,
    "start_time": "2023-05-28T23:25:37.253Z"
   },
   {
    "duration": 4,
    "start_time": "2023-05-28T23:25:46.719Z"
   },
   {
    "duration": 13,
    "start_time": "2023-05-28T23:26:43.117Z"
   },
   {
    "duration": 6,
    "start_time": "2023-05-28T23:29:06.694Z"
   },
   {
    "duration": 15,
    "start_time": "2023-05-28T23:29:11.849Z"
   },
   {
    "duration": 5,
    "start_time": "2023-05-28T23:29:26.188Z"
   },
   {
    "duration": 10,
    "start_time": "2023-05-28T23:29:26.850Z"
   },
   {
    "duration": 5,
    "start_time": "2023-05-28T23:30:28.257Z"
   },
   {
    "duration": 6,
    "start_time": "2023-05-28T23:30:30.852Z"
   },
   {
    "duration": 6,
    "start_time": "2023-05-28T23:30:35.553Z"
   },
   {
    "duration": 1107,
    "start_time": "2023-05-28T23:30:44.053Z"
   },
   {
    "duration": 53,
    "start_time": "2023-05-28T23:30:45.162Z"
   },
   {
    "duration": 27,
    "start_time": "2023-05-28T23:30:45.216Z"
   },
   {
    "duration": 6,
    "start_time": "2023-05-28T23:30:45.244Z"
   },
   {
    "duration": 4,
    "start_time": "2023-05-28T23:30:45.251Z"
   },
   {
    "duration": 5,
    "start_time": "2023-05-28T23:30:45.256Z"
   },
   {
    "duration": 28,
    "start_time": "2023-05-28T23:30:45.262Z"
   },
   {
    "duration": 5,
    "start_time": "2023-05-28T23:30:45.292Z"
   },
   {
    "duration": 15,
    "start_time": "2023-05-28T23:30:45.298Z"
   },
   {
    "duration": 21,
    "start_time": "2023-05-28T23:31:54.721Z"
   },
   {
    "duration": 50,
    "start_time": "2023-05-28T23:42:22.752Z"
   },
   {
    "duration": 86,
    "start_time": "2023-05-28T23:42:36.171Z"
   },
   {
    "duration": 9,
    "start_time": "2023-05-28T23:42:39.654Z"
   },
   {
    "duration": 76,
    "start_time": "2023-05-28T23:42:49.949Z"
   },
   {
    "duration": 10,
    "start_time": "2023-05-28T23:45:07.346Z"
   },
   {
    "duration": 27,
    "start_time": "2023-05-28T23:45:22.361Z"
   },
   {
    "duration": 9,
    "start_time": "2023-05-28T23:45:44.002Z"
   },
   {
    "duration": 55,
    "start_time": "2023-05-28T23:45:53.018Z"
   },
   {
    "duration": 6,
    "start_time": "2023-05-28T23:45:59.282Z"
   },
   {
    "duration": 8,
    "start_time": "2023-05-28T23:46:13.249Z"
   },
   {
    "duration": 42,
    "start_time": "2023-05-28T23:50:27.402Z"
   },
   {
    "duration": 7,
    "start_time": "2023-05-28T23:54:52.208Z"
   },
   {
    "duration": 8,
    "start_time": "2023-05-28T23:57:30.671Z"
   },
   {
    "duration": 16,
    "start_time": "2023-05-29T00:01:53.068Z"
   },
   {
    "duration": 68,
    "start_time": "2023-05-29T00:02:03.112Z"
   },
   {
    "duration": 9,
    "start_time": "2023-05-29T00:04:10.967Z"
   },
   {
    "duration": 13,
    "start_time": "2023-05-29T00:04:28.405Z"
   },
   {
    "duration": 13,
    "start_time": "2023-05-29T00:05:24.405Z"
   },
   {
    "duration": 13,
    "start_time": "2023-05-29T00:05:40.744Z"
   },
   {
    "duration": 18,
    "start_time": "2023-05-29T00:05:53.560Z"
   },
   {
    "duration": 61,
    "start_time": "2023-05-29T00:06:46.455Z"
   },
   {
    "duration": 61,
    "start_time": "2023-05-29T00:07:12.152Z"
   },
   {
    "duration": 62,
    "start_time": "2023-05-29T00:07:35.555Z"
   },
   {
    "duration": 7,
    "start_time": "2023-05-29T00:07:49.051Z"
   },
   {
    "duration": 55,
    "start_time": "2023-05-29T00:09:31.788Z"
   },
   {
    "duration": 53,
    "start_time": "2023-05-29T00:09:41.076Z"
   },
   {
    "duration": 8,
    "start_time": "2023-05-29T00:09:51.396Z"
   },
   {
    "duration": 32,
    "start_time": "2023-05-29T00:12:12.806Z"
   },
   {
    "duration": 1049,
    "start_time": "2023-05-29T00:16:39.826Z"
   },
   {
    "duration": 52,
    "start_time": "2023-05-29T00:16:40.878Z"
   },
   {
    "duration": 26,
    "start_time": "2023-05-29T00:16:40.932Z"
   },
   {
    "duration": 8,
    "start_time": "2023-05-29T00:16:40.960Z"
   },
   {
    "duration": 14,
    "start_time": "2023-05-29T00:16:40.970Z"
   },
   {
    "duration": 12,
    "start_time": "2023-05-29T00:16:40.985Z"
   },
   {
    "duration": 18,
    "start_time": "2023-05-29T00:16:40.999Z"
   },
   {
    "duration": 37,
    "start_time": "2023-05-29T00:16:41.018Z"
   },
   {
    "duration": 8,
    "start_time": "2023-05-29T00:16:41.056Z"
   },
   {
    "duration": 32,
    "start_time": "2023-05-29T00:16:41.066Z"
   },
   {
    "duration": 7,
    "start_time": "2023-05-29T00:16:41.100Z"
   },
   {
    "duration": 20,
    "start_time": "2023-05-29T00:16:41.109Z"
   },
   {
    "duration": 57,
    "start_time": "2023-05-29T00:16:41.131Z"
   },
   {
    "duration": 8,
    "start_time": "2023-05-29T00:16:41.190Z"
   },
   {
    "duration": 20,
    "start_time": "2023-05-29T00:16:41.200Z"
   },
   {
    "duration": 22,
    "start_time": "2023-05-29T00:20:02.406Z"
   },
   {
    "duration": 101,
    "start_time": "2023-05-29T00:20:34.689Z"
   },
   {
    "duration": 15,
    "start_time": "2023-05-29T00:21:07.758Z"
   },
   {
    "duration": 9,
    "start_time": "2023-05-29T00:21:46.671Z"
   },
   {
    "duration": 18,
    "start_time": "2023-05-29T00:22:46.522Z"
   },
   {
    "duration": 17,
    "start_time": "2023-05-29T00:23:04.890Z"
   },
   {
    "duration": 10,
    "start_time": "2023-05-29T00:23:20.158Z"
   },
   {
    "duration": 9,
    "start_time": "2023-05-29T00:23:26.907Z"
   },
   {
    "duration": 0,
    "start_time": "2023-05-29T00:23:26.918Z"
   },
   {
    "duration": 0,
    "start_time": "2023-05-29T00:23:26.919Z"
   },
   {
    "duration": 0,
    "start_time": "2023-05-29T00:23:26.921Z"
   },
   {
    "duration": 0,
    "start_time": "2023-05-29T00:23:26.922Z"
   },
   {
    "duration": 0,
    "start_time": "2023-05-29T00:23:26.922Z"
   },
   {
    "duration": 0,
    "start_time": "2023-05-29T00:23:26.923Z"
   },
   {
    "duration": 0,
    "start_time": "2023-05-29T00:23:26.924Z"
   },
   {
    "duration": 0,
    "start_time": "2023-05-29T00:23:26.925Z"
   },
   {
    "duration": 0,
    "start_time": "2023-05-29T00:23:26.926Z"
   },
   {
    "duration": 0,
    "start_time": "2023-05-29T00:23:26.927Z"
   },
   {
    "duration": 13,
    "start_time": "2023-05-29T00:23:26.951Z"
   },
   {
    "duration": 19,
    "start_time": "2023-05-29T00:23:26.965Z"
   },
   {
    "duration": 13,
    "start_time": "2023-05-29T00:23:26.985Z"
   },
   {
    "duration": 6,
    "start_time": "2023-05-29T00:23:27.000Z"
   },
   {
    "duration": 11,
    "start_time": "2023-05-29T00:23:27.008Z"
   },
   {
    "duration": 10,
    "start_time": "2023-05-29T00:23:41.582Z"
   },
   {
    "duration": 0,
    "start_time": "2023-05-29T00:23:41.594Z"
   },
   {
    "duration": 0,
    "start_time": "2023-05-29T00:23:41.595Z"
   },
   {
    "duration": 0,
    "start_time": "2023-05-29T00:23:41.596Z"
   },
   {
    "duration": 0,
    "start_time": "2023-05-29T00:23:41.597Z"
   },
   {
    "duration": 0,
    "start_time": "2023-05-29T00:23:41.598Z"
   },
   {
    "duration": 0,
    "start_time": "2023-05-29T00:23:41.601Z"
   },
   {
    "duration": 0,
    "start_time": "2023-05-29T00:23:41.602Z"
   },
   {
    "duration": 0,
    "start_time": "2023-05-29T00:23:41.603Z"
   },
   {
    "duration": 0,
    "start_time": "2023-05-29T00:23:41.604Z"
   },
   {
    "duration": 0,
    "start_time": "2023-05-29T00:23:41.606Z"
   },
   {
    "duration": 0,
    "start_time": "2023-05-29T00:23:41.607Z"
   },
   {
    "duration": 68,
    "start_time": "2023-05-29T00:23:41.610Z"
   },
   {
    "duration": 10,
    "start_time": "2023-05-29T00:23:41.680Z"
   },
   {
    "duration": 8,
    "start_time": "2023-05-29T00:23:41.692Z"
   },
   {
    "duration": 8,
    "start_time": "2023-05-29T00:23:41.702Z"
   },
   {
    "duration": 1103,
    "start_time": "2023-05-29T00:24:17.226Z"
   },
   {
    "duration": 0,
    "start_time": "2023-05-29T00:24:18.331Z"
   },
   {
    "duration": 0,
    "start_time": "2023-05-29T00:24:18.332Z"
   },
   {
    "duration": 0,
    "start_time": "2023-05-29T00:24:18.333Z"
   },
   {
    "duration": 0,
    "start_time": "2023-05-29T00:24:18.333Z"
   },
   {
    "duration": 0,
    "start_time": "2023-05-29T00:24:18.334Z"
   },
   {
    "duration": 0,
    "start_time": "2023-05-29T00:24:18.335Z"
   },
   {
    "duration": 0,
    "start_time": "2023-05-29T00:24:18.336Z"
   },
   {
    "duration": 0,
    "start_time": "2023-05-29T00:24:18.337Z"
   },
   {
    "duration": 0,
    "start_time": "2023-05-29T00:24:18.338Z"
   },
   {
    "duration": 0,
    "start_time": "2023-05-29T00:24:18.339Z"
   },
   {
    "duration": 0,
    "start_time": "2023-05-29T00:24:18.340Z"
   },
   {
    "duration": 0,
    "start_time": "2023-05-29T00:24:18.342Z"
   },
   {
    "duration": 0,
    "start_time": "2023-05-29T00:24:18.342Z"
   },
   {
    "duration": 0,
    "start_time": "2023-05-29T00:24:18.343Z"
   },
   {
    "duration": 0,
    "start_time": "2023-05-29T00:24:18.344Z"
   },
   {
    "duration": 3,
    "start_time": "2023-05-29T00:24:40.323Z"
   },
   {
    "duration": 59,
    "start_time": "2023-05-29T00:24:40.328Z"
   },
   {
    "duration": 28,
    "start_time": "2023-05-29T00:24:40.388Z"
   },
   {
    "duration": 9,
    "start_time": "2023-05-29T00:24:40.417Z"
   },
   {
    "duration": 6,
    "start_time": "2023-05-29T00:24:40.428Z"
   },
   {
    "duration": 7,
    "start_time": "2023-05-29T00:24:40.436Z"
   },
   {
    "duration": 37,
    "start_time": "2023-05-29T00:24:40.444Z"
   },
   {
    "duration": 17,
    "start_time": "2023-05-29T00:24:40.483Z"
   },
   {
    "duration": 5,
    "start_time": "2023-05-29T00:24:40.502Z"
   },
   {
    "duration": 27,
    "start_time": "2023-05-29T00:24:40.509Z"
   },
   {
    "duration": 8,
    "start_time": "2023-05-29T00:24:40.537Z"
   },
   {
    "duration": 44,
    "start_time": "2023-05-29T00:24:40.546Z"
   },
   {
    "duration": 30,
    "start_time": "2023-05-29T00:24:40.592Z"
   },
   {
    "duration": 8,
    "start_time": "2023-05-29T00:24:40.624Z"
   },
   {
    "duration": 9,
    "start_time": "2023-05-29T00:24:40.634Z"
   },
   {
    "duration": 33,
    "start_time": "2023-05-29T00:24:40.645Z"
   },
   {
    "duration": 6,
    "start_time": "2023-05-29T00:25:32.156Z"
   },
   {
    "duration": 1058,
    "start_time": "2023-05-29T00:25:39.995Z"
   },
   {
    "duration": 49,
    "start_time": "2023-05-29T00:25:41.055Z"
   },
   {
    "duration": 26,
    "start_time": "2023-05-29T00:25:41.106Z"
   },
   {
    "duration": 14,
    "start_time": "2023-05-29T00:25:41.134Z"
   },
   {
    "duration": 18,
    "start_time": "2023-05-29T00:25:41.150Z"
   },
   {
    "duration": 42,
    "start_time": "2023-05-29T00:25:41.169Z"
   },
   {
    "duration": 9,
    "start_time": "2023-05-29T00:25:41.212Z"
   },
   {
    "duration": 16,
    "start_time": "2023-05-29T00:25:41.222Z"
   },
   {
    "duration": 6,
    "start_time": "2023-05-29T00:25:41.240Z"
   },
   {
    "duration": 21,
    "start_time": "2023-05-29T00:25:41.248Z"
   },
   {
    "duration": 8,
    "start_time": "2023-05-29T00:25:41.270Z"
   },
   {
    "duration": 30,
    "start_time": "2023-05-29T00:25:41.279Z"
   },
   {
    "duration": 9,
    "start_time": "2023-05-29T00:25:41.310Z"
   },
   {
    "duration": 8,
    "start_time": "2023-05-29T00:25:41.321Z"
   },
   {
    "duration": 8,
    "start_time": "2023-05-29T00:25:41.331Z"
   },
   {
    "duration": 7,
    "start_time": "2023-05-29T00:26:46.759Z"
   },
   {
    "duration": 6,
    "start_time": "2023-05-29T00:27:35.981Z"
   },
   {
    "duration": 7,
    "start_time": "2023-05-29T00:27:39.554Z"
   },
   {
    "duration": 8,
    "start_time": "2023-05-29T00:27:45.859Z"
   },
   {
    "duration": 7,
    "start_time": "2023-05-29T00:27:52.791Z"
   },
   {
    "duration": 6,
    "start_time": "2023-05-29T00:27:57.677Z"
   },
   {
    "duration": 20,
    "start_time": "2023-05-29T00:28:26.181Z"
   },
   {
    "duration": 89,
    "start_time": "2023-05-29T00:29:11.881Z"
   },
   {
    "duration": 7,
    "start_time": "2023-05-29T00:29:16.263Z"
   },
   {
    "duration": 5,
    "start_time": "2023-05-29T00:29:24.759Z"
   },
   {
    "duration": 1093,
    "start_time": "2023-05-29T00:29:39.160Z"
   },
   {
    "duration": 51,
    "start_time": "2023-05-29T00:29:40.255Z"
   },
   {
    "duration": 27,
    "start_time": "2023-05-29T00:29:40.307Z"
   },
   {
    "duration": 8,
    "start_time": "2023-05-29T00:29:40.335Z"
   },
   {
    "duration": 7,
    "start_time": "2023-05-29T00:29:40.345Z"
   },
   {
    "duration": 6,
    "start_time": "2023-05-29T00:29:40.353Z"
   },
   {
    "duration": 5,
    "start_time": "2023-05-29T00:29:40.378Z"
   },
   {
    "duration": 17,
    "start_time": "2023-05-29T00:29:40.384Z"
   },
   {
    "duration": 16,
    "start_time": "2023-05-29T00:29:40.403Z"
   },
   {
    "duration": 6,
    "start_time": "2023-05-29T00:29:40.420Z"
   },
   {
    "duration": 29,
    "start_time": "2023-05-29T00:29:40.428Z"
   },
   {
    "duration": 26,
    "start_time": "2023-05-29T00:29:40.459Z"
   },
   {
    "duration": 31,
    "start_time": "2023-05-29T00:29:40.486Z"
   },
   {
    "duration": 7,
    "start_time": "2023-05-29T00:29:40.519Z"
   },
   {
    "duration": 11,
    "start_time": "2023-05-29T00:29:40.527Z"
   },
   {
    "duration": 9,
    "start_time": "2023-05-29T00:29:40.540Z"
   },
   {
    "duration": 4,
    "start_time": "2023-05-29T00:33:58.356Z"
   },
   {
    "duration": 1081,
    "start_time": "2023-05-29T00:34:18.191Z"
   },
   {
    "duration": 51,
    "start_time": "2023-05-29T00:34:19.274Z"
   },
   {
    "duration": 28,
    "start_time": "2023-05-29T00:34:19.327Z"
   },
   {
    "duration": 8,
    "start_time": "2023-05-29T00:34:19.357Z"
   },
   {
    "duration": 10,
    "start_time": "2023-05-29T00:34:19.368Z"
   },
   {
    "duration": 5,
    "start_time": "2023-05-29T00:34:19.379Z"
   },
   {
    "duration": 6,
    "start_time": "2023-05-29T00:34:19.386Z"
   },
   {
    "duration": 9,
    "start_time": "2023-05-29T00:34:19.394Z"
   },
   {
    "duration": 16,
    "start_time": "2023-05-29T00:34:19.405Z"
   },
   {
    "duration": 6,
    "start_time": "2023-05-29T00:34:19.423Z"
   },
   {
    "duration": 55,
    "start_time": "2023-05-29T00:34:19.430Z"
   },
   {
    "duration": 5,
    "start_time": "2023-05-29T00:34:19.486Z"
   },
   {
    "duration": 9,
    "start_time": "2023-05-29T00:34:19.492Z"
   },
   {
    "duration": 33,
    "start_time": "2023-05-29T00:34:19.504Z"
   },
   {
    "duration": 7,
    "start_time": "2023-05-29T00:34:19.539Z"
   },
   {
    "duration": 35,
    "start_time": "2023-05-29T00:34:19.548Z"
   },
   {
    "duration": 9,
    "start_time": "2023-05-29T00:34:19.585Z"
   },
   {
    "duration": 6,
    "start_time": "2023-05-29T00:45:43.953Z"
   },
   {
    "duration": 6,
    "start_time": "2023-05-29T00:45:56.253Z"
   },
   {
    "duration": 50,
    "start_time": "2023-05-29T00:46:06.479Z"
   },
   {
    "duration": 7,
    "start_time": "2023-05-29T00:46:09.581Z"
   },
   {
    "duration": 7,
    "start_time": "2023-05-29T00:46:43.852Z"
   },
   {
    "duration": 1106,
    "start_time": "2023-05-29T00:46:58.849Z"
   },
   {
    "duration": 52,
    "start_time": "2023-05-29T00:46:59.957Z"
   },
   {
    "duration": 28,
    "start_time": "2023-05-29T00:47:00.011Z"
   },
   {
    "duration": 9,
    "start_time": "2023-05-29T00:47:00.040Z"
   },
   {
    "duration": 21,
    "start_time": "2023-05-29T00:47:00.051Z"
   },
   {
    "duration": 34,
    "start_time": "2023-05-29T00:47:00.074Z"
   },
   {
    "duration": 15,
    "start_time": "2023-05-29T00:47:00.110Z"
   },
   {
    "duration": 30,
    "start_time": "2023-05-29T00:47:00.126Z"
   },
   {
    "duration": 16,
    "start_time": "2023-05-29T00:47:00.157Z"
   },
   {
    "duration": 5,
    "start_time": "2023-05-29T00:47:00.175Z"
   },
   {
    "duration": 40,
    "start_time": "2023-05-29T00:47:00.182Z"
   },
   {
    "duration": 14,
    "start_time": "2023-05-29T00:47:00.224Z"
   },
   {
    "duration": 18,
    "start_time": "2023-05-29T00:47:00.239Z"
   },
   {
    "duration": 37,
    "start_time": "2023-05-29T00:47:00.259Z"
   },
   {
    "duration": 12,
    "start_time": "2023-05-29T00:47:00.298Z"
   },
   {
    "duration": 32,
    "start_time": "2023-05-29T00:47:00.312Z"
   },
   {
    "duration": 30,
    "start_time": "2023-05-29T00:47:00.346Z"
   },
   {
    "duration": 37,
    "start_time": "2023-05-29T00:47:00.378Z"
   },
   {
    "duration": 48,
    "start_time": "2023-05-29T09:25:20.300Z"
   },
   {
    "duration": 1541,
    "start_time": "2023-05-29T09:25:23.707Z"
   },
   {
    "duration": 98,
    "start_time": "2023-05-29T09:25:25.250Z"
   },
   {
    "duration": 39,
    "start_time": "2023-05-29T09:25:25.349Z"
   },
   {
    "duration": 12,
    "start_time": "2023-05-29T09:25:25.390Z"
   },
   {
    "duration": 14,
    "start_time": "2023-05-29T09:25:25.404Z"
   },
   {
    "duration": 8,
    "start_time": "2023-05-29T09:25:25.419Z"
   },
   {
    "duration": 22,
    "start_time": "2023-05-29T09:25:25.429Z"
   },
   {
    "duration": 13,
    "start_time": "2023-05-29T09:25:25.453Z"
   },
   {
    "duration": 25,
    "start_time": "2023-05-29T09:25:25.468Z"
   },
   {
    "duration": 9,
    "start_time": "2023-05-29T09:25:25.495Z"
   },
   {
    "duration": 30,
    "start_time": "2023-05-29T09:25:25.506Z"
   },
   {
    "duration": 9,
    "start_time": "2023-05-29T09:25:25.538Z"
   },
   {
    "duration": 52,
    "start_time": "2023-05-29T09:25:25.548Z"
   },
   {
    "duration": 8,
    "start_time": "2023-05-29T09:25:25.602Z"
   },
   {
    "duration": 13,
    "start_time": "2023-05-29T09:25:25.611Z"
   },
   {
    "duration": 5,
    "start_time": "2023-05-29T09:25:25.625Z"
   },
   {
    "duration": 140,
    "start_time": "2023-05-29T09:26:13.691Z"
   },
   {
    "duration": 4,
    "start_time": "2023-05-29T09:26:31.001Z"
   },
   {
    "duration": 10,
    "start_time": "2023-05-29T09:28:46.406Z"
   },
   {
    "duration": 4,
    "start_time": "2023-05-29T09:30:41.703Z"
   },
   {
    "duration": 109,
    "start_time": "2023-05-29T09:30:41.710Z"
   },
   {
    "duration": 42,
    "start_time": "2023-05-29T09:30:41.821Z"
   },
   {
    "duration": 50,
    "start_time": "2023-05-29T09:30:41.865Z"
   },
   {
    "duration": 47,
    "start_time": "2023-05-29T09:30:41.918Z"
   },
   {
    "duration": 34,
    "start_time": "2023-05-29T09:30:41.967Z"
   },
   {
    "duration": 27,
    "start_time": "2023-05-29T09:30:42.003Z"
   },
   {
    "duration": 27,
    "start_time": "2023-05-29T09:30:42.031Z"
   },
   {
    "duration": 32,
    "start_time": "2023-05-29T09:30:42.060Z"
   },
   {
    "duration": 6,
    "start_time": "2023-05-29T09:30:42.094Z"
   },
   {
    "duration": 35,
    "start_time": "2023-05-29T09:30:42.102Z"
   },
   {
    "duration": 9,
    "start_time": "2023-05-29T09:30:42.139Z"
   },
   {
    "duration": 48,
    "start_time": "2023-05-29T09:30:42.149Z"
   },
   {
    "duration": 8,
    "start_time": "2023-05-29T09:30:42.200Z"
   },
   {
    "duration": 8,
    "start_time": "2023-05-29T09:30:42.209Z"
   },
   {
    "duration": 25,
    "start_time": "2023-05-29T09:30:42.218Z"
   },
   {
    "duration": 161,
    "start_time": "2023-05-29T09:30:42.245Z"
   },
   {
    "duration": 6,
    "start_time": "2023-05-29T09:30:42.409Z"
   },
   {
    "duration": 184,
    "start_time": "2023-05-29T09:31:26.310Z"
   },
   {
    "duration": 125,
    "start_time": "2023-05-29T09:31:38.559Z"
   },
   {
    "duration": 12,
    "start_time": "2023-05-29T09:31:59.479Z"
   },
   {
    "duration": 158,
    "start_time": "2023-05-29T09:44:13.889Z"
   },
   {
    "duration": 173,
    "start_time": "2023-05-29T09:44:29.291Z"
   },
   {
    "duration": 174,
    "start_time": "2023-05-29T09:45:00.096Z"
   },
   {
    "duration": 8,
    "start_time": "2023-05-29T09:58:47.640Z"
   },
   {
    "duration": 73,
    "start_time": "2023-05-29T09:58:54.570Z"
   },
   {
    "duration": 9,
    "start_time": "2023-05-29T09:58:59.239Z"
   },
   {
    "duration": 12,
    "start_time": "2023-05-29T10:20:18.083Z"
   },
   {
    "duration": 47,
    "start_time": "2023-05-29T22:08:48.382Z"
   },
   {
    "duration": 1218,
    "start_time": "2023-05-29T22:09:07.381Z"
   },
   {
    "duration": 88,
    "start_time": "2023-05-29T22:09:08.601Z"
   },
   {
    "duration": 27,
    "start_time": "2023-05-29T22:09:08.690Z"
   },
   {
    "duration": 8,
    "start_time": "2023-05-29T22:09:08.719Z"
   },
   {
    "duration": 15,
    "start_time": "2023-05-29T22:09:08.728Z"
   },
   {
    "duration": 15,
    "start_time": "2023-05-29T22:09:08.744Z"
   },
   {
    "duration": 14,
    "start_time": "2023-05-29T22:09:08.760Z"
   },
   {
    "duration": 26,
    "start_time": "2023-05-29T22:09:08.775Z"
   },
   {
    "duration": 22,
    "start_time": "2023-05-29T22:09:08.802Z"
   },
   {
    "duration": 5,
    "start_time": "2023-05-29T22:09:08.826Z"
   },
   {
    "duration": 31,
    "start_time": "2023-05-29T22:09:08.832Z"
   },
   {
    "duration": 10,
    "start_time": "2023-05-29T22:09:08.865Z"
   },
   {
    "duration": 28,
    "start_time": "2023-05-29T22:09:08.876Z"
   },
   {
    "duration": 10,
    "start_time": "2023-05-29T22:09:08.906Z"
   },
   {
    "duration": 11,
    "start_time": "2023-05-29T22:09:08.918Z"
   },
   {
    "duration": 10,
    "start_time": "2023-05-29T22:09:08.931Z"
   },
   {
    "duration": 16,
    "start_time": "2023-05-29T22:09:08.942Z"
   },
   {
    "duration": 8,
    "start_time": "2023-05-29T22:09:43.833Z"
   },
   {
    "duration": 103,
    "start_time": "2023-05-29T22:11:32.382Z"
   },
   {
    "duration": 10,
    "start_time": "2023-05-29T22:12:35.364Z"
   },
   {
    "duration": 7,
    "start_time": "2023-05-29T22:12:50.774Z"
   },
   {
    "duration": 23,
    "start_time": "2023-05-29T22:13:41.805Z"
   },
   {
    "duration": 64,
    "start_time": "2023-05-29T22:15:25.041Z"
   },
   {
    "duration": 11,
    "start_time": "2023-05-29T22:15:36.417Z"
   },
   {
    "duration": 8,
    "start_time": "2023-05-29T22:15:46.467Z"
   },
   {
    "duration": 11,
    "start_time": "2023-05-29T22:15:55.180Z"
   },
   {
    "duration": 11,
    "start_time": "2023-05-29T22:15:58.680Z"
   },
   {
    "duration": 11,
    "start_time": "2023-05-29T22:17:45.682Z"
   },
   {
    "duration": 14,
    "start_time": "2023-05-29T22:18:13.857Z"
   },
   {
    "duration": 12,
    "start_time": "2023-05-29T22:18:36.174Z"
   },
   {
    "duration": 12,
    "start_time": "2023-05-29T22:18:41.767Z"
   },
   {
    "duration": 11,
    "start_time": "2023-05-29T22:18:44.999Z"
   },
   {
    "duration": 11,
    "start_time": "2023-05-29T22:18:49.201Z"
   },
   {
    "duration": 9,
    "start_time": "2023-05-29T22:18:52.144Z"
   },
   {
    "duration": 14,
    "start_time": "2023-05-29T22:18:55.912Z"
   },
   {
    "duration": 14,
    "start_time": "2023-05-29T22:19:48.674Z"
   },
   {
    "duration": 13,
    "start_time": "2023-05-29T22:45:14.184Z"
   },
   {
    "duration": 10,
    "start_time": "2023-05-29T22:52:14.438Z"
   },
   {
    "duration": 10,
    "start_time": "2023-05-29T22:52:24.307Z"
   },
   {
    "duration": 8,
    "start_time": "2023-05-29T22:53:48.267Z"
   },
   {
    "duration": 10,
    "start_time": "2023-05-29T22:54:19.910Z"
   },
   {
    "duration": 7,
    "start_time": "2023-05-29T22:54:27.761Z"
   },
   {
    "duration": 4,
    "start_time": "2023-05-29T22:54:36.418Z"
   },
   {
    "duration": 6,
    "start_time": "2023-05-29T22:54:47.340Z"
   },
   {
    "duration": 7,
    "start_time": "2023-05-29T22:54:52.100Z"
   },
   {
    "duration": 7,
    "start_time": "2023-05-29T22:55:05.789Z"
   },
   {
    "duration": 9,
    "start_time": "2023-05-29T22:55:34.505Z"
   },
   {
    "duration": 12,
    "start_time": "2023-05-29T22:55:45.810Z"
   },
   {
    "duration": 12,
    "start_time": "2023-05-29T22:56:43.794Z"
   },
   {
    "duration": 13,
    "start_time": "2023-05-29T22:56:52.386Z"
   },
   {
    "duration": 10,
    "start_time": "2023-05-29T22:56:57.803Z"
   },
   {
    "duration": 9,
    "start_time": "2023-05-29T22:59:30.022Z"
   },
   {
    "duration": 11,
    "start_time": "2023-05-29T23:01:11.561Z"
   },
   {
    "duration": 11,
    "start_time": "2023-05-29T23:01:27.634Z"
   },
   {
    "duration": 11,
    "start_time": "2023-05-29T23:01:42.483Z"
   },
   {
    "duration": 12,
    "start_time": "2023-05-29T23:01:46.771Z"
   },
   {
    "duration": 10,
    "start_time": "2023-05-29T23:02:23.888Z"
   },
   {
    "duration": 110,
    "start_time": "2023-05-29T23:02:57.645Z"
   },
   {
    "duration": 9,
    "start_time": "2023-05-29T23:03:00.861Z"
   },
   {
    "duration": 10,
    "start_time": "2023-05-29T23:03:10.405Z"
   },
   {
    "duration": 6,
    "start_time": "2023-05-29T23:03:34.569Z"
   },
   {
    "duration": 8,
    "start_time": "2023-05-29T23:03:45.922Z"
   },
   {
    "duration": 8,
    "start_time": "2023-05-29T23:03:56.138Z"
   },
   {
    "duration": 9,
    "start_time": "2023-05-29T23:06:30.551Z"
   },
   {
    "duration": 27,
    "start_time": "2023-05-29T23:06:41.431Z"
   },
   {
    "duration": 8,
    "start_time": "2023-05-29T23:06:48.678Z"
   },
   {
    "duration": 7,
    "start_time": "2023-05-29T23:07:01.009Z"
   },
   {
    "duration": 3,
    "start_time": "2023-05-29T23:07:23.600Z"
   },
   {
    "duration": 73,
    "start_time": "2023-05-29T23:07:23.604Z"
   },
   {
    "duration": 26,
    "start_time": "2023-05-29T23:07:23.678Z"
   },
   {
    "duration": 21,
    "start_time": "2023-05-29T23:07:23.706Z"
   },
   {
    "duration": 18,
    "start_time": "2023-05-29T23:07:23.729Z"
   },
   {
    "duration": 21,
    "start_time": "2023-05-29T23:07:23.748Z"
   },
   {
    "duration": 33,
    "start_time": "2023-05-29T23:07:23.770Z"
   },
   {
    "duration": 30,
    "start_time": "2023-05-29T23:07:23.804Z"
   },
   {
    "duration": 27,
    "start_time": "2023-05-29T23:07:23.836Z"
   },
   {
    "duration": 6,
    "start_time": "2023-05-29T23:07:23.864Z"
   },
   {
    "duration": 31,
    "start_time": "2023-05-29T23:07:23.871Z"
   },
   {
    "duration": 10,
    "start_time": "2023-05-29T23:07:23.904Z"
   },
   {
    "duration": 27,
    "start_time": "2023-05-29T23:07:23.915Z"
   },
   {
    "duration": 8,
    "start_time": "2023-05-29T23:07:23.945Z"
   },
   {
    "duration": 7,
    "start_time": "2023-05-29T23:07:23.954Z"
   },
   {
    "duration": 25,
    "start_time": "2023-05-29T23:07:23.962Z"
   },
   {
    "duration": 30,
    "start_time": "2023-05-29T23:07:23.988Z"
   },
   {
    "duration": 11,
    "start_time": "2023-05-29T23:07:24.020Z"
   },
   {
    "duration": 24,
    "start_time": "2023-05-29T23:07:24.032Z"
   },
   {
    "duration": 28,
    "start_time": "2023-05-29T23:07:24.057Z"
   },
   {
    "duration": 6,
    "start_time": "2023-05-29T23:07:24.087Z"
   },
   {
    "duration": 3,
    "start_time": "2023-05-29T23:07:40.810Z"
   },
   {
    "duration": 53,
    "start_time": "2023-05-29T23:07:40.816Z"
   },
   {
    "duration": 25,
    "start_time": "2023-05-29T23:07:40.871Z"
   },
   {
    "duration": 9,
    "start_time": "2023-05-29T23:07:40.898Z"
   },
   {
    "duration": 10,
    "start_time": "2023-05-29T23:07:40.910Z"
   },
   {
    "duration": 6,
    "start_time": "2023-05-29T23:07:40.922Z"
   },
   {
    "duration": 7,
    "start_time": "2023-05-29T23:07:40.930Z"
   },
   {
    "duration": 13,
    "start_time": "2023-05-29T23:07:40.939Z"
   },
   {
    "duration": 17,
    "start_time": "2023-05-29T23:07:40.953Z"
   },
   {
    "duration": 6,
    "start_time": "2023-05-29T23:07:40.972Z"
   },
   {
    "duration": 45,
    "start_time": "2023-05-29T23:07:40.979Z"
   },
   {
    "duration": 9,
    "start_time": "2023-05-29T23:07:41.025Z"
   },
   {
    "duration": 33,
    "start_time": "2023-05-29T23:07:41.035Z"
   },
   {
    "duration": 8,
    "start_time": "2023-05-29T23:07:41.070Z"
   },
   {
    "duration": 11,
    "start_time": "2023-05-29T23:07:41.079Z"
   },
   {
    "duration": 5,
    "start_time": "2023-05-29T23:07:41.115Z"
   },
   {
    "duration": 13,
    "start_time": "2023-05-29T23:07:41.122Z"
   },
   {
    "duration": 12,
    "start_time": "2023-05-29T23:07:41.136Z"
   },
   {
    "duration": 14,
    "start_time": "2023-05-29T23:07:41.150Z"
   },
   {
    "duration": 10,
    "start_time": "2023-05-29T23:07:41.166Z"
   },
   {
    "duration": 52,
    "start_time": "2023-05-29T23:07:41.178Z"
   },
   {
    "duration": 8,
    "start_time": "2023-05-29T23:07:41.231Z"
   },
   {
    "duration": 5,
    "start_time": "2023-05-29T23:10:15.064Z"
   },
   {
    "duration": 23,
    "start_time": "2023-05-29T23:11:30.200Z"
   },
   {
    "duration": 14,
    "start_time": "2023-05-29T23:13:22.141Z"
   },
   {
    "duration": 9,
    "start_time": "2023-05-29T23:14:05.322Z"
   },
   {
    "duration": 3,
    "start_time": "2023-05-29T23:14:10.358Z"
   },
   {
    "duration": 58,
    "start_time": "2023-05-29T23:14:10.362Z"
   },
   {
    "duration": 21,
    "start_time": "2023-05-29T23:14:10.422Z"
   },
   {
    "duration": 8,
    "start_time": "2023-05-29T23:14:10.444Z"
   },
   {
    "duration": 6,
    "start_time": "2023-05-29T23:14:10.454Z"
   },
   {
    "duration": 6,
    "start_time": "2023-05-29T23:14:10.461Z"
   },
   {
    "duration": 12,
    "start_time": "2023-05-29T23:14:10.468Z"
   },
   {
    "duration": 39,
    "start_time": "2023-05-29T23:14:10.481Z"
   },
   {
    "duration": 14,
    "start_time": "2023-05-29T23:14:10.521Z"
   },
   {
    "duration": 5,
    "start_time": "2023-05-29T23:14:10.536Z"
   },
   {
    "duration": 14,
    "start_time": "2023-05-29T23:14:10.542Z"
   },
   {
    "duration": 25,
    "start_time": "2023-05-29T23:14:10.557Z"
   },
   {
    "duration": 5,
    "start_time": "2023-05-29T23:14:10.584Z"
   },
   {
    "duration": 28,
    "start_time": "2023-05-29T23:14:10.591Z"
   },
   {
    "duration": 7,
    "start_time": "2023-05-29T23:14:10.621Z"
   },
   {
    "duration": 28,
    "start_time": "2023-05-29T23:14:10.629Z"
   },
   {
    "duration": 6,
    "start_time": "2023-05-29T23:14:10.658Z"
   },
   {
    "duration": 7,
    "start_time": "2023-05-29T23:14:10.665Z"
   },
   {
    "duration": 9,
    "start_time": "2023-05-29T23:14:10.673Z"
   },
   {
    "duration": 33,
    "start_time": "2023-05-29T23:14:10.683Z"
   },
   {
    "duration": 9,
    "start_time": "2023-05-29T23:14:10.718Z"
   },
   {
    "duration": 16,
    "start_time": "2023-05-29T23:14:10.728Z"
   },
   {
    "duration": 6,
    "start_time": "2023-05-29T23:14:10.745Z"
   },
   {
    "duration": 26,
    "start_time": "2023-05-29T23:14:10.752Z"
   },
   {
    "duration": 6,
    "start_time": "2023-05-29T23:14:10.779Z"
   },
   {
    "duration": 29,
    "start_time": "2023-05-29T23:14:10.787Z"
   },
   {
    "duration": 24,
    "start_time": "2023-05-29T23:14:10.818Z"
   },
   {
    "duration": 5,
    "start_time": "2023-05-29T23:16:39.821Z"
   },
   {
    "duration": 12,
    "start_time": "2023-05-29T23:17:00.447Z"
   },
   {
    "duration": 11,
    "start_time": "2023-05-29T23:17:18.337Z"
   },
   {
    "duration": 5,
    "start_time": "2023-05-29T23:17:31.482Z"
   },
   {
    "duration": 8,
    "start_time": "2023-05-29T23:17:37.980Z"
   },
   {
    "duration": 5,
    "start_time": "2023-05-29T23:17:40.676Z"
   },
   {
    "duration": 5,
    "start_time": "2023-05-29T23:18:45.660Z"
   },
   {
    "duration": 6,
    "start_time": "2023-05-29T23:18:48.747Z"
   },
   {
    "duration": 5,
    "start_time": "2023-05-29T23:18:52.765Z"
   },
   {
    "duration": 5,
    "start_time": "2023-05-29T23:20:55.114Z"
   },
   {
    "duration": 10,
    "start_time": "2023-05-29T23:20:58.962Z"
   },
   {
    "duration": 7,
    "start_time": "2023-05-29T23:21:15.226Z"
   },
   {
    "duration": 4,
    "start_time": "2023-05-29T23:21:22.894Z"
   },
   {
    "duration": 5,
    "start_time": "2023-05-29T23:21:55.722Z"
   },
   {
    "duration": 3,
    "start_time": "2023-05-29T23:22:34.494Z"
   },
   {
    "duration": 5,
    "start_time": "2023-05-29T23:22:56.025Z"
   },
   {
    "duration": 6,
    "start_time": "2023-05-29T23:23:06.114Z"
   },
   {
    "duration": 5,
    "start_time": "2023-05-29T23:23:19.404Z"
   },
   {
    "duration": 6,
    "start_time": "2023-05-29T23:24:17.362Z"
   },
   {
    "duration": 5,
    "start_time": "2023-05-29T23:36:06.006Z"
   },
   {
    "duration": 6,
    "start_time": "2023-05-29T23:36:18.414Z"
   },
   {
    "duration": 6,
    "start_time": "2023-05-29T23:36:22.047Z"
   },
   {
    "duration": 6,
    "start_time": "2023-05-29T23:39:58.448Z"
   },
   {
    "duration": 7,
    "start_time": "2023-05-29T23:39:58.968Z"
   },
   {
    "duration": 7,
    "start_time": "2023-05-29T23:40:10.698Z"
   },
   {
    "duration": 6,
    "start_time": "2023-05-29T23:40:10.913Z"
   },
   {
    "duration": 4,
    "start_time": "2023-05-29T23:40:47.862Z"
   },
   {
    "duration": 5,
    "start_time": "2023-05-29T23:41:04.279Z"
   },
   {
    "duration": 2,
    "start_time": "2023-05-29T23:42:42.827Z"
   },
   {
    "duration": 9,
    "start_time": "2023-05-29T23:43:28.025Z"
   },
   {
    "duration": 10,
    "start_time": "2023-05-29T23:43:35.314Z"
   },
   {
    "duration": 9,
    "start_time": "2023-05-29T23:43:38.761Z"
   },
   {
    "duration": 3,
    "start_time": "2023-05-29T23:43:42.265Z"
   },
   {
    "duration": 59,
    "start_time": "2023-05-29T23:43:42.270Z"
   },
   {
    "duration": 22,
    "start_time": "2023-05-29T23:43:42.330Z"
   },
   {
    "duration": 8,
    "start_time": "2023-05-29T23:43:42.353Z"
   },
   {
    "duration": 8,
    "start_time": "2023-05-29T23:43:42.363Z"
   },
   {
    "duration": 19,
    "start_time": "2023-05-29T23:43:42.372Z"
   },
   {
    "duration": 5,
    "start_time": "2023-05-29T23:43:42.393Z"
   },
   {
    "duration": 23,
    "start_time": "2023-05-29T23:43:42.399Z"
   },
   {
    "duration": 20,
    "start_time": "2023-05-29T23:43:42.423Z"
   },
   {
    "duration": 7,
    "start_time": "2023-05-29T23:43:42.445Z"
   },
   {
    "duration": 9,
    "start_time": "2023-05-29T23:43:42.453Z"
   },
   {
    "duration": 10,
    "start_time": "2023-05-29T23:43:42.463Z"
   },
   {
    "duration": 0,
    "start_time": "2023-05-29T23:43:42.474Z"
   },
   {
    "duration": 0,
    "start_time": "2023-05-29T23:43:42.475Z"
   },
   {
    "duration": 0,
    "start_time": "2023-05-29T23:43:42.477Z"
   },
   {
    "duration": 0,
    "start_time": "2023-05-29T23:43:42.478Z"
   },
   {
    "duration": 0,
    "start_time": "2023-05-29T23:43:42.479Z"
   },
   {
    "duration": 0,
    "start_time": "2023-05-29T23:43:42.481Z"
   },
   {
    "duration": 0,
    "start_time": "2023-05-29T23:43:42.482Z"
   },
   {
    "duration": 0,
    "start_time": "2023-05-29T23:43:42.483Z"
   },
   {
    "duration": 0,
    "start_time": "2023-05-29T23:43:42.483Z"
   },
   {
    "duration": 0,
    "start_time": "2023-05-29T23:43:42.484Z"
   },
   {
    "duration": 0,
    "start_time": "2023-05-29T23:43:42.485Z"
   },
   {
    "duration": 0,
    "start_time": "2023-05-29T23:43:42.486Z"
   },
   {
    "duration": 0,
    "start_time": "2023-05-29T23:43:42.486Z"
   },
   {
    "duration": 0,
    "start_time": "2023-05-29T23:43:42.487Z"
   },
   {
    "duration": 0,
    "start_time": "2023-05-29T23:43:42.488Z"
   },
   {
    "duration": 0,
    "start_time": "2023-05-29T23:43:42.488Z"
   },
   {
    "duration": 0,
    "start_time": "2023-05-29T23:43:42.489Z"
   },
   {
    "duration": 0,
    "start_time": "2023-05-29T23:43:42.490Z"
   },
   {
    "duration": 0,
    "start_time": "2023-05-29T23:43:42.490Z"
   },
   {
    "duration": 0,
    "start_time": "2023-05-29T23:43:42.491Z"
   },
   {
    "duration": 0,
    "start_time": "2023-05-29T23:43:42.492Z"
   },
   {
    "duration": 0,
    "start_time": "2023-05-29T23:43:42.493Z"
   },
   {
    "duration": 0,
    "start_time": "2023-05-29T23:43:42.516Z"
   },
   {
    "duration": 0,
    "start_time": "2023-05-29T23:43:42.516Z"
   },
   {
    "duration": 3,
    "start_time": "2023-05-29T23:51:46.984Z"
   },
   {
    "duration": 57,
    "start_time": "2023-05-29T23:51:46.988Z"
   },
   {
    "duration": 20,
    "start_time": "2023-05-29T23:51:47.047Z"
   },
   {
    "duration": 7,
    "start_time": "2023-05-29T23:51:47.068Z"
   },
   {
    "duration": 7,
    "start_time": "2023-05-29T23:51:47.077Z"
   },
   {
    "duration": 4,
    "start_time": "2023-05-29T23:51:47.086Z"
   },
   {
    "duration": 10,
    "start_time": "2023-05-29T23:51:47.091Z"
   },
   {
    "duration": 16,
    "start_time": "2023-05-29T23:51:47.102Z"
   },
   {
    "duration": 9,
    "start_time": "2023-05-29T23:51:47.120Z"
   },
   {
    "duration": 4,
    "start_time": "2023-05-29T23:51:47.130Z"
   },
   {
    "duration": 16,
    "start_time": "2023-05-29T23:51:47.136Z"
   },
   {
    "duration": 13,
    "start_time": "2023-05-29T23:51:47.154Z"
   },
   {
    "duration": 5,
    "start_time": "2023-05-29T23:51:47.168Z"
   },
   {
    "duration": 18,
    "start_time": "2023-05-29T23:51:47.176Z"
   },
   {
    "duration": 25,
    "start_time": "2023-05-29T23:51:47.195Z"
   },
   {
    "duration": 26,
    "start_time": "2023-05-29T23:51:47.221Z"
   },
   {
    "duration": 6,
    "start_time": "2023-05-29T23:51:47.248Z"
   },
   {
    "duration": 12,
    "start_time": "2023-05-29T23:51:47.256Z"
   },
   {
    "duration": 6,
    "start_time": "2023-05-29T23:51:47.270Z"
   },
   {
    "duration": 10,
    "start_time": "2023-05-29T23:51:47.278Z"
   },
   {
    "duration": 8,
    "start_time": "2023-05-29T23:51:47.289Z"
   },
   {
    "duration": 7,
    "start_time": "2023-05-29T23:51:47.315Z"
   },
   {
    "duration": 17,
    "start_time": "2023-05-29T23:51:47.323Z"
   },
   {
    "duration": 28,
    "start_time": "2023-05-29T23:51:47.342Z"
   },
   {
    "duration": 6,
    "start_time": "2023-05-29T23:51:47.372Z"
   },
   {
    "duration": 4,
    "start_time": "2023-05-29T23:51:47.379Z"
   },
   {
    "duration": 34,
    "start_time": "2023-05-29T23:51:47.385Z"
   },
   {
    "duration": 12,
    "start_time": "2023-05-29T23:51:47.420Z"
   },
   {
    "duration": 4,
    "start_time": "2023-05-29T23:51:47.433Z"
   },
   {
    "duration": 6,
    "start_time": "2023-05-29T23:58:03.640Z"
   },
   {
    "duration": 4,
    "start_time": "2023-05-29T23:58:58.142Z"
   },
   {
    "duration": 5,
    "start_time": "2023-05-29T23:59:25.834Z"
   },
   {
    "duration": 13,
    "start_time": "2023-05-30T00:00:00.014Z"
   },
   {
    "duration": 10,
    "start_time": "2023-05-30T00:00:05.726Z"
   },
   {
    "duration": 12,
    "start_time": "2023-05-30T00:01:02.942Z"
   },
   {
    "duration": 7,
    "start_time": "2023-05-30T00:01:08.654Z"
   },
   {
    "duration": 9,
    "start_time": "2023-05-30T00:01:15.846Z"
   },
   {
    "duration": 11,
    "start_time": "2023-05-30T00:01:46.186Z"
   },
   {
    "duration": 10,
    "start_time": "2023-05-30T00:01:59.139Z"
   },
   {
    "duration": 9,
    "start_time": "2023-05-30T00:03:42.941Z"
   },
   {
    "duration": 11,
    "start_time": "2023-05-30T00:04:03.779Z"
   },
   {
    "duration": 9,
    "start_time": "2023-05-30T00:04:11.988Z"
   },
   {
    "duration": 8,
    "start_time": "2023-05-30T00:05:30.031Z"
   },
   {
    "duration": 7,
    "start_time": "2023-05-30T00:05:53.503Z"
   },
   {
    "duration": 6,
    "start_time": "2023-05-30T00:05:55.559Z"
   },
   {
    "duration": 24,
    "start_time": "2023-05-30T00:07:57.294Z"
   },
   {
    "duration": 24,
    "start_time": "2023-05-30T00:08:38.307Z"
   },
   {
    "duration": 9,
    "start_time": "2023-05-30T00:10:05.869Z"
   },
   {
    "duration": 30,
    "start_time": "2023-05-30T00:10:24.823Z"
   },
   {
    "duration": 4,
    "start_time": "2023-05-30T00:11:30.432Z"
   },
   {
    "duration": 5,
    "start_time": "2023-05-30T00:14:09.065Z"
   },
   {
    "duration": 7,
    "start_time": "2023-05-30T00:14:15.339Z"
   },
   {
    "duration": 4,
    "start_time": "2023-05-30T00:17:58.548Z"
   },
   {
    "duration": 6,
    "start_time": "2023-05-30T00:18:05.829Z"
   },
   {
    "duration": 12,
    "start_time": "2023-05-30T00:19:22.415Z"
   },
   {
    "duration": 13,
    "start_time": "2023-05-30T00:19:35.312Z"
   },
   {
    "duration": 3,
    "start_time": "2023-05-30T00:19:51.911Z"
   },
   {
    "duration": 64,
    "start_time": "2023-05-30T00:19:51.921Z"
   },
   {
    "duration": 20,
    "start_time": "2023-05-30T00:19:51.987Z"
   },
   {
    "duration": 22,
    "start_time": "2023-05-30T00:19:52.008Z"
   },
   {
    "duration": 7,
    "start_time": "2023-05-30T00:19:52.032Z"
   },
   {
    "duration": 22,
    "start_time": "2023-05-30T00:19:52.040Z"
   },
   {
    "duration": 9,
    "start_time": "2023-05-30T00:19:52.063Z"
   },
   {
    "duration": 13,
    "start_time": "2023-05-30T00:19:52.073Z"
   },
   {
    "duration": 7,
    "start_time": "2023-05-30T00:19:52.087Z"
   },
   {
    "duration": 18,
    "start_time": "2023-05-30T00:19:52.095Z"
   },
   {
    "duration": 19,
    "start_time": "2023-05-30T00:19:52.114Z"
   },
   {
    "duration": 17,
    "start_time": "2023-05-30T00:19:52.134Z"
   },
   {
    "duration": 14,
    "start_time": "2023-05-30T00:19:52.152Z"
   },
   {
    "duration": 5,
    "start_time": "2023-05-30T00:19:52.168Z"
   },
   {
    "duration": 21,
    "start_time": "2023-05-30T00:19:52.174Z"
   },
   {
    "duration": 7,
    "start_time": "2023-05-30T00:19:52.196Z"
   },
   {
    "duration": 38,
    "start_time": "2023-05-30T00:19:52.204Z"
   },
   {
    "duration": 23,
    "start_time": "2023-05-30T00:19:52.244Z"
   },
   {
    "duration": 13,
    "start_time": "2023-05-30T00:19:52.269Z"
   },
   {
    "duration": 19,
    "start_time": "2023-05-30T00:19:52.283Z"
   },
   {
    "duration": 37,
    "start_time": "2023-05-30T00:19:52.304Z"
   },
   {
    "duration": 16,
    "start_time": "2023-05-30T00:19:52.342Z"
   },
   {
    "duration": 28,
    "start_time": "2023-05-30T00:19:52.360Z"
   },
   {
    "duration": 45,
    "start_time": "2023-05-30T00:19:52.390Z"
   },
   {
    "duration": 4,
    "start_time": "2023-05-30T00:19:52.436Z"
   },
   {
    "duration": 13,
    "start_time": "2023-05-30T00:19:52.441Z"
   },
   {
    "duration": 9,
    "start_time": "2023-05-30T00:19:52.455Z"
   },
   {
    "duration": 0,
    "start_time": "2023-05-30T00:19:52.466Z"
   },
   {
    "duration": 0,
    "start_time": "2023-05-30T00:19:52.467Z"
   },
   {
    "duration": 0,
    "start_time": "2023-05-30T00:19:52.467Z"
   },
   {
    "duration": 0,
    "start_time": "2023-05-30T00:19:52.468Z"
   },
   {
    "duration": 5,
    "start_time": "2023-05-30T00:20:07.571Z"
   },
   {
    "duration": 5,
    "start_time": "2023-05-30T00:20:19.668Z"
   },
   {
    "duration": 6,
    "start_time": "2023-05-30T00:21:53.600Z"
   },
   {
    "duration": 5,
    "start_time": "2023-05-30T00:21:54.296Z"
   },
   {
    "duration": 8,
    "start_time": "2023-05-30T00:22:17.986Z"
   },
   {
    "duration": 4,
    "start_time": "2023-05-30T00:22:59.016Z"
   },
   {
    "duration": 10,
    "start_time": "2023-05-30T00:23:43.349Z"
   },
   {
    "duration": 10,
    "start_time": "2023-05-30T00:23:57.846Z"
   },
   {
    "duration": 12,
    "start_time": "2023-05-30T00:29:02.995Z"
   },
   {
    "duration": 12,
    "start_time": "2023-05-30T00:29:36.910Z"
   },
   {
    "duration": 17,
    "start_time": "2023-05-30T00:31:09.440Z"
   },
   {
    "duration": 7,
    "start_time": "2023-05-30T00:31:24.995Z"
   },
   {
    "duration": 4,
    "start_time": "2023-05-30T00:31:40.908Z"
   },
   {
    "duration": 3,
    "start_time": "2023-05-30T00:34:46.640Z"
   },
   {
    "duration": 10,
    "start_time": "2023-05-30T00:35:13.583Z"
   },
   {
    "duration": 11,
    "start_time": "2023-05-30T00:36:16.414Z"
   },
   {
    "duration": 23,
    "start_time": "2023-05-30T00:36:39.664Z"
   },
   {
    "duration": 32,
    "start_time": "2023-05-30T00:37:01.028Z"
   },
   {
    "duration": 26,
    "start_time": "2023-05-30T00:37:31.614Z"
   },
   {
    "duration": 27,
    "start_time": "2023-05-30T00:37:39.391Z"
   },
   {
    "duration": 4,
    "start_time": "2023-05-30T00:38:16.756Z"
   },
   {
    "duration": 3,
    "start_time": "2023-05-30T00:38:43.663Z"
   },
   {
    "duration": 10,
    "start_time": "2023-05-30T00:39:05.785Z"
   },
   {
    "duration": 3,
    "start_time": "2023-05-30T00:39:25.445Z"
   },
   {
    "duration": 71,
    "start_time": "2023-05-30T00:39:25.449Z"
   },
   {
    "duration": 20,
    "start_time": "2023-05-30T00:39:25.521Z"
   },
   {
    "duration": 10,
    "start_time": "2023-05-30T00:39:25.543Z"
   },
   {
    "duration": 28,
    "start_time": "2023-05-30T00:39:25.554Z"
   },
   {
    "duration": 18,
    "start_time": "2023-05-30T00:39:25.583Z"
   },
   {
    "duration": 15,
    "start_time": "2023-05-30T00:39:25.602Z"
   },
   {
    "duration": 30,
    "start_time": "2023-05-30T00:39:25.619Z"
   },
   {
    "duration": 12,
    "start_time": "2023-05-30T00:39:25.651Z"
   },
   {
    "duration": 41,
    "start_time": "2023-05-30T00:39:25.664Z"
   },
   {
    "duration": 14,
    "start_time": "2023-05-30T00:39:25.706Z"
   },
   {
    "duration": 35,
    "start_time": "2023-05-30T00:39:25.721Z"
   },
   {
    "duration": 20,
    "start_time": "2023-05-30T00:39:25.757Z"
   },
   {
    "duration": 8,
    "start_time": "2023-05-30T00:39:25.779Z"
   },
   {
    "duration": 45,
    "start_time": "2023-05-30T00:39:25.788Z"
   },
   {
    "duration": 7,
    "start_time": "2023-05-30T00:39:25.834Z"
   },
   {
    "duration": 45,
    "start_time": "2023-05-30T00:39:25.842Z"
   },
   {
    "duration": 22,
    "start_time": "2023-05-30T00:39:25.888Z"
   },
   {
    "duration": 25,
    "start_time": "2023-05-30T00:39:25.911Z"
   },
   {
    "duration": 24,
    "start_time": "2023-05-30T00:39:25.937Z"
   },
   {
    "duration": 16,
    "start_time": "2023-05-30T00:39:25.962Z"
   },
   {
    "duration": 36,
    "start_time": "2023-05-30T00:39:25.979Z"
   },
   {
    "duration": 25,
    "start_time": "2023-05-30T00:39:26.017Z"
   },
   {
    "duration": 24,
    "start_time": "2023-05-30T00:39:26.043Z"
   },
   {
    "duration": 4,
    "start_time": "2023-05-30T00:39:26.068Z"
   },
   {
    "duration": 12,
    "start_time": "2023-05-30T00:39:26.074Z"
   },
   {
    "duration": 26,
    "start_time": "2023-05-30T00:39:26.087Z"
   },
   {
    "duration": 23,
    "start_time": "2023-05-30T00:39:26.115Z"
   },
   {
    "duration": 4,
    "start_time": "2023-05-30T00:39:26.140Z"
   },
   {
    "duration": 19,
    "start_time": "2023-05-30T00:39:26.145Z"
   },
   {
    "duration": 15,
    "start_time": "2023-05-30T00:39:26.166Z"
   },
   {
    "duration": 13,
    "start_time": "2023-05-30T00:39:26.182Z"
   },
   {
    "duration": 5,
    "start_time": "2023-05-30T00:39:26.196Z"
   },
   {
    "duration": 5,
    "start_time": "2023-05-30T00:39:54.341Z"
   },
   {
    "duration": 3,
    "start_time": "2023-05-30T00:39:58.287Z"
   },
   {
    "duration": 52,
    "start_time": "2023-05-30T00:39:58.292Z"
   },
   {
    "duration": 21,
    "start_time": "2023-05-30T00:39:58.345Z"
   },
   {
    "duration": 8,
    "start_time": "2023-05-30T00:39:58.368Z"
   },
   {
    "duration": 6,
    "start_time": "2023-05-30T00:39:58.378Z"
   },
   {
    "duration": 4,
    "start_time": "2023-05-30T00:39:58.386Z"
   },
   {
    "duration": 24,
    "start_time": "2023-05-30T00:39:58.392Z"
   },
   {
    "duration": 5,
    "start_time": "2023-05-30T00:39:58.417Z"
   },
   {
    "duration": 7,
    "start_time": "2023-05-30T00:39:58.423Z"
   },
   {
    "duration": 12,
    "start_time": "2023-05-30T00:39:58.432Z"
   },
   {
    "duration": 5,
    "start_time": "2023-05-30T00:39:58.446Z"
   },
   {
    "duration": 13,
    "start_time": "2023-05-30T00:39:58.452Z"
   },
   {
    "duration": 15,
    "start_time": "2023-05-30T00:39:58.466Z"
   },
   {
    "duration": 4,
    "start_time": "2023-05-30T00:39:58.484Z"
   },
   {
    "duration": 46,
    "start_time": "2023-05-30T00:39:58.489Z"
   },
   {
    "duration": 7,
    "start_time": "2023-05-30T00:39:58.536Z"
   },
   {
    "duration": 27,
    "start_time": "2023-05-30T00:39:58.545Z"
   },
   {
    "duration": 16,
    "start_time": "2023-05-30T00:39:58.574Z"
   },
   {
    "duration": 24,
    "start_time": "2023-05-30T00:39:58.591Z"
   },
   {
    "duration": 9,
    "start_time": "2023-05-30T00:39:58.617Z"
   },
   {
    "duration": 20,
    "start_time": "2023-05-30T00:39:58.627Z"
   },
   {
    "duration": 11,
    "start_time": "2023-05-30T00:39:58.648Z"
   },
   {
    "duration": 15,
    "start_time": "2023-05-30T00:39:58.660Z"
   },
   {
    "duration": 24,
    "start_time": "2023-05-30T00:39:58.676Z"
   },
   {
    "duration": 4,
    "start_time": "2023-05-30T00:39:58.701Z"
   },
   {
    "duration": 9,
    "start_time": "2023-05-30T00:39:58.706Z"
   },
   {
    "duration": 21,
    "start_time": "2023-05-30T00:39:58.717Z"
   },
   {
    "duration": 24,
    "start_time": "2023-05-30T00:39:58.739Z"
   },
   {
    "duration": 3,
    "start_time": "2023-05-30T00:39:58.765Z"
   },
   {
    "duration": 4,
    "start_time": "2023-05-30T00:39:58.770Z"
   },
   {
    "duration": 12,
    "start_time": "2023-05-30T00:39:58.775Z"
   },
   {
    "duration": 30,
    "start_time": "2023-05-30T00:39:58.789Z"
   },
   {
    "duration": 6,
    "start_time": "2023-05-30T00:39:58.820Z"
   },
   {
    "duration": 5,
    "start_time": "2023-05-30T00:40:30.051Z"
   },
   {
    "duration": 5,
    "start_time": "2023-05-30T00:41:28.210Z"
   },
   {
    "duration": 3,
    "start_time": "2023-05-30T00:41:30.566Z"
   },
   {
    "duration": 75,
    "start_time": "2023-05-30T00:41:30.571Z"
   },
   {
    "duration": 20,
    "start_time": "2023-05-30T00:41:30.647Z"
   },
   {
    "duration": 30,
    "start_time": "2023-05-30T00:41:30.668Z"
   },
   {
    "duration": 35,
    "start_time": "2023-05-30T00:41:30.700Z"
   },
   {
    "duration": 27,
    "start_time": "2023-05-30T00:41:30.736Z"
   },
   {
    "duration": 33,
    "start_time": "2023-05-30T00:41:30.764Z"
   },
   {
    "duration": 44,
    "start_time": "2023-05-30T00:41:30.798Z"
   },
   {
    "duration": 26,
    "start_time": "2023-05-30T00:41:30.843Z"
   },
   {
    "duration": 34,
    "start_time": "2023-05-30T00:41:30.870Z"
   },
   {
    "duration": 60,
    "start_time": "2023-05-30T00:41:30.906Z"
   },
   {
    "duration": 42,
    "start_time": "2023-05-30T00:41:30.968Z"
   },
   {
    "duration": 51,
    "start_time": "2023-05-30T00:41:31.011Z"
   },
   {
    "duration": 37,
    "start_time": "2023-05-30T00:41:31.065Z"
   },
   {
    "duration": 61,
    "start_time": "2023-05-30T00:41:31.103Z"
   },
   {
    "duration": 34,
    "start_time": "2023-05-30T00:41:31.165Z"
   },
   {
    "duration": 50,
    "start_time": "2023-05-30T00:41:31.201Z"
   },
   {
    "duration": 26,
    "start_time": "2023-05-30T00:41:31.253Z"
   },
   {
    "duration": 31,
    "start_time": "2023-05-30T00:41:31.281Z"
   },
   {
    "duration": 50,
    "start_time": "2023-05-30T00:41:31.313Z"
   },
   {
    "duration": 36,
    "start_time": "2023-05-30T00:41:31.365Z"
   },
   {
    "duration": 31,
    "start_time": "2023-05-30T00:41:31.402Z"
   },
   {
    "duration": 65,
    "start_time": "2023-05-30T00:41:31.434Z"
   },
   {
    "duration": 88,
    "start_time": "2023-05-30T00:41:31.500Z"
   },
   {
    "duration": 4,
    "start_time": "2023-05-30T00:41:31.590Z"
   },
   {
    "duration": 16,
    "start_time": "2023-05-30T00:41:31.596Z"
   },
   {
    "duration": 54,
    "start_time": "2023-05-30T00:41:31.614Z"
   },
   {
    "duration": 44,
    "start_time": "2023-05-30T00:41:31.670Z"
   },
   {
    "duration": 15,
    "start_time": "2023-05-30T00:41:31.716Z"
   },
   {
    "duration": 26,
    "start_time": "2023-05-30T00:41:31.733Z"
   },
   {
    "duration": 44,
    "start_time": "2023-05-30T00:41:31.761Z"
   },
   {
    "duration": 42,
    "start_time": "2023-05-30T00:41:31.806Z"
   },
   {
    "duration": 29,
    "start_time": "2023-05-30T00:41:31.850Z"
   },
   {
    "duration": 29,
    "start_time": "2023-05-30T00:41:31.880Z"
   },
   {
    "duration": 12,
    "start_time": "2023-05-30T00:42:19.263Z"
   },
   {
    "duration": 17,
    "start_time": "2023-05-30T00:49:54.645Z"
   },
   {
    "duration": 14,
    "start_time": "2023-05-30T00:50:02.842Z"
   },
   {
    "duration": 8,
    "start_time": "2023-05-30T00:56:32.403Z"
   },
   {
    "duration": 9,
    "start_time": "2023-05-30T00:56:35.939Z"
   },
   {
    "duration": 8,
    "start_time": "2023-05-30T00:56:38.636Z"
   },
   {
    "duration": 9,
    "start_time": "2023-05-30T00:56:41.692Z"
   },
   {
    "duration": 16,
    "start_time": "2023-05-30T00:56:45.796Z"
   },
   {
    "duration": 14,
    "start_time": "2023-05-30T00:56:50.942Z"
   },
   {
    "duration": 7,
    "start_time": "2023-05-30T00:57:33.218Z"
   },
   {
    "duration": 11,
    "start_time": "2023-05-30T00:58:48.676Z"
   },
   {
    "duration": 304,
    "start_time": "2023-05-30T00:59:22.823Z"
   },
   {
    "duration": 9,
    "start_time": "2023-05-30T01:00:20.590Z"
   },
   {
    "duration": 9,
    "start_time": "2023-05-30T01:00:42.889Z"
   },
   {
    "duration": 9,
    "start_time": "2023-05-30T01:00:46.264Z"
   },
   {
    "duration": 10,
    "start_time": "2023-05-30T01:00:52.642Z"
   },
   {
    "duration": 17,
    "start_time": "2023-05-30T01:01:27.143Z"
   },
   {
    "duration": 6,
    "start_time": "2023-05-30T01:07:39.642Z"
   },
   {
    "duration": 5,
    "start_time": "2023-05-30T01:08:06.829Z"
   },
   {
    "duration": 15,
    "start_time": "2023-05-30T01:10:45.567Z"
   },
   {
    "duration": 16,
    "start_time": "2023-05-30T01:11:33.927Z"
   },
   {
    "duration": 12,
    "start_time": "2023-05-30T01:11:40.638Z"
   },
   {
    "duration": 15,
    "start_time": "2023-05-30T01:11:49.615Z"
   },
   {
    "duration": 16,
    "start_time": "2023-05-30T01:12:00.121Z"
   },
   {
    "duration": 6,
    "start_time": "2023-05-30T01:15:29.073Z"
   },
   {
    "duration": 1246,
    "start_time": "2023-05-30T14:48:36.816Z"
   },
   {
    "duration": 93,
    "start_time": "2023-05-30T14:48:38.064Z"
   },
   {
    "duration": 30,
    "start_time": "2023-05-30T14:48:38.159Z"
   },
   {
    "duration": 10,
    "start_time": "2023-05-30T14:48:38.191Z"
   },
   {
    "duration": 11,
    "start_time": "2023-05-30T14:48:38.204Z"
   },
   {
    "duration": 14,
    "start_time": "2023-05-30T14:48:38.217Z"
   },
   {
    "duration": 7,
    "start_time": "2023-05-30T14:48:38.233Z"
   },
   {
    "duration": 10,
    "start_time": "2023-05-30T14:48:38.241Z"
   },
   {
    "duration": 11,
    "start_time": "2023-05-30T14:48:38.253Z"
   },
   {
    "duration": 8,
    "start_time": "2023-05-30T14:48:38.285Z"
   },
   {
    "duration": 10,
    "start_time": "2023-05-30T14:48:38.295Z"
   },
   {
    "duration": 14,
    "start_time": "2023-05-30T14:48:38.306Z"
   },
   {
    "duration": 41,
    "start_time": "2023-05-30T14:48:38.321Z"
   },
   {
    "duration": 18,
    "start_time": "2023-05-30T14:48:38.365Z"
   },
   {
    "duration": 37,
    "start_time": "2023-05-30T14:48:38.385Z"
   },
   {
    "duration": 10,
    "start_time": "2023-05-30T14:48:38.424Z"
   },
   {
    "duration": 36,
    "start_time": "2023-05-30T14:48:38.436Z"
   },
   {
    "duration": 15,
    "start_time": "2023-05-30T14:48:38.473Z"
   },
   {
    "duration": 22,
    "start_time": "2023-05-30T14:48:38.490Z"
   },
   {
    "duration": 14,
    "start_time": "2023-05-30T14:48:38.513Z"
   },
   {
    "duration": 19,
    "start_time": "2023-05-30T14:48:38.528Z"
   },
   {
    "duration": 120,
    "start_time": "2023-05-30T14:48:38.549Z"
   },
   {
    "duration": 0,
    "start_time": "2023-05-30T14:48:38.670Z"
   },
   {
    "duration": 0,
    "start_time": "2023-05-30T14:48:38.671Z"
   },
   {
    "duration": 0,
    "start_time": "2023-05-30T14:48:38.674Z"
   },
   {
    "duration": 0,
    "start_time": "2023-05-30T14:48:38.687Z"
   },
   {
    "duration": 0,
    "start_time": "2023-05-30T14:48:38.689Z"
   },
   {
    "duration": 0,
    "start_time": "2023-05-30T14:48:38.690Z"
   },
   {
    "duration": 0,
    "start_time": "2023-05-30T14:48:38.692Z"
   },
   {
    "duration": 0,
    "start_time": "2023-05-30T14:48:38.693Z"
   },
   {
    "duration": 0,
    "start_time": "2023-05-30T14:48:38.694Z"
   },
   {
    "duration": 0,
    "start_time": "2023-05-30T14:48:38.695Z"
   },
   {
    "duration": 0,
    "start_time": "2023-05-30T14:48:38.697Z"
   },
   {
    "duration": 0,
    "start_time": "2023-05-30T14:48:38.698Z"
   },
   {
    "duration": 0,
    "start_time": "2023-05-30T14:48:38.699Z"
   },
   {
    "duration": 0,
    "start_time": "2023-05-30T14:48:38.700Z"
   },
   {
    "duration": 0,
    "start_time": "2023-05-30T14:48:38.701Z"
   },
   {
    "duration": 15,
    "start_time": "2023-05-30T14:49:05.814Z"
   },
   {
    "duration": 10,
    "start_time": "2023-05-30T14:49:08.248Z"
   },
   {
    "duration": 26,
    "start_time": "2023-05-30T14:49:08.745Z"
   },
   {
    "duration": 4,
    "start_time": "2023-05-30T14:49:09.192Z"
   },
   {
    "duration": 5,
    "start_time": "2023-05-30T14:49:09.407Z"
   },
   {
    "duration": 16,
    "start_time": "2023-05-30T14:49:10.394Z"
   },
   {
    "duration": 27,
    "start_time": "2023-05-30T14:49:10.695Z"
   },
   {
    "duration": 3,
    "start_time": "2023-05-30T14:49:10.966Z"
   },
   {
    "duration": 3,
    "start_time": "2023-05-30T14:49:12.009Z"
   },
   {
    "duration": 15,
    "start_time": "2023-05-30T14:49:13.089Z"
   },
   {
    "duration": 13,
    "start_time": "2023-05-30T14:49:16.073Z"
   },
   {
    "duration": 13,
    "start_time": "2023-05-30T14:49:16.377Z"
   },
   {
    "duration": 5,
    "start_time": "2023-05-30T14:49:18.449Z"
   },
   {
    "duration": 8,
    "start_time": "2023-05-30T14:49:19.049Z"
   },
   {
    "duration": 14,
    "start_time": "2023-05-30T14:49:19.378Z"
   },
   {
    "duration": 26,
    "start_time": "2023-05-30T14:49:20.046Z"
   },
   {
    "duration": 10,
    "start_time": "2023-05-30T15:22:29.554Z"
   },
   {
    "duration": 6,
    "start_time": "2023-05-30T15:22:49.868Z"
   },
   {
    "duration": 8,
    "start_time": "2023-05-30T15:23:04.149Z"
   },
   {
    "duration": 5,
    "start_time": "2023-05-30T15:23:15.871Z"
   },
   {
    "duration": 9,
    "start_time": "2023-05-30T15:24:18.907Z"
   },
   {
    "duration": 8,
    "start_time": "2023-05-30T15:24:23.574Z"
   },
   {
    "duration": 4,
    "start_time": "2023-05-30T15:24:30.984Z"
   },
   {
    "duration": 6,
    "start_time": "2023-05-30T15:24:37.648Z"
   },
   {
    "duration": 28,
    "start_time": "2023-05-30T15:34:44.880Z"
   },
   {
    "duration": 15,
    "start_time": "2023-05-30T15:35:08.591Z"
   },
   {
    "duration": 19,
    "start_time": "2023-05-30T15:36:45.797Z"
   },
   {
    "duration": 25,
    "start_time": "2023-05-30T15:36:54.414Z"
   },
   {
    "duration": 56,
    "start_time": "2023-05-30T15:38:01.286Z"
   },
   {
    "duration": 1863,
    "start_time": "2023-05-30T15:38:18.736Z"
   },
   {
    "duration": 1935,
    "start_time": "2023-05-30T15:38:29.520Z"
   },
   {
    "duration": 2584,
    "start_time": "2023-05-30T15:39:12.719Z"
   },
   {
    "duration": 461,
    "start_time": "2023-05-30T15:40:40.969Z"
   },
   {
    "duration": 483,
    "start_time": "2023-05-30T15:41:12.084Z"
   },
   {
    "duration": 467,
    "start_time": "2023-05-30T15:41:19.877Z"
   },
   {
    "duration": 18,
    "start_time": "2023-05-30T15:43:10.962Z"
   },
   {
    "duration": 52,
    "start_time": "2023-05-30T15:43:16.475Z"
   },
   {
    "duration": 496,
    "start_time": "2023-05-30T15:43:24.650Z"
   },
   {
    "duration": 12,
    "start_time": "2023-05-30T15:44:09.057Z"
   },
   {
    "duration": 21,
    "start_time": "2023-05-30T15:44:16.034Z"
   },
   {
    "duration": 13,
    "start_time": "2023-05-30T15:44:22.658Z"
   },
   {
    "duration": 12,
    "start_time": "2023-05-30T15:44:53.022Z"
   },
   {
    "duration": 33,
    "start_time": "2023-05-30T15:47:42.650Z"
   },
   {
    "duration": 35,
    "start_time": "2023-05-30T15:47:46.507Z"
   },
   {
    "duration": 55,
    "start_time": "2023-05-30T15:47:57.133Z"
   },
   {
    "duration": 5,
    "start_time": "2023-05-30T15:49:39.608Z"
   },
   {
    "duration": 6,
    "start_time": "2023-05-30T15:49:45.249Z"
   },
   {
    "duration": 8,
    "start_time": "2023-05-30T15:50:49.808Z"
   },
   {
    "duration": 14,
    "start_time": "2023-05-30T15:50:59.162Z"
   },
   {
    "duration": 72,
    "start_time": "2023-05-30T15:51:21.244Z"
   },
   {
    "duration": 7,
    "start_time": "2023-05-30T15:51:37.429Z"
   },
   {
    "duration": 7,
    "start_time": "2023-05-30T15:52:27.141Z"
   },
   {
    "duration": 13,
    "start_time": "2023-05-30T15:52:36.356Z"
   },
   {
    "duration": 13,
    "start_time": "2023-05-30T15:54:05.710Z"
   },
   {
    "duration": 55,
    "start_time": "2023-05-30T15:55:23.008Z"
   },
   {
    "duration": 21,
    "start_time": "2023-05-30T15:56:18.705Z"
   },
   {
    "duration": 0,
    "start_time": "2023-05-30T15:57:12.166Z"
   },
   {
    "duration": 4299,
    "start_time": "2023-05-30T15:57:18.645Z"
   },
   {
    "duration": 4,
    "start_time": "2023-05-30T15:58:09.401Z"
   },
   {
    "duration": 4,
    "start_time": "2023-05-30T15:58:12.723Z"
   },
   {
    "duration": 38,
    "start_time": "2023-05-30T15:58:33.231Z"
   },
   {
    "duration": 58,
    "start_time": "2023-05-30T16:00:11.081Z"
   },
   {
    "duration": 195,
    "start_time": "2023-05-30T16:00:18.996Z"
   },
   {
    "duration": 307,
    "start_time": "2023-05-30T16:00:43.518Z"
   },
   {
    "duration": 248,
    "start_time": "2023-05-30T16:00:51.006Z"
   },
   {
    "duration": 258,
    "start_time": "2023-05-30T16:01:21.042Z"
   },
   {
    "duration": 257,
    "start_time": "2023-05-30T16:01:24.346Z"
   },
   {
    "duration": 12,
    "start_time": "2023-05-30T16:02:17.529Z"
   },
   {
    "duration": 414,
    "start_time": "2023-05-30T16:02:18.544Z"
   },
   {
    "duration": 287,
    "start_time": "2023-05-30T16:02:38.987Z"
   },
   {
    "duration": 254,
    "start_time": "2023-05-30T16:02:53.077Z"
   },
   {
    "duration": 266,
    "start_time": "2023-05-30T16:03:15.575Z"
   },
   {
    "duration": 14,
    "start_time": "2023-05-30T16:15:23.101Z"
   },
   {
    "duration": 10,
    "start_time": "2023-05-30T16:15:37.366Z"
   },
   {
    "duration": 170,
    "start_time": "2023-05-30T16:16:59.992Z"
   },
   {
    "duration": 271,
    "start_time": "2023-05-30T16:17:15.642Z"
   },
   {
    "duration": 277,
    "start_time": "2023-05-30T16:18:06.512Z"
   },
   {
    "duration": 253,
    "start_time": "2023-05-30T16:18:12.249Z"
   },
   {
    "duration": 250,
    "start_time": "2023-05-30T16:18:38.012Z"
   },
   {
    "duration": 294,
    "start_time": "2023-05-30T16:22:09.983Z"
   },
   {
    "duration": 264,
    "start_time": "2023-05-30T16:22:29.488Z"
   },
   {
    "duration": 288,
    "start_time": "2023-05-30T16:22:36.416Z"
   },
   {
    "duration": 406,
    "start_time": "2023-05-30T16:22:43.785Z"
   },
   {
    "duration": 267,
    "start_time": "2023-05-30T16:22:48.394Z"
   },
   {
    "duration": 315,
    "start_time": "2023-05-30T16:25:39.196Z"
   },
   {
    "duration": 298,
    "start_time": "2023-05-30T16:25:54.024Z"
   },
   {
    "duration": 258,
    "start_time": "2023-05-30T16:25:59.329Z"
   },
   {
    "duration": 12,
    "start_time": "2023-05-30T16:33:51.372Z"
   },
   {
    "duration": 1301,
    "start_time": "2023-05-30T16:34:04.245Z"
   },
   {
    "duration": 50,
    "start_time": "2023-05-30T16:34:05.548Z"
   },
   {
    "duration": 26,
    "start_time": "2023-05-30T16:34:05.599Z"
   },
   {
    "duration": 10,
    "start_time": "2023-05-30T16:34:05.626Z"
   },
   {
    "duration": 14,
    "start_time": "2023-05-30T16:34:05.637Z"
   },
   {
    "duration": 15,
    "start_time": "2023-05-30T16:34:05.652Z"
   },
   {
    "duration": 25,
    "start_time": "2023-05-30T16:34:05.669Z"
   },
   {
    "duration": 61,
    "start_time": "2023-05-30T16:34:05.696Z"
   },
   {
    "duration": 50,
    "start_time": "2023-05-30T16:34:05.758Z"
   },
   {
    "duration": 51,
    "start_time": "2023-05-30T16:34:05.810Z"
   },
   {
    "duration": 9,
    "start_time": "2023-05-30T16:34:05.863Z"
   },
   {
    "duration": 8,
    "start_time": "2023-05-30T16:34:05.873Z"
   },
   {
    "duration": 23,
    "start_time": "2023-05-30T16:34:05.882Z"
   },
   {
    "duration": 13,
    "start_time": "2023-05-30T16:34:05.906Z"
   },
   {
    "duration": 56,
    "start_time": "2023-05-30T16:34:05.920Z"
   },
   {
    "duration": 28,
    "start_time": "2023-05-30T16:34:05.977Z"
   },
   {
    "duration": 155,
    "start_time": "2023-05-30T16:34:06.006Z"
   },
   {
    "duration": 43,
    "start_time": "2023-05-30T16:34:06.164Z"
   },
   {
    "duration": 56,
    "start_time": "2023-05-30T16:34:06.209Z"
   },
   {
    "duration": 49,
    "start_time": "2023-05-30T16:34:06.267Z"
   },
   {
    "duration": 86,
    "start_time": "2023-05-30T16:34:06.318Z"
   },
   {
    "duration": 70,
    "start_time": "2023-05-30T16:34:06.406Z"
   },
   {
    "duration": 40,
    "start_time": "2023-05-30T16:34:06.477Z"
   },
   {
    "duration": 73,
    "start_time": "2023-05-30T16:34:06.519Z"
   },
   {
    "duration": 9,
    "start_time": "2023-05-30T16:34:06.593Z"
   },
   {
    "duration": 33,
    "start_time": "2023-05-30T16:34:06.604Z"
   },
   {
    "duration": 22,
    "start_time": "2023-05-30T16:34:06.639Z"
   },
   {
    "duration": 26,
    "start_time": "2023-05-30T16:34:06.665Z"
   },
   {
    "duration": 4,
    "start_time": "2023-05-30T16:34:06.693Z"
   },
   {
    "duration": 24,
    "start_time": "2023-05-30T16:34:06.698Z"
   },
   {
    "duration": 31,
    "start_time": "2023-05-30T16:34:06.723Z"
   },
   {
    "duration": 12,
    "start_time": "2023-05-30T16:34:06.756Z"
   },
   {
    "duration": 27,
    "start_time": "2023-05-30T16:34:06.770Z"
   },
   {
    "duration": 26,
    "start_time": "2023-05-30T16:34:06.798Z"
   },
   {
    "duration": 22,
    "start_time": "2023-05-30T16:34:06.826Z"
   },
   {
    "duration": 50,
    "start_time": "2023-05-30T16:34:06.849Z"
   },
   {
    "duration": 37,
    "start_time": "2023-05-30T16:34:06.901Z"
   },
   {
    "duration": 16,
    "start_time": "2023-05-30T16:34:06.939Z"
   },
   {
    "duration": 13,
    "start_time": "2023-05-30T16:34:06.956Z"
   },
   {
    "duration": 11,
    "start_time": "2023-05-30T16:34:06.970Z"
   },
   {
    "duration": 321,
    "start_time": "2023-05-30T16:34:06.982Z"
   },
   {
    "duration": 13,
    "start_time": "2023-05-30T16:34:45.117Z"
   },
   {
    "duration": 258,
    "start_time": "2023-05-30T16:37:19.112Z"
   },
   {
    "duration": 249,
    "start_time": "2023-05-30T16:37:23.623Z"
   },
   {
    "duration": 261,
    "start_time": "2023-05-30T16:37:29.296Z"
   },
   {
    "duration": 295,
    "start_time": "2023-05-30T16:57:12.212Z"
   },
   {
    "duration": 271,
    "start_time": "2023-05-30T16:57:51.352Z"
   },
   {
    "duration": 261,
    "start_time": "2023-05-30T16:58:22.308Z"
   },
   {
    "duration": 321,
    "start_time": "2023-05-30T16:58:32.949Z"
   },
   {
    "duration": 305,
    "start_time": "2023-05-30T16:58:38.950Z"
   },
   {
    "duration": 290,
    "start_time": "2023-05-30T16:58:59.768Z"
   },
   {
    "duration": 263,
    "start_time": "2023-05-30T16:59:03.592Z"
   },
   {
    "duration": 263,
    "start_time": "2023-05-30T17:02:01.093Z"
   },
   {
    "duration": 265,
    "start_time": "2023-05-30T17:03:12.814Z"
   },
   {
    "duration": 276,
    "start_time": "2023-05-30T17:03:20.327Z"
   },
   {
    "duration": 280,
    "start_time": "2023-05-30T17:09:16.490Z"
   },
   {
    "duration": 265,
    "start_time": "2023-05-30T17:09:30.346Z"
   },
   {
    "duration": 252,
    "start_time": "2023-05-30T17:09:38.587Z"
   },
   {
    "duration": 250,
    "start_time": "2023-05-30T17:09:47.236Z"
   },
   {
    "duration": 101,
    "start_time": "2023-05-30T17:23:11.707Z"
   },
   {
    "duration": 337,
    "start_time": "2023-05-30T17:23:15.483Z"
   },
   {
    "duration": 254,
    "start_time": "2023-05-30T17:23:32.846Z"
   },
   {
    "duration": 6,
    "start_time": "2023-05-30T17:30:52.066Z"
   },
   {
    "duration": 6,
    "start_time": "2023-05-30T17:30:56.890Z"
   },
   {
    "duration": 19,
    "start_time": "2023-05-30T17:31:00.515Z"
   },
   {
    "duration": 7,
    "start_time": "2023-05-30T17:31:21.534Z"
   },
   {
    "duration": 19,
    "start_time": "2023-05-30T17:31:22.139Z"
   },
   {
    "duration": 6,
    "start_time": "2023-05-30T17:31:31.554Z"
   },
   {
    "duration": 20,
    "start_time": "2023-05-30T17:31:32.687Z"
   },
   {
    "duration": 221,
    "start_time": "2023-05-30T17:32:17.061Z"
   },
   {
    "duration": 18,
    "start_time": "2023-05-30T17:32:32.415Z"
   },
   {
    "duration": 14,
    "start_time": "2023-05-30T17:32:41.920Z"
   },
   {
    "duration": 98,
    "start_time": "2023-05-30T17:34:29.397Z"
   },
   {
    "duration": 14,
    "start_time": "2023-05-30T17:34:35.269Z"
   },
   {
    "duration": 81,
    "start_time": "2023-05-30T17:39:00.725Z"
   },
   {
    "duration": 119,
    "start_time": "2023-05-30T17:39:15.422Z"
   },
   {
    "duration": 15,
    "start_time": "2023-05-30T17:39:19.181Z"
   },
   {
    "duration": 145,
    "start_time": "2023-05-30T17:39:29.040Z"
   },
   {
    "duration": 141,
    "start_time": "2023-05-30T17:39:32.944Z"
   },
   {
    "duration": 135,
    "start_time": "2023-05-30T17:40:26.487Z"
   },
   {
    "duration": 191,
    "start_time": "2023-05-30T17:40:31.015Z"
   },
   {
    "duration": 190,
    "start_time": "2023-05-30T17:45:10.896Z"
   },
   {
    "duration": 161,
    "start_time": "2023-05-30T17:45:14.721Z"
   },
   {
    "duration": 161,
    "start_time": "2023-05-30T17:45:21.057Z"
   },
   {
    "duration": 175,
    "start_time": "2023-05-30T17:45:31.490Z"
   },
   {
    "duration": 213,
    "start_time": "2023-05-30T17:45:36.132Z"
   },
   {
    "duration": 238,
    "start_time": "2023-05-30T17:47:29.913Z"
   },
   {
    "duration": 193,
    "start_time": "2023-05-30T17:47:39.153Z"
   },
   {
    "duration": 191,
    "start_time": "2023-05-30T17:47:41.722Z"
   },
   {
    "duration": 158,
    "start_time": "2023-05-30T17:48:26.303Z"
   },
   {
    "duration": 158,
    "start_time": "2023-05-30T17:48:30.168Z"
   },
   {
    "duration": 202,
    "start_time": "2023-05-30T17:48:42.297Z"
   },
   {
    "duration": 167,
    "start_time": "2023-05-30T17:48:47.849Z"
   },
   {
    "duration": 195,
    "start_time": "2023-05-30T17:49:12.102Z"
   },
   {
    "duration": 162,
    "start_time": "2023-05-30T17:49:21.478Z"
   },
   {
    "duration": 6,
    "start_time": "2023-05-30T17:50:32.823Z"
   },
   {
    "duration": 1023,
    "start_time": "2023-05-30T17:54:37.527Z"
   },
   {
    "duration": 50,
    "start_time": "2023-05-30T17:54:38.551Z"
   },
   {
    "duration": 24,
    "start_time": "2023-05-30T17:54:38.602Z"
   },
   {
    "duration": 8,
    "start_time": "2023-05-30T17:54:38.627Z"
   },
   {
    "duration": 15,
    "start_time": "2023-05-30T17:54:38.637Z"
   },
   {
    "duration": 6,
    "start_time": "2023-05-30T17:54:38.653Z"
   },
   {
    "duration": 10,
    "start_time": "2023-05-30T17:54:38.661Z"
   },
   {
    "duration": 13,
    "start_time": "2023-05-30T17:54:38.673Z"
   },
   {
    "duration": 4,
    "start_time": "2023-05-30T17:54:38.688Z"
   },
   {
    "duration": 9,
    "start_time": "2023-05-30T17:54:38.693Z"
   },
   {
    "duration": 5,
    "start_time": "2023-05-30T17:54:38.703Z"
   },
   {
    "duration": 11,
    "start_time": "2023-05-30T17:54:38.710Z"
   },
   {
    "duration": 17,
    "start_time": "2023-05-30T17:54:38.723Z"
   },
   {
    "duration": 5,
    "start_time": "2023-05-30T17:54:38.742Z"
   },
   {
    "duration": 42,
    "start_time": "2023-05-30T17:54:38.748Z"
   },
   {
    "duration": 7,
    "start_time": "2023-05-30T17:54:38.792Z"
   },
   {
    "duration": 25,
    "start_time": "2023-05-30T17:54:38.800Z"
   },
   {
    "duration": 6,
    "start_time": "2023-05-30T17:54:38.826Z"
   },
   {
    "duration": 6,
    "start_time": "2023-05-30T17:54:38.834Z"
   },
   {
    "duration": 3,
    "start_time": "2023-05-30T17:54:38.842Z"
   },
   {
    "duration": 11,
    "start_time": "2023-05-30T17:54:38.846Z"
   },
   {
    "duration": 32,
    "start_time": "2023-05-30T17:54:38.859Z"
   },
   {
    "duration": 17,
    "start_time": "2023-05-30T17:54:38.893Z"
   },
   {
    "duration": 23,
    "start_time": "2023-05-30T17:54:38.911Z"
   },
   {
    "duration": 4,
    "start_time": "2023-05-30T17:54:38.935Z"
   },
   {
    "duration": 5,
    "start_time": "2023-05-30T17:54:38.940Z"
   },
   {
    "duration": 39,
    "start_time": "2023-05-30T17:54:38.946Z"
   },
   {
    "duration": 22,
    "start_time": "2023-05-30T17:54:38.987Z"
   },
   {
    "duration": 4,
    "start_time": "2023-05-30T17:54:39.010Z"
   },
   {
    "duration": 6,
    "start_time": "2023-05-30T17:54:39.016Z"
   },
   {
    "duration": 16,
    "start_time": "2023-05-30T17:54:39.023Z"
   },
   {
    "duration": 12,
    "start_time": "2023-05-30T17:54:39.040Z"
   },
   {
    "duration": 32,
    "start_time": "2023-05-30T17:54:39.054Z"
   },
   {
    "duration": 4,
    "start_time": "2023-05-30T17:54:39.087Z"
   },
   {
    "duration": 7,
    "start_time": "2023-05-30T17:54:39.092Z"
   },
   {
    "duration": 9,
    "start_time": "2023-05-30T17:54:39.101Z"
   },
   {
    "duration": 16,
    "start_time": "2023-05-30T17:54:39.111Z"
   },
   {
    "duration": 5,
    "start_time": "2023-05-30T17:54:39.129Z"
   },
   {
    "duration": 13,
    "start_time": "2023-05-30T17:54:39.135Z"
   },
   {
    "duration": 36,
    "start_time": "2023-05-30T17:54:39.149Z"
   },
   {
    "duration": 299,
    "start_time": "2023-05-30T17:54:39.188Z"
   },
   {
    "duration": 6,
    "start_time": "2023-05-30T17:54:39.489Z"
   },
   {
    "duration": 16,
    "start_time": "2023-05-30T17:54:39.496Z"
   },
   {
    "duration": 181,
    "start_time": "2023-05-30T17:54:39.513Z"
   },
   {
    "duration": 161,
    "start_time": "2023-05-30T17:58:01.306Z"
   },
   {
    "duration": 162,
    "start_time": "2023-05-30T17:58:05.169Z"
   },
   {
    "duration": 64,
    "start_time": "2023-05-30T17:59:01.073Z"
   },
   {
    "duration": 107,
    "start_time": "2023-05-30T17:59:04.809Z"
   },
   {
    "duration": 181,
    "start_time": "2023-05-30T18:34:42.868Z"
   },
   {
    "duration": 124,
    "start_time": "2023-05-30T18:34:52.180Z"
   },
   {
    "duration": 128,
    "start_time": "2023-05-30T18:35:33.689Z"
   },
   {
    "duration": 123,
    "start_time": "2023-05-30T18:35:42.034Z"
   },
   {
    "duration": 196,
    "start_time": "2023-05-30T18:39:01.353Z"
   },
   {
    "duration": 100,
    "start_time": "2023-05-30T18:39:51.271Z"
   },
   {
    "duration": 166,
    "start_time": "2023-05-30T18:40:40.558Z"
   },
   {
    "duration": 139,
    "start_time": "2023-05-30T18:41:00.391Z"
   },
   {
    "duration": 140,
    "start_time": "2023-05-30T18:41:15.050Z"
   },
   {
    "duration": 152,
    "start_time": "2023-05-30T18:41:25.649Z"
   },
   {
    "duration": 136,
    "start_time": "2023-05-30T18:41:29.179Z"
   },
   {
    "duration": 83,
    "start_time": "2023-05-30T18:42:51.948Z"
   },
   {
    "duration": 219,
    "start_time": "2023-05-30T18:42:58.764Z"
   },
   {
    "duration": 14,
    "start_time": "2023-05-30T19:04:42.975Z"
   },
   {
    "duration": 12,
    "start_time": "2023-05-30T19:04:51.615Z"
   },
   {
    "duration": 11,
    "start_time": "2023-05-30T19:05:20.451Z"
   },
   {
    "duration": 112,
    "start_time": "2023-05-30T19:05:32.052Z"
   },
   {
    "duration": 17,
    "start_time": "2023-05-30T19:09:43.403Z"
   },
   {
    "duration": 14,
    "start_time": "2023-05-30T19:10:01.148Z"
   },
   {
    "duration": 6,
    "start_time": "2023-05-30T19:10:16.990Z"
   },
   {
    "duration": 21,
    "start_time": "2023-05-30T19:10:24.719Z"
   },
   {
    "duration": 6,
    "start_time": "2023-05-30T19:10:49.081Z"
   },
   {
    "duration": 149,
    "start_time": "2023-05-30T19:10:52.394Z"
   },
   {
    "duration": 14,
    "start_time": "2023-05-30T19:12:42.760Z"
   },
   {
    "duration": 1107,
    "start_time": "2023-05-30T19:13:07.044Z"
   },
   {
    "duration": 50,
    "start_time": "2023-05-30T19:13:08.152Z"
   },
   {
    "duration": 24,
    "start_time": "2023-05-30T19:13:08.203Z"
   },
   {
    "duration": 8,
    "start_time": "2023-05-30T19:13:08.228Z"
   },
   {
    "duration": 5,
    "start_time": "2023-05-30T19:13:08.237Z"
   },
   {
    "duration": 6,
    "start_time": "2023-05-30T19:13:08.243Z"
   },
   {
    "duration": 7,
    "start_time": "2023-05-30T19:13:08.251Z"
   },
   {
    "duration": 28,
    "start_time": "2023-05-30T19:13:08.259Z"
   },
   {
    "duration": 9,
    "start_time": "2023-05-30T19:13:08.289Z"
   },
   {
    "duration": 8,
    "start_time": "2023-05-30T19:13:08.300Z"
   },
   {
    "duration": 6,
    "start_time": "2023-05-30T19:13:08.309Z"
   },
   {
    "duration": 9,
    "start_time": "2023-05-30T19:13:08.316Z"
   },
   {
    "duration": 14,
    "start_time": "2023-05-30T19:13:08.327Z"
   },
   {
    "duration": 5,
    "start_time": "2023-05-30T19:13:08.345Z"
   },
   {
    "duration": 51,
    "start_time": "2023-05-30T19:13:08.351Z"
   },
   {
    "duration": 6,
    "start_time": "2023-05-30T19:13:08.403Z"
   },
   {
    "duration": 26,
    "start_time": "2023-05-30T19:13:08.411Z"
   },
   {
    "duration": 6,
    "start_time": "2023-05-30T19:13:08.439Z"
   },
   {
    "duration": 9,
    "start_time": "2023-05-30T19:13:08.446Z"
   },
   {
    "duration": 5,
    "start_time": "2023-05-30T19:13:08.456Z"
   },
   {
    "duration": 31,
    "start_time": "2023-05-30T19:13:08.462Z"
   },
   {
    "duration": 12,
    "start_time": "2023-05-30T19:13:08.494Z"
   },
   {
    "duration": 11,
    "start_time": "2023-05-30T19:13:08.507Z"
   },
   {
    "duration": 23,
    "start_time": "2023-05-30T19:13:08.519Z"
   },
   {
    "duration": 4,
    "start_time": "2023-05-30T19:13:08.544Z"
   },
   {
    "duration": 5,
    "start_time": "2023-05-30T19:13:08.549Z"
   },
   {
    "duration": 39,
    "start_time": "2023-05-30T19:13:08.556Z"
   },
   {
    "duration": 23,
    "start_time": "2023-05-30T19:13:08.596Z"
   },
   {
    "duration": 4,
    "start_time": "2023-05-30T19:13:08.620Z"
   },
   {
    "duration": 4,
    "start_time": "2023-05-30T19:13:08.625Z"
   },
   {
    "duration": 18,
    "start_time": "2023-05-30T19:13:08.630Z"
   },
   {
    "duration": 11,
    "start_time": "2023-05-30T19:13:08.649Z"
   },
   {
    "duration": 11,
    "start_time": "2023-05-30T19:13:08.684Z"
   },
   {
    "duration": 4,
    "start_time": "2023-05-30T19:13:08.697Z"
   },
   {
    "duration": 7,
    "start_time": "2023-05-30T19:13:08.702Z"
   },
   {
    "duration": 11,
    "start_time": "2023-05-30T19:13:08.710Z"
   },
   {
    "duration": 15,
    "start_time": "2023-05-30T19:13:08.723Z"
   },
   {
    "duration": 8,
    "start_time": "2023-05-30T19:13:08.739Z"
   },
   {
    "duration": 41,
    "start_time": "2023-05-30T19:13:08.748Z"
   },
   {
    "duration": 11,
    "start_time": "2023-05-30T19:13:08.791Z"
   },
   {
    "duration": 306,
    "start_time": "2023-05-30T19:13:08.805Z"
   },
   {
    "duration": 6,
    "start_time": "2023-05-30T19:13:09.113Z"
   },
   {
    "duration": 16,
    "start_time": "2023-05-30T19:13:09.120Z"
   },
   {
    "duration": 171,
    "start_time": "2023-05-30T19:13:09.138Z"
   },
   {
    "duration": 153,
    "start_time": "2023-05-30T19:13:09.311Z"
   },
   {
    "duration": 23,
    "start_time": "2023-05-30T19:13:09.465Z"
   },
   {
    "duration": 149,
    "start_time": "2023-05-30T19:13:09.490Z"
   },
   {
    "duration": 110,
    "start_time": "2023-05-30T19:13:09.641Z"
   },
   {
    "duration": 1074,
    "start_time": "2023-05-30T19:14:36.287Z"
   },
   {
    "duration": 51,
    "start_time": "2023-05-30T19:14:37.363Z"
   },
   {
    "duration": 28,
    "start_time": "2023-05-30T19:14:37.416Z"
   },
   {
    "duration": 8,
    "start_time": "2023-05-30T19:14:37.445Z"
   },
   {
    "duration": 11,
    "start_time": "2023-05-30T19:14:37.455Z"
   },
   {
    "duration": 16,
    "start_time": "2023-05-30T19:14:37.469Z"
   },
   {
    "duration": 8,
    "start_time": "2023-05-30T19:14:37.487Z"
   },
   {
    "duration": 7,
    "start_time": "2023-05-30T19:14:37.496Z"
   },
   {
    "duration": 5,
    "start_time": "2023-05-30T19:14:37.505Z"
   },
   {
    "duration": 23,
    "start_time": "2023-05-30T19:14:37.511Z"
   },
   {
    "duration": 17,
    "start_time": "2023-05-30T19:14:37.535Z"
   },
   {
    "duration": 24,
    "start_time": "2023-05-30T19:14:37.553Z"
   },
   {
    "duration": 14,
    "start_time": "2023-05-30T19:14:37.578Z"
   },
   {
    "duration": 4,
    "start_time": "2023-05-30T19:14:37.595Z"
   },
   {
    "duration": 47,
    "start_time": "2023-05-30T19:14:37.600Z"
   },
   {
    "duration": 6,
    "start_time": "2023-05-30T19:14:37.648Z"
   },
   {
    "duration": 39,
    "start_time": "2023-05-30T19:14:37.656Z"
   },
   {
    "duration": 6,
    "start_time": "2023-05-30T19:14:37.696Z"
   },
   {
    "duration": 7,
    "start_time": "2023-05-30T19:14:37.704Z"
   },
   {
    "duration": 4,
    "start_time": "2023-05-30T19:14:37.712Z"
   },
   {
    "duration": 20,
    "start_time": "2023-05-30T19:14:37.717Z"
   },
   {
    "duration": 9,
    "start_time": "2023-05-30T19:14:37.738Z"
   },
   {
    "duration": 13,
    "start_time": "2023-05-30T19:14:37.749Z"
   },
   {
    "duration": 40,
    "start_time": "2023-05-30T19:14:37.763Z"
   },
   {
    "duration": 5,
    "start_time": "2023-05-30T19:14:37.804Z"
   },
   {
    "duration": 16,
    "start_time": "2023-05-30T19:14:37.810Z"
   },
   {
    "duration": 16,
    "start_time": "2023-05-30T19:14:37.828Z"
   },
   {
    "duration": 24,
    "start_time": "2023-05-30T19:14:37.846Z"
   },
   {
    "duration": 4,
    "start_time": "2023-05-30T19:14:37.885Z"
   },
   {
    "duration": 15,
    "start_time": "2023-05-30T19:14:37.891Z"
   },
   {
    "duration": 37,
    "start_time": "2023-05-30T19:14:37.908Z"
   },
   {
    "duration": 39,
    "start_time": "2023-05-30T19:14:37.947Z"
   },
   {
    "duration": 25,
    "start_time": "2023-05-30T19:14:37.987Z"
   },
   {
    "duration": 11,
    "start_time": "2023-05-30T19:14:38.013Z"
   },
   {
    "duration": 9,
    "start_time": "2023-05-30T19:14:38.025Z"
   },
   {
    "duration": 14,
    "start_time": "2023-05-30T19:14:38.036Z"
   },
   {
    "duration": 19,
    "start_time": "2023-05-30T19:14:38.051Z"
   },
   {
    "duration": 8,
    "start_time": "2023-05-30T19:14:38.072Z"
   },
   {
    "duration": 17,
    "start_time": "2023-05-30T19:14:38.082Z"
   },
   {
    "duration": 26,
    "start_time": "2023-05-30T19:14:38.101Z"
   },
   {
    "duration": 336,
    "start_time": "2023-05-30T19:14:38.131Z"
   },
   {
    "duration": 8,
    "start_time": "2023-05-30T19:14:38.469Z"
   },
   {
    "duration": 21,
    "start_time": "2023-05-30T19:14:38.478Z"
   },
   {
    "duration": 167,
    "start_time": "2023-05-30T19:14:38.501Z"
   },
   {
    "duration": 157,
    "start_time": "2023-05-30T19:14:38.669Z"
   },
   {
    "duration": 15,
    "start_time": "2023-05-30T19:14:38.828Z"
   },
   {
    "duration": 162,
    "start_time": "2023-05-30T19:14:38.845Z"
   },
   {
    "duration": 116,
    "start_time": "2023-05-30T19:14:39.009Z"
   },
   {
    "duration": 118,
    "start_time": "2023-05-30T19:15:12.280Z"
   },
   {
    "duration": 103,
    "start_time": "2023-05-30T19:17:15.488Z"
   },
   {
    "duration": 70,
    "start_time": "2023-05-30T19:17:22.953Z"
   },
   {
    "duration": 204,
    "start_time": "2023-05-30T19:19:36.513Z"
   },
   {
    "duration": 199,
    "start_time": "2023-05-30T19:19:48.387Z"
   },
   {
    "duration": 140,
    "start_time": "2023-05-30T19:19:58.747Z"
   },
   {
    "duration": 132,
    "start_time": "2023-05-30T19:21:02.716Z"
   },
   {
    "duration": 250,
    "start_time": "2023-05-30T19:24:45.149Z"
   },
   {
    "duration": 236,
    "start_time": "2023-05-30T19:24:55.681Z"
   },
   {
    "duration": 68,
    "start_time": "2023-05-30T19:25:25.171Z"
   },
   {
    "duration": 239,
    "start_time": "2023-05-30T19:25:50.220Z"
   },
   {
    "duration": 14,
    "start_time": "2023-05-30T19:26:12.759Z"
   },
   {
    "duration": 217,
    "start_time": "2023-05-30T19:26:44.499Z"
   },
   {
    "duration": 282,
    "start_time": "2023-05-30T19:26:48.884Z"
   },
   {
    "duration": 249,
    "start_time": "2023-05-30T19:27:33.538Z"
   },
   {
    "duration": 133,
    "start_time": "2023-05-30T19:28:17.290Z"
   },
   {
    "duration": 78,
    "start_time": "2023-05-30T19:29:59.962Z"
   },
   {
    "duration": 77,
    "start_time": "2023-05-30T19:30:06.842Z"
   },
   {
    "duration": 16,
    "start_time": "2023-05-30T19:30:10.035Z"
   },
   {
    "duration": 73,
    "start_time": "2023-05-30T19:30:15.307Z"
   },
   {
    "duration": 83,
    "start_time": "2023-05-30T19:30:19.420Z"
   },
   {
    "duration": 12,
    "start_time": "2023-05-30T19:30:27.253Z"
   },
   {
    "duration": 76,
    "start_time": "2023-05-30T19:30:42.143Z"
   },
   {
    "duration": 420,
    "start_time": "2023-05-30T19:33:14.867Z"
   },
   {
    "duration": 324,
    "start_time": "2023-05-30T19:34:06.792Z"
   },
   {
    "duration": 350,
    "start_time": "2023-05-30T19:34:28.370Z"
   },
   {
    "duration": 161,
    "start_time": "2023-05-30T21:05:15.892Z"
   },
   {
    "duration": 147,
    "start_time": "2023-05-30T21:07:17.454Z"
   },
   {
    "duration": 135,
    "start_time": "2023-05-30T21:07:25.798Z"
   },
   {
    "duration": 134,
    "start_time": "2023-05-30T21:07:33.071Z"
   },
   {
    "duration": 124,
    "start_time": "2023-05-30T21:07:53.498Z"
   },
   {
    "duration": 135,
    "start_time": "2023-05-30T21:09:02.921Z"
   },
   {
    "duration": 142,
    "start_time": "2023-05-30T21:09:11.993Z"
   },
   {
    "duration": 144,
    "start_time": "2023-05-30T21:09:26.291Z"
   },
   {
    "duration": 113,
    "start_time": "2023-05-30T21:10:25.315Z"
   },
   {
    "duration": 173,
    "start_time": "2023-05-30T21:11:45.996Z"
   },
   {
    "duration": 209,
    "start_time": "2023-05-30T21:11:52.789Z"
   },
   {
    "duration": 132,
    "start_time": "2023-05-30T21:11:58.661Z"
   },
   {
    "duration": 143,
    "start_time": "2023-05-30T21:12:21.730Z"
   },
   {
    "duration": 123,
    "start_time": "2023-05-30T21:12:26.289Z"
   },
   {
    "duration": 7,
    "start_time": "2023-05-30T21:14:50.921Z"
   },
   {
    "duration": 8,
    "start_time": "2023-05-30T21:15:12.052Z"
   },
   {
    "duration": 7,
    "start_time": "2023-05-30T21:15:13.821Z"
   },
   {
    "duration": 140,
    "start_time": "2023-05-30T21:17:52.072Z"
   },
   {
    "duration": 139,
    "start_time": "2023-05-30T21:17:58.440Z"
   },
   {
    "duration": 8,
    "start_time": "2023-05-30T21:18:11.688Z"
   },
   {
    "duration": 7,
    "start_time": "2023-05-30T21:18:15.681Z"
   },
   {
    "duration": 6,
    "start_time": "2023-05-30T21:26:09.568Z"
   },
   {
    "duration": 6,
    "start_time": "2023-05-30T21:26:19.825Z"
   },
   {
    "duration": 11,
    "start_time": "2023-05-30T21:26:58.358Z"
   },
   {
    "duration": 12,
    "start_time": "2023-05-30T21:29:14.118Z"
   },
   {
    "duration": 15,
    "start_time": "2023-05-30T21:29:25.678Z"
   },
   {
    "duration": 144,
    "start_time": "2023-05-30T21:29:37.344Z"
   },
   {
    "duration": 16,
    "start_time": "2023-05-30T21:29:58.259Z"
   },
   {
    "duration": 144,
    "start_time": "2023-05-30T21:30:03.803Z"
   },
   {
    "duration": 146,
    "start_time": "2023-05-30T21:30:09.572Z"
   },
   {
    "duration": 146,
    "start_time": "2023-05-30T21:30:24.725Z"
   },
   {
    "duration": 142,
    "start_time": "2023-05-30T21:30:50.864Z"
   },
   {
    "duration": 147,
    "start_time": "2023-05-30T21:32:03.689Z"
   },
   {
    "duration": 175,
    "start_time": "2023-05-30T21:32:35.048Z"
   },
   {
    "duration": 152,
    "start_time": "2023-05-30T21:33:00.825Z"
   },
   {
    "duration": 149,
    "start_time": "2023-05-30T21:33:10.073Z"
   },
   {
    "duration": 148,
    "start_time": "2023-05-30T21:33:18.441Z"
   },
   {
    "duration": 10,
    "start_time": "2023-05-30T21:34:10.896Z"
   },
   {
    "duration": 11,
    "start_time": "2023-05-30T21:34:27.482Z"
   },
   {
    "duration": 147,
    "start_time": "2023-05-30T21:34:55.830Z"
   },
   {
    "duration": 127,
    "start_time": "2023-05-30T21:35:13.521Z"
   },
   {
    "duration": 81,
    "start_time": "2023-05-30T21:35:48.240Z"
   },
   {
    "duration": 87,
    "start_time": "2023-05-30T21:37:01.273Z"
   },
   {
    "duration": 121,
    "start_time": "2023-05-30T21:38:34.911Z"
   },
   {
    "duration": 123,
    "start_time": "2023-05-30T21:38:46.840Z"
   },
   {
    "duration": 140,
    "start_time": "2023-05-30T21:39:40.673Z"
   },
   {
    "duration": 126,
    "start_time": "2023-05-30T21:39:52.591Z"
   },
   {
    "duration": 302,
    "start_time": "2023-05-30T21:39:58.048Z"
   },
   {
    "duration": 83,
    "start_time": "2023-05-30T21:40:08.912Z"
   },
   {
    "duration": 126,
    "start_time": "2023-05-30T21:40:25.188Z"
   },
   {
    "duration": 120,
    "start_time": "2023-05-30T21:41:14.689Z"
   },
   {
    "duration": 144,
    "start_time": "2023-05-30T21:41:23.746Z"
   },
   {
    "duration": 158,
    "start_time": "2023-05-30T21:41:50.693Z"
   },
   {
    "duration": 152,
    "start_time": "2023-05-30T21:42:34.043Z"
   },
   {
    "duration": 151,
    "start_time": "2023-05-30T21:42:49.507Z"
   },
   {
    "duration": 146,
    "start_time": "2023-05-30T21:45:13.573Z"
   },
   {
    "duration": 6,
    "start_time": "2023-05-30T21:45:16.533Z"
   },
   {
    "duration": 11,
    "start_time": "2023-05-30T22:19:58.375Z"
   },
   {
    "duration": 125,
    "start_time": "2023-05-30T22:21:29.505Z"
   },
   {
    "duration": 133,
    "start_time": "2023-05-30T22:24:24.261Z"
   },
   {
    "duration": 211,
    "start_time": "2023-05-30T22:24:44.623Z"
   },
   {
    "duration": 121,
    "start_time": "2023-05-30T22:26:28.564Z"
   },
   {
    "duration": 110,
    "start_time": "2023-05-30T22:26:54.470Z"
   },
   {
    "duration": 13,
    "start_time": "2023-05-30T22:26:59.375Z"
   },
   {
    "duration": 13,
    "start_time": "2023-05-30T22:27:03.944Z"
   },
   {
    "duration": 109,
    "start_time": "2023-05-30T22:27:20.209Z"
   },
   {
    "duration": 117,
    "start_time": "2023-05-30T22:27:37.484Z"
   },
   {
    "duration": 121,
    "start_time": "2023-05-30T22:27:40.972Z"
   },
   {
    "duration": 109,
    "start_time": "2023-05-30T22:28:21.385Z"
   },
   {
    "duration": 106,
    "start_time": "2023-05-30T22:28:37.643Z"
   },
   {
    "duration": 136,
    "start_time": "2023-05-30T22:29:14.535Z"
   },
   {
    "duration": 147,
    "start_time": "2023-05-30T22:29:26.696Z"
   },
   {
    "duration": 145,
    "start_time": "2023-05-30T22:29:30.080Z"
   },
   {
    "duration": 189,
    "start_time": "2023-05-30T22:29:47.715Z"
   },
   {
    "duration": 306,
    "start_time": "2023-05-30T22:30:28.440Z"
   },
   {
    "duration": 216,
    "start_time": "2023-05-30T22:30:35.343Z"
   },
   {
    "duration": 254,
    "start_time": "2023-05-30T22:30:49.018Z"
   },
   {
    "duration": 104,
    "start_time": "2023-05-30T22:31:02.171Z"
   },
   {
    "duration": 253,
    "start_time": "2023-05-30T22:32:01.113Z"
   },
   {
    "duration": 250,
    "start_time": "2023-05-30T22:32:20.421Z"
   },
   {
    "duration": 337,
    "start_time": "2023-05-30T22:32:29.757Z"
   },
   {
    "duration": 8,
    "start_time": "2023-05-30T22:38:07.214Z"
   },
   {
    "duration": 24,
    "start_time": "2023-05-30T22:38:25.968Z"
   },
   {
    "duration": 7,
    "start_time": "2023-05-30T22:38:53.321Z"
   },
   {
    "duration": 9,
    "start_time": "2023-05-30T22:39:22.813Z"
   },
   {
    "duration": 9,
    "start_time": "2023-05-30T22:39:31.750Z"
   },
   {
    "duration": 19,
    "start_time": "2023-05-30T22:40:00.626Z"
   },
   {
    "duration": 320,
    "start_time": "2023-05-30T22:48:58.682Z"
   },
   {
    "duration": 156,
    "start_time": "2023-05-30T22:49:18.179Z"
   },
   {
    "duration": 163,
    "start_time": "2023-05-30T22:52:56.341Z"
   },
   {
    "duration": 196,
    "start_time": "2023-05-30T22:53:12.774Z"
   },
   {
    "duration": 218,
    "start_time": "2023-05-30T22:53:33.097Z"
   },
   {
    "duration": 311,
    "start_time": "2023-05-30T22:54:59.995Z"
   },
   {
    "duration": 225,
    "start_time": "2023-05-30T22:55:09.492Z"
   },
   {
    "duration": 324,
    "start_time": "2023-05-30T22:56:33.808Z"
   },
   {
    "duration": 383,
    "start_time": "2023-05-30T22:57:55.176Z"
   },
   {
    "duration": 423,
    "start_time": "2023-05-30T22:58:11.986Z"
   },
   {
    "duration": 361,
    "start_time": "2023-05-30T22:58:17.226Z"
   },
   {
    "duration": 455,
    "start_time": "2023-05-30T22:59:04.810Z"
   },
   {
    "duration": 385,
    "start_time": "2023-05-30T22:59:59.991Z"
   },
   {
    "duration": 275,
    "start_time": "2023-05-30T23:01:11.040Z"
   },
   {
    "duration": 504,
    "start_time": "2023-05-30T23:02:01.692Z"
   },
   {
    "duration": 410,
    "start_time": "2023-05-30T23:02:32.208Z"
   },
   {
    "duration": 537,
    "start_time": "2023-05-30T23:02:43.185Z"
   },
   {
    "duration": 581,
    "start_time": "2023-05-30T23:02:57.059Z"
   },
   {
    "duration": 539,
    "start_time": "2023-05-30T23:03:03.571Z"
   },
   {
    "duration": 535,
    "start_time": "2023-05-30T23:03:49.801Z"
   },
   {
    "duration": 559,
    "start_time": "2023-05-30T23:03:55.794Z"
   },
   {
    "duration": 229,
    "start_time": "2023-05-30T23:04:45.223Z"
   },
   {
    "duration": 310,
    "start_time": "2023-05-30T23:17:33.729Z"
   },
   {
    "duration": 247,
    "start_time": "2023-05-30T23:18:58.154Z"
   },
   {
    "duration": 1059,
    "start_time": "2023-05-30T23:37:17.086Z"
   },
   {
    "duration": 54,
    "start_time": "2023-05-30T23:37:18.147Z"
   },
   {
    "duration": 24,
    "start_time": "2023-05-30T23:37:18.203Z"
   },
   {
    "duration": 7,
    "start_time": "2023-05-30T23:37:18.229Z"
   },
   {
    "duration": 5,
    "start_time": "2023-05-30T23:37:18.237Z"
   },
   {
    "duration": 6,
    "start_time": "2023-05-30T23:37:18.243Z"
   },
   {
    "duration": 6,
    "start_time": "2023-05-30T23:37:18.250Z"
   },
   {
    "duration": 28,
    "start_time": "2023-05-30T23:37:18.258Z"
   },
   {
    "duration": 4,
    "start_time": "2023-05-30T23:37:18.288Z"
   },
   {
    "duration": 21,
    "start_time": "2023-05-30T23:37:18.294Z"
   },
   {
    "duration": 5,
    "start_time": "2023-05-30T23:37:18.316Z"
   },
   {
    "duration": 10,
    "start_time": "2023-05-30T23:37:18.323Z"
   },
   {
    "duration": 16,
    "start_time": "2023-05-30T23:37:18.334Z"
   },
   {
    "duration": 5,
    "start_time": "2023-05-30T23:37:18.351Z"
   },
   {
    "duration": 31,
    "start_time": "2023-05-30T23:37:18.357Z"
   },
   {
    "duration": 10,
    "start_time": "2023-05-30T23:37:18.390Z"
   },
   {
    "duration": 28,
    "start_time": "2023-05-30T23:37:18.402Z"
   },
   {
    "duration": 7,
    "start_time": "2023-05-30T23:37:18.432Z"
   },
   {
    "duration": 14,
    "start_time": "2023-05-30T23:37:18.441Z"
   },
   {
    "duration": 22,
    "start_time": "2023-05-30T23:37:18.457Z"
   },
   {
    "duration": 16,
    "start_time": "2023-05-30T23:37:18.481Z"
   },
   {
    "duration": 10,
    "start_time": "2023-05-30T23:37:18.499Z"
   },
   {
    "duration": 17,
    "start_time": "2023-05-30T23:37:18.510Z"
   },
   {
    "duration": 25,
    "start_time": "2023-05-30T23:37:18.529Z"
   },
   {
    "duration": 4,
    "start_time": "2023-05-30T23:37:18.555Z"
   },
   {
    "duration": 17,
    "start_time": "2023-05-30T23:37:18.560Z"
   },
   {
    "duration": 19,
    "start_time": "2023-05-30T23:37:18.578Z"
   },
   {
    "duration": 25,
    "start_time": "2023-05-30T23:37:18.599Z"
   },
   {
    "duration": 4,
    "start_time": "2023-05-30T23:37:18.625Z"
   },
   {
    "duration": 13,
    "start_time": "2023-05-30T23:37:18.630Z"
   },
   {
    "duration": 18,
    "start_time": "2023-05-30T23:37:18.644Z"
   },
   {
    "duration": 26,
    "start_time": "2023-05-30T23:37:18.663Z"
   },
   {
    "duration": 10,
    "start_time": "2023-05-30T23:37:18.691Z"
   },
   {
    "duration": 7,
    "start_time": "2023-05-30T23:37:18.702Z"
   },
   {
    "duration": 8,
    "start_time": "2023-05-30T23:37:18.711Z"
   },
   {
    "duration": 11,
    "start_time": "2023-05-30T23:37:18.720Z"
   },
   {
    "duration": 15,
    "start_time": "2023-05-30T23:37:18.732Z"
   },
   {
    "duration": 7,
    "start_time": "2023-05-30T23:37:18.748Z"
   },
   {
    "duration": 34,
    "start_time": "2023-05-30T23:37:18.756Z"
   },
   {
    "duration": 11,
    "start_time": "2023-05-30T23:37:18.792Z"
   },
   {
    "duration": 299,
    "start_time": "2023-05-30T23:37:18.804Z"
   },
   {
    "duration": 6,
    "start_time": "2023-05-30T23:37:19.104Z"
   },
   {
    "duration": 28,
    "start_time": "2023-05-30T23:37:19.111Z"
   },
   {
    "duration": 159,
    "start_time": "2023-05-30T23:37:19.140Z"
   },
   {
    "duration": 157,
    "start_time": "2023-05-30T23:37:19.301Z"
   },
   {
    "duration": 15,
    "start_time": "2023-05-30T23:37:19.460Z"
   },
   {
    "duration": 140,
    "start_time": "2023-05-30T23:37:19.484Z"
   },
   {
    "duration": 128,
    "start_time": "2023-05-30T23:37:19.625Z"
   },
   {
    "duration": 6,
    "start_time": "2023-05-30T23:37:19.754Z"
   },
   {
    "duration": 17,
    "start_time": "2023-05-30T23:37:19.761Z"
   },
   {
    "duration": 11,
    "start_time": "2023-05-30T23:37:19.780Z"
   },
   {
    "duration": 155,
    "start_time": "2023-05-30T23:37:19.792Z"
   },
   {
    "duration": 281,
    "start_time": "2023-05-30T23:37:19.948Z"
   },
   {
    "duration": 584,
    "start_time": "2023-05-30T23:37:20.230Z"
   },
   {
    "duration": 249,
    "start_time": "2023-05-30T23:37:20.815Z"
   },
   {
    "duration": 116,
    "start_time": "2023-05-30T23:45:38.628Z"
   },
   {
    "duration": 23,
    "start_time": "2023-05-30T23:47:00.487Z"
   },
   {
    "duration": 24,
    "start_time": "2023-05-30T23:47:16.640Z"
   },
   {
    "duration": 23,
    "start_time": "2023-05-30T23:47:20.224Z"
   },
   {
    "duration": 8,
    "start_time": "2023-05-30T23:47:37.674Z"
   },
   {
    "duration": 5,
    "start_time": "2023-05-30T23:47:42.641Z"
   },
   {
    "duration": 23,
    "start_time": "2023-05-30T23:47:59.835Z"
   },
   {
    "duration": 25,
    "start_time": "2023-05-30T23:48:16.999Z"
   },
   {
    "duration": 1291,
    "start_time": "2023-05-30T23:48:26.688Z"
   },
   {
    "duration": 7,
    "start_time": "2023-05-30T23:48:38.904Z"
   },
   {
    "duration": 7,
    "start_time": "2023-05-30T23:48:50.913Z"
   },
   {
    "duration": 7,
    "start_time": "2023-05-30T23:49:44.295Z"
   },
   {
    "duration": 7,
    "start_time": "2023-05-30T23:49:45.457Z"
   },
   {
    "duration": 8,
    "start_time": "2023-05-30T23:49:45.623Z"
   },
   {
    "duration": 7,
    "start_time": "2023-05-30T23:51:24.596Z"
   },
   {
    "duration": 7,
    "start_time": "2023-05-30T23:52:41.118Z"
   },
   {
    "duration": 7,
    "start_time": "2023-05-30T23:52:45.829Z"
   },
   {
    "duration": 6,
    "start_time": "2023-05-30T23:52:46.132Z"
   },
   {
    "duration": 9,
    "start_time": "2023-05-30T23:52:47.653Z"
   },
   {
    "duration": 4,
    "start_time": "2023-05-30T23:52:51.525Z"
   },
   {
    "duration": 9,
    "start_time": "2023-05-30T23:53:13.520Z"
   },
   {
    "duration": 4,
    "start_time": "2023-05-30T23:53:14.808Z"
   },
   {
    "duration": 8,
    "start_time": "2023-05-30T23:57:04.939Z"
   },
   {
    "duration": 6,
    "start_time": "2023-05-30T23:57:35.239Z"
   },
   {
    "duration": 6,
    "start_time": "2023-05-30T23:57:42.600Z"
   },
   {
    "duration": 8,
    "start_time": "2023-05-30T23:57:51.072Z"
   },
   {
    "duration": 4,
    "start_time": "2023-05-31T00:03:16.671Z"
   },
   {
    "duration": 4,
    "start_time": "2023-05-31T00:03:19.510Z"
   },
   {
    "duration": 4,
    "start_time": "2023-05-31T00:03:42.059Z"
   },
   {
    "duration": 5,
    "start_time": "2023-05-31T00:21:20.221Z"
   },
   {
    "duration": 9,
    "start_time": "2023-05-31T00:21:27.990Z"
   },
   {
    "duration": 6,
    "start_time": "2023-05-31T00:21:41.000Z"
   },
   {
    "duration": 83,
    "start_time": "2023-05-31T01:17:39.326Z"
   },
   {
    "duration": 105,
    "start_time": "2023-05-31T01:26:26.531Z"
   },
   {
    "duration": 77,
    "start_time": "2023-05-31T01:27:32.619Z"
   },
   {
    "duration": 76,
    "start_time": "2023-05-31T01:27:35.347Z"
   },
   {
    "duration": 6,
    "start_time": "2023-05-31T01:29:49.338Z"
   },
   {
    "duration": 94,
    "start_time": "2023-05-31T01:31:05.843Z"
   },
   {
    "duration": 3,
    "start_time": "2023-05-31T01:33:44.022Z"
   },
   {
    "duration": 40,
    "start_time": "2023-05-31T01:33:54.543Z"
   },
   {
    "duration": 4014,
    "start_time": "2023-05-31T01:37:17.112Z"
   },
   {
    "duration": 96,
    "start_time": "2023-05-31T01:37:35.746Z"
   },
   {
    "duration": 85,
    "start_time": "2023-05-31T01:38:00.021Z"
   },
   {
    "duration": 91,
    "start_time": "2023-05-31T01:38:15.383Z"
   },
   {
    "duration": 2021,
    "start_time": "2023-05-31T01:39:08.845Z"
   },
   {
    "duration": 1114,
    "start_time": "2023-05-31T01:39:10.868Z"
   },
   {
    "duration": 53,
    "start_time": "2023-05-31T01:39:11.984Z"
   },
   {
    "duration": 25,
    "start_time": "2023-05-31T01:39:12.039Z"
   },
   {
    "duration": 7,
    "start_time": "2023-05-31T01:39:12.066Z"
   },
   {
    "duration": 5,
    "start_time": "2023-05-31T01:39:12.075Z"
   },
   {
    "duration": 9,
    "start_time": "2023-05-31T01:39:12.081Z"
   },
   {
    "duration": 1623,
    "start_time": "2023-05-31T01:39:12.091Z"
   },
   {
    "duration": 0,
    "start_time": "2023-05-31T01:39:13.717Z"
   },
   {
    "duration": 0,
    "start_time": "2023-05-31T01:39:13.718Z"
   },
   {
    "duration": 0,
    "start_time": "2023-05-31T01:39:13.719Z"
   },
   {
    "duration": 0,
    "start_time": "2023-05-31T01:39:13.720Z"
   },
   {
    "duration": 0,
    "start_time": "2023-05-31T01:39:13.720Z"
   },
   {
    "duration": 0,
    "start_time": "2023-05-31T01:39:13.721Z"
   },
   {
    "duration": 0,
    "start_time": "2023-05-31T01:39:13.722Z"
   },
   {
    "duration": 0,
    "start_time": "2023-05-31T01:39:13.722Z"
   },
   {
    "duration": 0,
    "start_time": "2023-05-31T01:39:13.723Z"
   },
   {
    "duration": 0,
    "start_time": "2023-05-31T01:39:13.723Z"
   },
   {
    "duration": 0,
    "start_time": "2023-05-31T01:39:13.725Z"
   },
   {
    "duration": 0,
    "start_time": "2023-05-31T01:39:13.725Z"
   },
   {
    "duration": 0,
    "start_time": "2023-05-31T01:39:13.726Z"
   },
   {
    "duration": 0,
    "start_time": "2023-05-31T01:39:13.727Z"
   },
   {
    "duration": 0,
    "start_time": "2023-05-31T01:39:13.728Z"
   },
   {
    "duration": 0,
    "start_time": "2023-05-31T01:39:13.729Z"
   },
   {
    "duration": 0,
    "start_time": "2023-05-31T01:39:13.729Z"
   },
   {
    "duration": 0,
    "start_time": "2023-05-31T01:39:13.730Z"
   },
   {
    "duration": 0,
    "start_time": "2023-05-31T01:39:13.731Z"
   },
   {
    "duration": 0,
    "start_time": "2023-05-31T01:39:13.732Z"
   },
   {
    "duration": 0,
    "start_time": "2023-05-31T01:39:13.733Z"
   },
   {
    "duration": 0,
    "start_time": "2023-05-31T01:39:13.734Z"
   },
   {
    "duration": 0,
    "start_time": "2023-05-31T01:39:13.734Z"
   },
   {
    "duration": 0,
    "start_time": "2023-05-31T01:39:13.735Z"
   },
   {
    "duration": 0,
    "start_time": "2023-05-31T01:39:13.736Z"
   },
   {
    "duration": 0,
    "start_time": "2023-05-31T01:39:13.737Z"
   },
   {
    "duration": 0,
    "start_time": "2023-05-31T01:39:13.738Z"
   },
   {
    "duration": 0,
    "start_time": "2023-05-31T01:39:13.739Z"
   },
   {
    "duration": 0,
    "start_time": "2023-05-31T01:39:13.739Z"
   },
   {
    "duration": 0,
    "start_time": "2023-05-31T01:39:13.740Z"
   },
   {
    "duration": 0,
    "start_time": "2023-05-31T01:39:13.741Z"
   },
   {
    "duration": 0,
    "start_time": "2023-05-31T01:39:13.742Z"
   },
   {
    "duration": 0,
    "start_time": "2023-05-31T01:39:13.743Z"
   },
   {
    "duration": 0,
    "start_time": "2023-05-31T01:39:13.744Z"
   },
   {
    "duration": 0,
    "start_time": "2023-05-31T01:39:13.745Z"
   },
   {
    "duration": 0,
    "start_time": "2023-05-31T01:39:13.746Z"
   },
   {
    "duration": 0,
    "start_time": "2023-05-31T01:39:13.747Z"
   },
   {
    "duration": 0,
    "start_time": "2023-05-31T01:39:13.748Z"
   },
   {
    "duration": 0,
    "start_time": "2023-05-31T01:39:13.749Z"
   },
   {
    "duration": 0,
    "start_time": "2023-05-31T01:39:13.749Z"
   },
   {
    "duration": 0,
    "start_time": "2023-05-31T01:39:13.750Z"
   },
   {
    "duration": 0,
    "start_time": "2023-05-31T01:39:13.751Z"
   },
   {
    "duration": 0,
    "start_time": "2023-05-31T01:39:13.752Z"
   },
   {
    "duration": 0,
    "start_time": "2023-05-31T01:39:13.752Z"
   },
   {
    "duration": 0,
    "start_time": "2023-05-31T01:39:13.784Z"
   },
   {
    "duration": 0,
    "start_time": "2023-05-31T01:39:13.785Z"
   },
   {
    "duration": 0,
    "start_time": "2023-05-31T01:39:13.786Z"
   },
   {
    "duration": 0,
    "start_time": "2023-05-31T01:39:13.786Z"
   },
   {
    "duration": 0,
    "start_time": "2023-05-31T01:39:13.787Z"
   },
   {
    "duration": 0,
    "start_time": "2023-05-31T01:39:13.788Z"
   },
   {
    "duration": 0,
    "start_time": "2023-05-31T01:39:13.788Z"
   },
   {
    "duration": 0,
    "start_time": "2023-05-31T01:39:13.789Z"
   },
   {
    "duration": 0,
    "start_time": "2023-05-31T01:39:13.790Z"
   },
   {
    "duration": 0,
    "start_time": "2023-05-31T01:39:13.791Z"
   },
   {
    "duration": 0,
    "start_time": "2023-05-31T01:39:13.791Z"
   },
   {
    "duration": 64,
    "start_time": "2023-05-31T01:39:28.007Z"
   },
   {
    "duration": 76,
    "start_time": "2023-05-31T01:39:40.489Z"
   },
   {
    "duration": 85,
    "start_time": "2023-05-31T01:39:56.298Z"
   },
   {
    "duration": 81,
    "start_time": "2023-05-31T01:40:35.871Z"
   },
   {
    "duration": 1190,
    "start_time": "2023-05-31T01:47:31.321Z"
   },
   {
    "duration": 26,
    "start_time": "2023-05-31T01:48:21.647Z"
   },
   {
    "duration": 98,
    "start_time": "2023-05-31T01:54:47.124Z"
   },
   {
    "duration": 83,
    "start_time": "2023-05-31T02:08:32.086Z"
   },
   {
    "duration": 1064,
    "start_time": "2023-05-31T02:23:11.109Z"
   },
   {
    "duration": 54,
    "start_time": "2023-05-31T02:23:12.175Z"
   },
   {
    "duration": 26,
    "start_time": "2023-05-31T02:23:12.231Z"
   },
   {
    "duration": 10,
    "start_time": "2023-05-31T02:23:12.258Z"
   },
   {
    "duration": 14,
    "start_time": "2023-05-31T02:23:12.271Z"
   },
   {
    "duration": 10,
    "start_time": "2023-05-31T02:23:12.287Z"
   },
   {
    "duration": 9,
    "start_time": "2023-05-31T02:23:12.298Z"
   },
   {
    "duration": 10,
    "start_time": "2023-05-31T02:23:12.308Z"
   },
   {
    "duration": 7,
    "start_time": "2023-05-31T02:23:12.319Z"
   },
   {
    "duration": 11,
    "start_time": "2023-05-31T02:23:12.327Z"
   },
   {
    "duration": 6,
    "start_time": "2023-05-31T02:23:12.339Z"
   },
   {
    "duration": 11,
    "start_time": "2023-05-31T02:23:12.346Z"
   },
   {
    "duration": 34,
    "start_time": "2023-05-31T02:23:12.358Z"
   },
   {
    "duration": 7,
    "start_time": "2023-05-31T02:23:12.396Z"
   },
   {
    "duration": 25,
    "start_time": "2023-05-31T02:23:12.405Z"
   },
   {
    "duration": 7,
    "start_time": "2023-05-31T02:23:12.432Z"
   },
   {
    "duration": 52,
    "start_time": "2023-05-31T02:23:12.441Z"
   },
   {
    "duration": 8,
    "start_time": "2023-05-31T02:23:12.495Z"
   },
   {
    "duration": 6,
    "start_time": "2023-05-31T02:23:12.505Z"
   },
   {
    "duration": 4,
    "start_time": "2023-05-31T02:23:12.513Z"
   },
   {
    "duration": 14,
    "start_time": "2023-05-31T02:23:12.518Z"
   },
   {
    "duration": 9,
    "start_time": "2023-05-31T02:23:12.533Z"
   },
   {
    "duration": 13,
    "start_time": "2023-05-31T02:23:12.544Z"
   },
   {
    "duration": 26,
    "start_time": "2023-05-31T02:23:12.585Z"
   },
   {
    "duration": 4,
    "start_time": "2023-05-31T02:23:12.613Z"
   },
   {
    "duration": 4,
    "start_time": "2023-05-31T02:23:12.618Z"
   },
   {
    "duration": 17,
    "start_time": "2023-05-31T02:23:12.623Z"
   },
   {
    "duration": 51,
    "start_time": "2023-05-31T02:23:12.642Z"
   },
   {
    "duration": 5,
    "start_time": "2023-05-31T02:23:12.694Z"
   },
   {
    "duration": 8,
    "start_time": "2023-05-31T02:23:12.700Z"
   },
   {
    "duration": 18,
    "start_time": "2023-05-31T02:23:12.709Z"
   },
   {
    "duration": 14,
    "start_time": "2023-05-31T02:23:12.728Z"
   },
   {
    "duration": 11,
    "start_time": "2023-05-31T02:23:12.743Z"
   },
   {
    "duration": 29,
    "start_time": "2023-05-31T02:23:12.756Z"
   },
   {
    "duration": 5,
    "start_time": "2023-05-31T02:23:12.787Z"
   },
   {
    "duration": 12,
    "start_time": "2023-05-31T02:23:12.794Z"
   },
   {
    "duration": 17,
    "start_time": "2023-05-31T02:23:12.808Z"
   },
   {
    "duration": 6,
    "start_time": "2023-05-31T02:23:12.826Z"
   },
   {
    "duration": 13,
    "start_time": "2023-05-31T02:23:12.833Z"
   },
   {
    "duration": 41,
    "start_time": "2023-05-31T02:23:12.847Z"
   },
   {
    "duration": 319,
    "start_time": "2023-05-31T02:23:12.892Z"
   },
   {
    "duration": 6,
    "start_time": "2023-05-31T02:23:13.213Z"
   },
   {
    "duration": 15,
    "start_time": "2023-05-31T02:23:13.221Z"
   },
   {
    "duration": 191,
    "start_time": "2023-05-31T02:23:13.237Z"
   },
   {
    "duration": 174,
    "start_time": "2023-05-31T02:23:13.430Z"
   },
   {
    "duration": 15,
    "start_time": "2023-05-31T02:23:13.605Z"
   },
   {
    "duration": 147,
    "start_time": "2023-05-31T02:23:13.621Z"
   },
   {
    "duration": 129,
    "start_time": "2023-05-31T02:23:13.770Z"
   },
   {
    "duration": 7,
    "start_time": "2023-05-31T02:23:13.901Z"
   },
   {
    "duration": 8,
    "start_time": "2023-05-31T02:23:13.909Z"
   },
   {
    "duration": 6,
    "start_time": "2023-05-31T02:23:13.918Z"
   },
   {
    "duration": 174,
    "start_time": "2023-05-31T02:23:13.925Z"
   },
   {
    "duration": 299,
    "start_time": "2023-05-31T02:23:14.100Z"
   },
   {
    "duration": 535,
    "start_time": "2023-05-31T02:23:14.401Z"
   },
   {
    "duration": 251,
    "start_time": "2023-05-31T02:23:14.938Z"
   },
   {
    "duration": 7,
    "start_time": "2023-05-31T02:23:15.190Z"
   },
   {
    "duration": 14,
    "start_time": "2023-05-31T02:23:15.198Z"
   },
   {
    "duration": 11,
    "start_time": "2023-05-31T02:23:15.214Z"
   },
   {
    "duration": 10,
    "start_time": "2023-05-31T02:23:15.226Z"
   },
   {
    "duration": 12,
    "start_time": "2023-05-31T02:23:15.237Z"
   },
   {
    "duration": 4,
    "start_time": "2023-05-31T02:23:15.251Z"
   },
   {
    "duration": 3,
    "start_time": "2023-05-31T02:29:50.854Z"
   },
   {
    "duration": 71,
    "start_time": "2023-05-31T02:29:50.859Z"
   },
   {
    "duration": 20,
    "start_time": "2023-05-31T02:29:50.931Z"
   },
   {
    "duration": 13,
    "start_time": "2023-05-31T02:29:50.952Z"
   },
   {
    "duration": 29,
    "start_time": "2023-05-31T02:29:50.967Z"
   },
   {
    "duration": 20,
    "start_time": "2023-05-31T02:29:50.997Z"
   },
   {
    "duration": 18,
    "start_time": "2023-05-31T02:29:51.018Z"
   },
   {
    "duration": 38,
    "start_time": "2023-05-31T02:29:51.037Z"
   },
   {
    "duration": 16,
    "start_time": "2023-05-31T02:29:51.077Z"
   },
   {
    "duration": 42,
    "start_time": "2023-05-31T02:29:51.095Z"
   },
   {
    "duration": 17,
    "start_time": "2023-05-31T02:29:51.138Z"
   },
   {
    "duration": 19,
    "start_time": "2023-05-31T02:29:51.157Z"
   },
   {
    "duration": 20,
    "start_time": "2023-05-31T02:29:51.177Z"
   },
   {
    "duration": 7,
    "start_time": "2023-05-31T02:29:51.200Z"
   },
   {
    "duration": 31,
    "start_time": "2023-05-31T02:29:51.209Z"
   },
   {
    "duration": 7,
    "start_time": "2023-05-31T02:29:51.241Z"
   },
   {
    "duration": 45,
    "start_time": "2023-05-31T02:29:51.249Z"
   },
   {
    "duration": 5,
    "start_time": "2023-05-31T02:29:51.296Z"
   },
   {
    "duration": 35,
    "start_time": "2023-05-31T02:29:51.302Z"
   },
   {
    "duration": 17,
    "start_time": "2023-05-31T02:29:51.339Z"
   },
   {
    "duration": 23,
    "start_time": "2023-05-31T02:29:51.357Z"
   },
   {
    "duration": 18,
    "start_time": "2023-05-31T02:29:51.381Z"
   },
   {
    "duration": 35,
    "start_time": "2023-05-31T02:29:51.400Z"
   },
   {
    "duration": 32,
    "start_time": "2023-05-31T02:29:51.436Z"
   },
   {
    "duration": 4,
    "start_time": "2023-05-31T02:29:51.469Z"
   },
   {
    "duration": 12,
    "start_time": "2023-05-31T02:29:51.474Z"
   },
   {
    "duration": 27,
    "start_time": "2023-05-31T02:29:51.488Z"
   },
   {
    "duration": 23,
    "start_time": "2023-05-31T02:29:51.516Z"
   },
   {
    "duration": 3,
    "start_time": "2023-05-31T02:29:51.541Z"
   },
   {
    "duration": 17,
    "start_time": "2023-05-31T02:29:51.545Z"
   },
   {
    "duration": 26,
    "start_time": "2023-05-31T02:29:51.564Z"
   },
   {
    "duration": 12,
    "start_time": "2023-05-31T02:29:51.591Z"
   },
   {
    "duration": 32,
    "start_time": "2023-05-31T02:29:51.604Z"
   },
   {
    "duration": 15,
    "start_time": "2023-05-31T02:29:51.637Z"
   },
   {
    "duration": 27,
    "start_time": "2023-05-31T02:29:51.653Z"
   },
   {
    "duration": 33,
    "start_time": "2023-05-31T02:29:51.682Z"
   },
   {
    "duration": 32,
    "start_time": "2023-05-31T02:29:51.716Z"
   },
   {
    "duration": 15,
    "start_time": "2023-05-31T02:29:51.749Z"
   },
   {
    "duration": 21,
    "start_time": "2023-05-31T02:29:51.766Z"
   },
   {
    "duration": 19,
    "start_time": "2023-05-31T02:29:51.789Z"
   },
   {
    "duration": 256,
    "start_time": "2023-05-31T02:29:51.811Z"
   },
   {
    "duration": 6,
    "start_time": "2023-05-31T02:29:52.068Z"
   },
   {
    "duration": 24,
    "start_time": "2023-05-31T02:29:52.075Z"
   },
   {
    "duration": 174,
    "start_time": "2023-05-31T02:29:52.100Z"
   },
   {
    "duration": 157,
    "start_time": "2023-05-31T02:29:52.275Z"
   },
   {
    "duration": 15,
    "start_time": "2023-05-31T02:29:52.434Z"
   },
   {
    "duration": 153,
    "start_time": "2023-05-31T02:29:52.450Z"
   },
   {
    "duration": 139,
    "start_time": "2023-05-31T02:29:52.605Z"
   },
   {
    "duration": 8,
    "start_time": "2023-05-31T02:29:52.745Z"
   },
   {
    "duration": 35,
    "start_time": "2023-05-31T02:29:52.754Z"
   },
   {
    "duration": 52,
    "start_time": "2023-05-31T02:29:52.790Z"
   },
   {
    "duration": 225,
    "start_time": "2023-05-31T02:29:52.843Z"
   },
   {
    "duration": 237,
    "start_time": "2023-05-31T02:29:53.070Z"
   },
   {
    "duration": 550,
    "start_time": "2023-05-31T02:29:53.308Z"
   },
   {
    "duration": 247,
    "start_time": "2023-05-31T02:29:53.860Z"
   },
   {
    "duration": 6,
    "start_time": "2023-05-31T02:29:54.108Z"
   },
   {
    "duration": 8,
    "start_time": "2023-05-31T02:29:54.116Z"
   },
   {
    "duration": 5,
    "start_time": "2023-05-31T02:29:54.126Z"
   },
   {
    "duration": 8,
    "start_time": "2023-05-31T02:29:54.133Z"
   },
   {
    "duration": 6,
    "start_time": "2023-05-31T02:29:54.142Z"
   },
   {
    "duration": 5,
    "start_time": "2023-05-31T02:29:54.149Z"
   },
   {
    "duration": 2,
    "start_time": "2023-05-31T02:30:11.467Z"
   },
   {
    "duration": 3,
    "start_time": "2023-05-31T02:30:28.205Z"
   },
   {
    "duration": 47,
    "start_time": "2023-05-31T02:30:29.370Z"
   },
   {
    "duration": 21,
    "start_time": "2023-05-31T02:30:29.909Z"
   },
   {
    "duration": 1214,
    "start_time": "2023-05-31T02:32:27.739Z"
   },
   {
    "duration": 3,
    "start_time": "2023-05-31T02:32:38.052Z"
   },
   {
    "duration": 56,
    "start_time": "2023-05-31T02:32:38.057Z"
   },
   {
    "duration": 21,
    "start_time": "2023-05-31T02:32:38.114Z"
   },
   {
    "duration": 11,
    "start_time": "2023-05-31T02:32:38.136Z"
   },
   {
    "duration": 6,
    "start_time": "2023-05-31T02:32:38.148Z"
   },
   {
    "duration": 30,
    "start_time": "2023-05-31T02:32:38.155Z"
   },
   {
    "duration": 4,
    "start_time": "2023-05-31T02:32:38.187Z"
   },
   {
    "duration": 6,
    "start_time": "2023-05-31T02:32:38.192Z"
   },
   {
    "duration": 7,
    "start_time": "2023-05-31T02:32:38.199Z"
   },
   {
    "duration": 24,
    "start_time": "2023-05-31T02:32:38.207Z"
   },
   {
    "duration": 21,
    "start_time": "2023-05-31T02:32:38.232Z"
   },
   {
    "duration": 10,
    "start_time": "2023-05-31T02:32:38.255Z"
   },
   {
    "duration": 13,
    "start_time": "2023-05-31T02:32:38.268Z"
   },
   {
    "duration": 30,
    "start_time": "2023-05-31T02:32:38.283Z"
   },
   {
    "duration": 28,
    "start_time": "2023-05-31T02:32:38.315Z"
   },
   {
    "duration": 7,
    "start_time": "2023-05-31T02:32:38.345Z"
   },
   {
    "duration": 30,
    "start_time": "2023-05-31T02:32:38.353Z"
   },
   {
    "duration": 7,
    "start_time": "2023-05-31T02:32:38.385Z"
   },
   {
    "duration": 17,
    "start_time": "2023-05-31T02:32:38.394Z"
   },
   {
    "duration": 11,
    "start_time": "2023-05-31T02:32:38.412Z"
   },
   {
    "duration": 12,
    "start_time": "2023-05-31T02:32:38.424Z"
   },
   {
    "duration": 9,
    "start_time": "2023-05-31T02:32:38.437Z"
   },
   {
    "duration": 13,
    "start_time": "2023-05-31T02:32:38.447Z"
   },
   {
    "duration": 29,
    "start_time": "2023-05-31T02:32:38.461Z"
   },
   {
    "duration": 4,
    "start_time": "2023-05-31T02:32:38.491Z"
   },
   {
    "duration": 24,
    "start_time": "2023-05-31T02:32:38.496Z"
   },
   {
    "duration": 34,
    "start_time": "2023-05-31T02:32:38.521Z"
   },
   {
    "duration": 24,
    "start_time": "2023-05-31T02:32:38.556Z"
   },
   {
    "duration": 3,
    "start_time": "2023-05-31T02:32:38.582Z"
   },
   {
    "duration": 6,
    "start_time": "2023-05-31T02:32:38.586Z"
   },
   {
    "duration": 18,
    "start_time": "2023-05-31T02:32:38.593Z"
   },
   {
    "duration": 14,
    "start_time": "2023-05-31T02:32:38.612Z"
   },
   {
    "duration": 17,
    "start_time": "2023-05-31T02:32:38.627Z"
   },
   {
    "duration": 4,
    "start_time": "2023-05-31T02:32:38.645Z"
   },
   {
    "duration": 11,
    "start_time": "2023-05-31T02:32:38.650Z"
   },
   {
    "duration": 28,
    "start_time": "2023-05-31T02:32:38.662Z"
   },
   {
    "duration": 34,
    "start_time": "2023-05-31T02:32:38.693Z"
   },
   {
    "duration": 14,
    "start_time": "2023-05-31T02:32:38.728Z"
   },
   {
    "duration": 17,
    "start_time": "2023-05-31T02:32:38.743Z"
   },
   {
    "duration": 14,
    "start_time": "2023-05-31T02:32:38.762Z"
   },
   {
    "duration": 283,
    "start_time": "2023-05-31T02:32:38.778Z"
   },
   {
    "duration": 6,
    "start_time": "2023-05-31T02:32:39.063Z"
   },
   {
    "duration": 47,
    "start_time": "2023-05-31T02:32:39.070Z"
   },
   {
    "duration": 180,
    "start_time": "2023-05-31T02:32:39.118Z"
   },
   {
    "duration": 150,
    "start_time": "2023-05-31T02:32:39.300Z"
   },
   {
    "duration": 15,
    "start_time": "2023-05-31T02:32:39.452Z"
   },
   {
    "duration": 218,
    "start_time": "2023-05-31T02:32:39.468Z"
   },
   {
    "duration": 133,
    "start_time": "2023-05-31T02:32:39.687Z"
   },
   {
    "duration": 6,
    "start_time": "2023-05-31T02:32:39.822Z"
   },
   {
    "duration": 11,
    "start_time": "2023-05-31T02:32:39.830Z"
   },
   {
    "duration": 8,
    "start_time": "2023-05-31T02:32:39.842Z"
   },
   {
    "duration": 165,
    "start_time": "2023-05-31T02:32:39.851Z"
   },
   {
    "duration": 252,
    "start_time": "2023-05-31T02:32:40.017Z"
   },
   {
    "duration": 613,
    "start_time": "2023-05-31T02:32:40.271Z"
   },
   {
    "duration": 276,
    "start_time": "2023-05-31T02:32:40.886Z"
   },
   {
    "duration": 7,
    "start_time": "2023-05-31T02:32:41.163Z"
   },
   {
    "duration": 17,
    "start_time": "2023-05-31T02:32:41.172Z"
   },
   {
    "duration": 22,
    "start_time": "2023-05-31T02:32:41.191Z"
   },
   {
    "duration": 29,
    "start_time": "2023-05-31T02:32:41.215Z"
   },
   {
    "duration": 11,
    "start_time": "2023-05-31T02:32:41.246Z"
   },
   {
    "duration": 6,
    "start_time": "2023-05-31T02:32:41.258Z"
   },
   {
    "duration": 5,
    "start_time": "2023-05-31T02:33:19.505Z"
   },
   {
    "duration": 7,
    "start_time": "2023-05-31T02:34:31.603Z"
   },
   {
    "duration": 333,
    "start_time": "2023-05-31T02:38:15.469Z"
   },
   {
    "duration": 9,
    "start_time": "2023-05-31T02:38:29.607Z"
   },
   {
    "duration": 10,
    "start_time": "2023-05-31T02:40:38.788Z"
   },
   {
    "duration": 395,
    "start_time": "2023-05-31T02:40:46.541Z"
   },
   {
    "duration": 307,
    "start_time": "2023-05-31T02:42:00.262Z"
   },
   {
    "duration": 134,
    "start_time": "2023-05-31T02:42:08.382Z"
   },
   {
    "duration": 135,
    "start_time": "2023-05-31T02:42:13.232Z"
   },
   {
    "duration": 122,
    "start_time": "2023-05-31T02:42:19.872Z"
   },
   {
    "duration": 7,
    "start_time": "2023-05-31T02:43:41.513Z"
   },
   {
    "duration": 7,
    "start_time": "2023-05-31T02:43:42.041Z"
   },
   {
    "duration": 228,
    "start_time": "2023-05-31T02:44:52.826Z"
   },
   {
    "duration": 574,
    "start_time": "2023-05-31T02:45:39.232Z"
   },
   {
    "duration": 678,
    "start_time": "2023-05-31T02:45:43.896Z"
   },
   {
    "duration": 554,
    "start_time": "2023-05-31T02:45:47.264Z"
   },
   {
    "duration": 8,
    "start_time": "2023-05-31T02:47:15.715Z"
   },
   {
    "duration": 11,
    "start_time": "2023-05-31T02:47:23.692Z"
   },
   {
    "duration": 12,
    "start_time": "2023-05-31T02:48:04.705Z"
   },
   {
    "duration": 3,
    "start_time": "2023-05-31T02:49:33.995Z"
   },
   {
    "duration": 48,
    "start_time": "2023-05-31T02:49:34.000Z"
   },
   {
    "duration": 22,
    "start_time": "2023-05-31T02:49:34.050Z"
   },
   {
    "duration": 15,
    "start_time": "2023-05-31T02:49:34.074Z"
   },
   {
    "duration": 5,
    "start_time": "2023-05-31T02:49:34.091Z"
   },
   {
    "duration": 5,
    "start_time": "2023-05-31T02:49:34.097Z"
   },
   {
    "duration": 6,
    "start_time": "2023-05-31T02:49:34.103Z"
   },
   {
    "duration": 7,
    "start_time": "2023-05-31T02:49:34.111Z"
   },
   {
    "duration": 5,
    "start_time": "2023-05-31T02:49:34.119Z"
   },
   {
    "duration": 38,
    "start_time": "2023-05-31T02:49:34.125Z"
   },
   {
    "duration": 32,
    "start_time": "2023-05-31T02:49:34.164Z"
   },
   {
    "duration": 74,
    "start_time": "2023-05-31T02:49:34.197Z"
   },
   {
    "duration": 17,
    "start_time": "2023-05-31T02:49:34.273Z"
   },
   {
    "duration": 6,
    "start_time": "2023-05-31T02:49:34.293Z"
   },
   {
    "duration": 24,
    "start_time": "2023-05-31T02:49:34.300Z"
   },
   {
    "duration": 7,
    "start_time": "2023-05-31T02:49:34.325Z"
   },
   {
    "duration": 27,
    "start_time": "2023-05-31T02:49:34.333Z"
   },
   {
    "duration": 26,
    "start_time": "2023-05-31T02:49:34.361Z"
   },
   {
    "duration": 6,
    "start_time": "2023-05-31T02:49:34.388Z"
   },
   {
    "duration": 4,
    "start_time": "2023-05-31T02:49:34.395Z"
   },
   {
    "duration": 13,
    "start_time": "2023-05-31T02:49:34.401Z"
   },
   {
    "duration": 9,
    "start_time": "2023-05-31T02:49:34.415Z"
   },
   {
    "duration": 30,
    "start_time": "2023-05-31T02:49:34.425Z"
   },
   {
    "duration": 22,
    "start_time": "2023-05-31T02:49:34.456Z"
   },
   {
    "duration": 3,
    "start_time": "2023-05-31T02:49:34.485Z"
   },
   {
    "duration": 19,
    "start_time": "2023-05-31T02:49:34.489Z"
   },
   {
    "duration": 33,
    "start_time": "2023-05-31T02:49:34.510Z"
   },
   {
    "duration": 23,
    "start_time": "2023-05-31T02:49:34.544Z"
   },
   {
    "duration": 3,
    "start_time": "2023-05-31T02:49:34.568Z"
   },
   {
    "duration": 16,
    "start_time": "2023-05-31T02:49:34.573Z"
   },
   {
    "duration": 24,
    "start_time": "2023-05-31T02:49:34.590Z"
   },
   {
    "duration": 13,
    "start_time": "2023-05-31T02:49:34.615Z"
   },
   {
    "duration": 12,
    "start_time": "2023-05-31T02:49:34.629Z"
   },
   {
    "duration": 4,
    "start_time": "2023-05-31T02:49:34.642Z"
   },
   {
    "duration": 6,
    "start_time": "2023-05-31T02:49:34.648Z"
   },
   {
    "duration": 28,
    "start_time": "2023-05-31T02:49:34.656Z"
   },
   {
    "duration": 17,
    "start_time": "2023-05-31T02:49:34.686Z"
   },
   {
    "duration": 15,
    "start_time": "2023-05-31T02:49:34.704Z"
   },
   {
    "duration": 11,
    "start_time": "2023-05-31T02:49:34.720Z"
   },
   {
    "duration": 10,
    "start_time": "2023-05-31T02:49:34.732Z"
   },
   {
    "duration": 261,
    "start_time": "2023-05-31T02:49:34.745Z"
   },
   {
    "duration": 6,
    "start_time": "2023-05-31T02:49:35.007Z"
   },
   {
    "duration": 16,
    "start_time": "2023-05-31T02:49:35.015Z"
   },
   {
    "duration": 177,
    "start_time": "2023-05-31T02:49:35.032Z"
   },
   {
    "duration": 149,
    "start_time": "2023-05-31T02:49:35.210Z"
   },
   {
    "duration": 27,
    "start_time": "2023-05-31T02:49:35.360Z"
   },
   {
    "duration": 135,
    "start_time": "2023-05-31T02:49:35.388Z"
   },
   {
    "duration": 119,
    "start_time": "2023-05-31T02:49:35.525Z"
   },
   {
    "duration": 6,
    "start_time": "2023-05-31T02:49:35.646Z"
   },
   {
    "duration": 7,
    "start_time": "2023-05-31T02:49:35.654Z"
   },
   {
    "duration": 11,
    "start_time": "2023-05-31T02:49:35.663Z"
   },
   {
    "duration": 163,
    "start_time": "2023-05-31T02:49:35.676Z"
   },
   {
    "duration": 323,
    "start_time": "2023-05-31T02:49:35.841Z"
   },
   {
    "duration": 551,
    "start_time": "2023-05-31T02:49:36.165Z"
   },
   {
    "duration": 248,
    "start_time": "2023-05-31T02:49:36.717Z"
   },
   {
    "duration": 19,
    "start_time": "2023-05-31T02:49:36.966Z"
   },
   {
    "duration": 11,
    "start_time": "2023-05-31T02:49:36.986Z"
   },
   {
    "duration": 27,
    "start_time": "2023-05-31T02:49:36.999Z"
   },
   {
    "duration": 3,
    "start_time": "2023-05-31T02:49:37.028Z"
   },
   {
    "duration": 1228,
    "start_time": "2023-05-31T07:29:43.034Z"
   },
   {
    "duration": 91,
    "start_time": "2023-05-31T07:29:44.264Z"
   },
   {
    "duration": 28,
    "start_time": "2023-05-31T07:29:44.357Z"
   },
   {
    "duration": 9,
    "start_time": "2023-05-31T07:29:44.386Z"
   },
   {
    "duration": 14,
    "start_time": "2023-05-31T07:29:44.397Z"
   },
   {
    "duration": 12,
    "start_time": "2023-05-31T07:29:44.413Z"
   },
   {
    "duration": 6,
    "start_time": "2023-05-31T07:29:44.427Z"
   },
   {
    "duration": 8,
    "start_time": "2023-05-31T07:29:44.434Z"
   },
   {
    "duration": 15,
    "start_time": "2023-05-31T07:29:44.444Z"
   },
   {
    "duration": 16,
    "start_time": "2023-05-31T07:29:44.463Z"
   },
   {
    "duration": 5,
    "start_time": "2023-05-31T07:29:44.481Z"
   },
   {
    "duration": 13,
    "start_time": "2023-05-31T07:29:44.488Z"
   },
   {
    "duration": 46,
    "start_time": "2023-05-31T07:29:44.503Z"
   },
   {
    "duration": 6,
    "start_time": "2023-05-31T07:29:44.551Z"
   },
   {
    "duration": 26,
    "start_time": "2023-05-31T07:29:44.559Z"
   },
   {
    "duration": 11,
    "start_time": "2023-05-31T07:29:44.587Z"
   },
   {
    "duration": 50,
    "start_time": "2023-05-31T07:29:44.625Z"
   },
   {
    "duration": 9,
    "start_time": "2023-05-31T07:29:44.678Z"
   },
   {
    "duration": 8,
    "start_time": "2023-05-31T07:29:44.689Z"
   },
   {
    "duration": 27,
    "start_time": "2023-05-31T07:29:44.698Z"
   },
   {
    "duration": 15,
    "start_time": "2023-05-31T07:29:44.726Z"
   },
   {
    "duration": 10,
    "start_time": "2023-05-31T07:29:44.743Z"
   },
   {
    "duration": 16,
    "start_time": "2023-05-31T07:29:44.755Z"
   },
   {
    "duration": 52,
    "start_time": "2023-05-31T07:29:44.773Z"
   },
   {
    "duration": 6,
    "start_time": "2023-05-31T07:29:44.829Z"
   },
   {
    "duration": 13,
    "start_time": "2023-05-31T07:29:44.837Z"
   },
   {
    "duration": 27,
    "start_time": "2023-05-31T07:29:44.852Z"
   },
   {
    "duration": 45,
    "start_time": "2023-05-31T07:29:44.885Z"
   },
   {
    "duration": 4,
    "start_time": "2023-05-31T07:29:44.933Z"
   },
   {
    "duration": 18,
    "start_time": "2023-05-31T07:29:44.939Z"
   },
   {
    "duration": 31,
    "start_time": "2023-05-31T07:29:44.959Z"
   },
   {
    "duration": 43,
    "start_time": "2023-05-31T07:29:44.993Z"
   },
   {
    "duration": 34,
    "start_time": "2023-05-31T07:29:45.038Z"
   },
   {
    "duration": 21,
    "start_time": "2023-05-31T07:29:45.074Z"
   },
   {
    "duration": 33,
    "start_time": "2023-05-31T07:29:45.096Z"
   },
   {
    "duration": 29,
    "start_time": "2023-05-31T07:29:45.130Z"
   },
   {
    "duration": 21,
    "start_time": "2023-05-31T07:29:45.160Z"
   },
   {
    "duration": 12,
    "start_time": "2023-05-31T07:29:45.183Z"
   },
   {
    "duration": 34,
    "start_time": "2023-05-31T07:29:45.196Z"
   },
   {
    "duration": 14,
    "start_time": "2023-05-31T07:29:45.232Z"
   },
   {
    "duration": 335,
    "start_time": "2023-05-31T07:29:45.247Z"
   },
   {
    "duration": 9,
    "start_time": "2023-05-31T07:29:45.585Z"
   },
   {
    "duration": 40,
    "start_time": "2023-05-31T07:29:45.596Z"
   },
   {
    "duration": 200,
    "start_time": "2023-05-31T07:29:45.637Z"
   },
   {
    "duration": 185,
    "start_time": "2023-05-31T07:29:45.839Z"
   },
   {
    "duration": 19,
    "start_time": "2023-05-31T07:29:46.026Z"
   },
   {
    "duration": 167,
    "start_time": "2023-05-31T07:29:46.047Z"
   },
   {
    "duration": 168,
    "start_time": "2023-05-31T07:29:46.215Z"
   },
   {
    "duration": 8,
    "start_time": "2023-05-31T07:29:46.384Z"
   },
   {
    "duration": 33,
    "start_time": "2023-05-31T07:29:46.393Z"
   },
   {
    "duration": 30,
    "start_time": "2023-05-31T07:29:46.427Z"
   },
   {
    "duration": 189,
    "start_time": "2023-05-31T07:29:46.459Z"
   },
   {
    "duration": 356,
    "start_time": "2023-05-31T07:29:46.649Z"
   },
   {
    "duration": 621,
    "start_time": "2023-05-31T07:29:47.006Z"
   },
   {
    "duration": 289,
    "start_time": "2023-05-31T07:29:47.629Z"
   },
   {
    "duration": 13,
    "start_time": "2023-05-31T07:29:47.920Z"
   },
   {
    "duration": 28,
    "start_time": "2023-05-31T07:29:47.935Z"
   },
   {
    "duration": 46,
    "start_time": "2023-05-31T07:29:47.965Z"
   },
   {
    "duration": 37,
    "start_time": "2023-05-31T07:29:48.012Z"
   },
   {
    "duration": 11,
    "start_time": "2023-05-31T07:39:17.993Z"
   },
   {
    "duration": 19,
    "start_time": "2023-05-31T07:41:25.314Z"
   },
   {
    "duration": 49,
    "start_time": "2023-05-31T10:42:23.063Z"
   },
   {
    "duration": 1358,
    "start_time": "2023-05-31T10:42:27.226Z"
   },
   {
    "duration": 180,
    "start_time": "2023-05-31T10:42:28.587Z"
   },
   {
    "duration": 30,
    "start_time": "2023-05-31T10:42:28.769Z"
   },
   {
    "duration": 8,
    "start_time": "2023-05-31T10:42:28.802Z"
   },
   {
    "duration": 8,
    "start_time": "2023-05-31T10:42:28.812Z"
   },
   {
    "duration": 5,
    "start_time": "2023-05-31T10:42:28.822Z"
   },
   {
    "duration": 24,
    "start_time": "2023-05-31T10:42:28.828Z"
   },
   {
    "duration": 7,
    "start_time": "2023-05-31T10:42:28.854Z"
   },
   {
    "duration": 8,
    "start_time": "2023-05-31T10:42:28.862Z"
   },
   {
    "duration": 10,
    "start_time": "2023-05-31T10:42:28.872Z"
   },
   {
    "duration": 9,
    "start_time": "2023-05-31T10:42:28.884Z"
   },
   {
    "duration": 8,
    "start_time": "2023-05-31T10:42:28.894Z"
   },
   {
    "duration": 25,
    "start_time": "2023-05-31T10:42:28.903Z"
   },
   {
    "duration": 30,
    "start_time": "2023-05-31T10:42:28.929Z"
   },
   {
    "duration": 7,
    "start_time": "2023-05-31T10:42:28.960Z"
   },
   {
    "duration": 34,
    "start_time": "2023-05-31T10:42:28.968Z"
   },
   {
    "duration": 11,
    "start_time": "2023-05-31T10:42:29.004Z"
   },
   {
    "duration": 60,
    "start_time": "2023-05-31T10:42:29.017Z"
   },
   {
    "duration": 10,
    "start_time": "2023-05-31T10:42:29.080Z"
   },
   {
    "duration": 8,
    "start_time": "2023-05-31T10:42:29.094Z"
   },
   {
    "duration": 5,
    "start_time": "2023-05-31T10:42:29.104Z"
   },
   {
    "duration": 20,
    "start_time": "2023-05-31T10:42:29.111Z"
   },
   {
    "duration": 16,
    "start_time": "2023-05-31T10:42:29.151Z"
   },
   {
    "duration": 15,
    "start_time": "2023-05-31T10:42:29.169Z"
   },
   {
    "duration": 30,
    "start_time": "2023-05-31T10:42:29.185Z"
   },
   {
    "duration": 5,
    "start_time": "2023-05-31T10:42:29.217Z"
   },
   {
    "duration": 6,
    "start_time": "2023-05-31T10:42:29.249Z"
   },
   {
    "duration": 22,
    "start_time": "2023-05-31T10:42:29.260Z"
   },
   {
    "duration": 44,
    "start_time": "2023-05-31T10:42:29.284Z"
   },
   {
    "duration": 5,
    "start_time": "2023-05-31T10:42:29.351Z"
   },
   {
    "duration": 4,
    "start_time": "2023-05-31T10:42:29.358Z"
   },
   {
    "duration": 18,
    "start_time": "2023-05-31T10:42:29.364Z"
   },
   {
    "duration": 12,
    "start_time": "2023-05-31T10:42:29.384Z"
   },
   {
    "duration": 57,
    "start_time": "2023-05-31T10:42:29.398Z"
   },
   {
    "duration": 18,
    "start_time": "2023-05-31T10:42:29.457Z"
   },
   {
    "duration": 6,
    "start_time": "2023-05-31T10:42:29.477Z"
   },
   {
    "duration": 10,
    "start_time": "2023-05-31T10:42:29.484Z"
   },
   {
    "duration": 17,
    "start_time": "2023-05-31T10:42:29.495Z"
   },
   {
    "duration": 48,
    "start_time": "2023-05-31T10:42:29.514Z"
   },
   {
    "duration": 27,
    "start_time": "2023-05-31T10:42:29.563Z"
   },
   {
    "duration": 6,
    "start_time": "2023-05-31T10:42:29.592Z"
   },
   {
    "duration": 18,
    "start_time": "2023-05-31T10:42:29.600Z"
   },
   {
    "duration": 34,
    "start_time": "2023-05-31T10:42:29.620Z"
   },
   {
    "duration": 364,
    "start_time": "2023-05-31T10:42:29.656Z"
   },
   {
    "duration": 9,
    "start_time": "2023-05-31T10:42:30.022Z"
   },
   {
    "duration": 53,
    "start_time": "2023-05-31T10:42:30.033Z"
   },
   {
    "duration": 221,
    "start_time": "2023-05-31T10:42:30.088Z"
   },
   {
    "duration": 207,
    "start_time": "2023-05-31T10:42:30.311Z"
   },
   {
    "duration": 20,
    "start_time": "2023-05-31T10:42:30.520Z"
   },
   {
    "duration": 187,
    "start_time": "2023-05-31T10:42:30.550Z"
   },
   {
    "duration": 150,
    "start_time": "2023-05-31T10:42:30.739Z"
   },
   {
    "duration": 8,
    "start_time": "2023-05-31T10:42:30.890Z"
   },
   {
    "duration": 71,
    "start_time": "2023-05-31T10:42:30.900Z"
   },
   {
    "duration": 84,
    "start_time": "2023-05-31T10:42:30.972Z"
   },
   {
    "duration": 281,
    "start_time": "2023-05-31T10:42:31.057Z"
   },
   {
    "duration": 399,
    "start_time": "2023-05-31T10:42:31.339Z"
   },
   {
    "duration": 715,
    "start_time": "2023-05-31T10:42:31.739Z"
   },
   {
    "duration": 361,
    "start_time": "2023-05-31T10:42:32.457Z"
   },
   {
    "duration": 14,
    "start_time": "2023-05-31T10:42:32.819Z"
   },
   {
    "duration": 19,
    "start_time": "2023-05-31T10:42:32.834Z"
   },
   {
    "duration": 25,
    "start_time": "2023-05-31T10:42:32.854Z"
   },
   {
    "duration": 6,
    "start_time": "2023-05-31T10:42:32.880Z"
   },
   {
    "duration": 50,
    "start_time": "2023-05-31T10:48:39.188Z"
   },
   {
    "duration": 228,
    "start_time": "2023-05-31T10:49:06.096Z"
   },
   {
    "duration": 99,
    "start_time": "2023-05-31T10:49:15.695Z"
   },
   {
    "duration": 11,
    "start_time": "2023-05-31T10:49:20.191Z"
   },
   {
    "duration": 209,
    "start_time": "2023-05-31T10:52:23.623Z"
   },
   {
    "duration": 200,
    "start_time": "2023-05-31T10:52:28.069Z"
   },
   {
    "duration": 8,
    "start_time": "2023-05-31T10:52:56.467Z"
   },
   {
    "duration": 208,
    "start_time": "2023-05-31T10:53:00.234Z"
   },
   {
    "duration": 12,
    "start_time": "2023-05-31T11:18:11.194Z"
   },
   {
    "duration": 12,
    "start_time": "2023-05-31T11:18:26.080Z"
   },
   {
    "duration": 13,
    "start_time": "2023-05-31T11:18:29.387Z"
   },
   {
    "duration": 14,
    "start_time": "2023-05-31T11:18:34.101Z"
   },
   {
    "duration": 568,
    "start_time": "2023-05-31T11:18:37.908Z"
   },
   {
    "duration": 48,
    "start_time": "2023-05-31T12:22:37.201Z"
   },
   {
    "duration": 17,
    "start_time": "2023-05-31T12:22:53.476Z"
   },
   {
    "duration": 16,
    "start_time": "2023-05-31T12:23:32.993Z"
   },
   {
    "duration": 730,
    "start_time": "2023-05-31T12:24:40.890Z"
   },
   {
    "duration": 6,
    "start_time": "2023-05-31T12:30:20.730Z"
   },
   {
    "duration": 24,
    "start_time": "2023-05-31T12:30:22.529Z"
   },
   {
    "duration": 371,
    "start_time": "2023-05-31T12:32:06.282Z"
   },
   {
    "duration": 414,
    "start_time": "2023-05-31T12:32:14.888Z"
   },
   {
    "duration": 341,
    "start_time": "2023-05-31T12:32:48.373Z"
   },
   {
    "duration": 350,
    "start_time": "2023-05-31T12:37:21.001Z"
   },
   {
    "duration": 297,
    "start_time": "2023-05-31T12:37:24.650Z"
   },
   {
    "duration": 354,
    "start_time": "2023-05-31T12:38:37.285Z"
   },
   {
    "duration": 418,
    "start_time": "2023-05-31T12:38:57.941Z"
   },
   {
    "duration": 346,
    "start_time": "2023-05-31T12:39:36.969Z"
   },
   {
    "duration": 380,
    "start_time": "2023-05-31T12:39:46.692Z"
   },
   {
    "duration": 102,
    "start_time": "2023-05-31T12:41:01.089Z"
   },
   {
    "duration": 3,
    "start_time": "2023-05-31T12:41:05.123Z"
   },
   {
    "duration": 450,
    "start_time": "2023-05-31T12:41:12.597Z"
   },
   {
    "duration": 382,
    "start_time": "2023-05-31T12:41:18.629Z"
   },
   {
    "duration": 364,
    "start_time": "2023-05-31T12:42:01.295Z"
   },
   {
    "duration": 413,
    "start_time": "2023-05-31T12:43:16.524Z"
   },
   {
    "duration": 417,
    "start_time": "2023-05-31T12:43:30.089Z"
   },
   {
    "duration": 641,
    "start_time": "2023-05-31T12:43:51.698Z"
   },
   {
    "duration": 432,
    "start_time": "2023-05-31T12:44:05.696Z"
   },
   {
    "duration": 2113,
    "start_time": "2023-05-31T12:53:22.434Z"
   },
   {
    "duration": 5,
    "start_time": "2023-05-31T12:57:39.040Z"
   },
   {
    "duration": 1836,
    "start_time": "2023-05-31T12:57:56.834Z"
   },
   {
    "duration": 1736,
    "start_time": "2023-05-31T13:01:10.504Z"
   },
   {
    "duration": 1774,
    "start_time": "2023-05-31T13:01:55.695Z"
   },
   {
    "duration": 201,
    "start_time": "2023-05-31T13:03:34.928Z"
   },
   {
    "duration": 181,
    "start_time": "2023-05-31T13:04:06.587Z"
   },
   {
    "duration": 9,
    "start_time": "2023-05-31T13:04:36.704Z"
   },
   {
    "duration": 14,
    "start_time": "2023-05-31T13:04:37.599Z"
   },
   {
    "duration": 230,
    "start_time": "2023-05-31T13:06:51.195Z"
   },
   {
    "duration": 202,
    "start_time": "2023-05-31T13:06:53.439Z"
   },
   {
    "duration": 8,
    "start_time": "2023-05-31T13:06:57.040Z"
   },
   {
    "duration": 10,
    "start_time": "2023-05-31T13:06:57.704Z"
   },
   {
    "duration": 224,
    "start_time": "2023-05-31T13:07:00.223Z"
   },
   {
    "duration": 204,
    "start_time": "2023-05-31T13:07:20.395Z"
   },
   {
    "duration": 375,
    "start_time": "2023-05-31T13:07:21.442Z"
   },
   {
    "duration": 9,
    "start_time": "2023-05-31T13:07:22.510Z"
   },
   {
    "duration": 11,
    "start_time": "2023-05-31T13:07:24.019Z"
   },
   {
    "duration": 208,
    "start_time": "2023-05-31T13:07:34.403Z"
   },
   {
    "duration": 203,
    "start_time": "2023-05-31T13:07:39.125Z"
   },
   {
    "duration": 8,
    "start_time": "2023-05-31T13:07:43.838Z"
   },
   {
    "duration": 13,
    "start_time": "2023-05-31T13:07:44.550Z"
   },
   {
    "duration": 189,
    "start_time": "2023-05-31T13:07:52.927Z"
   },
   {
    "duration": 186,
    "start_time": "2023-05-31T13:07:58.790Z"
   },
   {
    "duration": 9,
    "start_time": "2023-05-31T13:08:01.824Z"
   },
   {
    "duration": 28,
    "start_time": "2023-05-31T13:08:02.743Z"
   },
   {
    "duration": 4,
    "start_time": "2023-05-31T13:18:55.912Z"
   },
   {
    "duration": 2,
    "start_time": "2023-05-31T13:18:58.421Z"
   },
   {
    "duration": 2,
    "start_time": "2023-05-31T13:19:03.445Z"
   },
   {
    "duration": 4,
    "start_time": "2023-05-31T13:19:07.875Z"
   },
   {
    "duration": 2,
    "start_time": "2023-05-31T13:19:10.125Z"
   },
   {
    "duration": 3,
    "start_time": "2023-05-31T13:19:13.481Z"
   },
   {
    "duration": 2,
    "start_time": "2023-05-31T13:19:21.808Z"
   },
   {
    "duration": 3,
    "start_time": "2023-05-31T13:19:26.431Z"
   },
   {
    "duration": 3,
    "start_time": "2023-05-31T13:19:29.104Z"
   },
   {
    "duration": 3,
    "start_time": "2023-05-31T13:19:31.400Z"
   },
   {
    "duration": 5,
    "start_time": "2023-05-31T13:20:05.983Z"
   },
   {
    "duration": 30,
    "start_time": "2023-05-31T13:20:18.229Z"
   },
   {
    "duration": 11,
    "start_time": "2023-05-31T13:20:22.980Z"
   },
   {
    "duration": 4,
    "start_time": "2023-05-31T13:20:29.696Z"
   },
   {
    "duration": 64,
    "start_time": "2023-05-31T13:20:29.702Z"
   },
   {
    "duration": 32,
    "start_time": "2023-05-31T13:20:29.768Z"
   },
   {
    "duration": 10,
    "start_time": "2023-05-31T13:20:29.802Z"
   },
   {
    "duration": 46,
    "start_time": "2023-05-31T13:20:29.814Z"
   },
   {
    "duration": 6,
    "start_time": "2023-05-31T13:20:29.863Z"
   },
   {
    "duration": 14,
    "start_time": "2023-05-31T13:20:29.871Z"
   },
   {
    "duration": 13,
    "start_time": "2023-05-31T13:20:29.889Z"
   },
   {
    "duration": 5,
    "start_time": "2023-05-31T13:20:29.905Z"
   },
   {
    "duration": 11,
    "start_time": "2023-05-31T13:20:29.912Z"
   },
   {
    "duration": 9,
    "start_time": "2023-05-31T13:20:29.925Z"
   },
   {
    "duration": 36,
    "start_time": "2023-05-31T13:20:29.936Z"
   },
   {
    "duration": 19,
    "start_time": "2023-05-31T13:20:29.981Z"
   },
   {
    "duration": 7,
    "start_time": "2023-05-31T13:20:30.002Z"
   },
   {
    "duration": 70,
    "start_time": "2023-05-31T13:20:30.011Z"
   },
   {
    "duration": 0,
    "start_time": "2023-05-31T13:20:30.086Z"
   },
   {
    "duration": 0,
    "start_time": "2023-05-31T13:20:30.087Z"
   },
   {
    "duration": 0,
    "start_time": "2023-05-31T13:20:30.088Z"
   },
   {
    "duration": 0,
    "start_time": "2023-05-31T13:20:30.089Z"
   },
   {
    "duration": 0,
    "start_time": "2023-05-31T13:20:30.090Z"
   },
   {
    "duration": 0,
    "start_time": "2023-05-31T13:20:30.092Z"
   },
   {
    "duration": 0,
    "start_time": "2023-05-31T13:20:30.093Z"
   },
   {
    "duration": 0,
    "start_time": "2023-05-31T13:20:30.094Z"
   },
   {
    "duration": 0,
    "start_time": "2023-05-31T13:20:30.095Z"
   },
   {
    "duration": 0,
    "start_time": "2023-05-31T13:20:30.096Z"
   },
   {
    "duration": 0,
    "start_time": "2023-05-31T13:20:30.097Z"
   },
   {
    "duration": 0,
    "start_time": "2023-05-31T13:20:30.098Z"
   },
   {
    "duration": 0,
    "start_time": "2023-05-31T13:20:30.100Z"
   },
   {
    "duration": 0,
    "start_time": "2023-05-31T13:20:30.101Z"
   },
   {
    "duration": 0,
    "start_time": "2023-05-31T13:20:30.102Z"
   },
   {
    "duration": 0,
    "start_time": "2023-05-31T13:20:30.103Z"
   },
   {
    "duration": 0,
    "start_time": "2023-05-31T13:20:30.104Z"
   },
   {
    "duration": 0,
    "start_time": "2023-05-31T13:20:30.105Z"
   },
   {
    "duration": 0,
    "start_time": "2023-05-31T13:20:30.106Z"
   },
   {
    "duration": 0,
    "start_time": "2023-05-31T13:20:30.107Z"
   },
   {
    "duration": 0,
    "start_time": "2023-05-31T13:20:30.108Z"
   },
   {
    "duration": 0,
    "start_time": "2023-05-31T13:20:30.109Z"
   },
   {
    "duration": 0,
    "start_time": "2023-05-31T13:20:30.110Z"
   },
   {
    "duration": 0,
    "start_time": "2023-05-31T13:20:30.111Z"
   },
   {
    "duration": 0,
    "start_time": "2023-05-31T13:20:30.112Z"
   },
   {
    "duration": 0,
    "start_time": "2023-05-31T13:20:30.113Z"
   },
   {
    "duration": 0,
    "start_time": "2023-05-31T13:20:30.151Z"
   },
   {
    "duration": 0,
    "start_time": "2023-05-31T13:20:30.152Z"
   },
   {
    "duration": 0,
    "start_time": "2023-05-31T13:20:30.153Z"
   },
   {
    "duration": 0,
    "start_time": "2023-05-31T13:20:30.154Z"
   },
   {
    "duration": 0,
    "start_time": "2023-05-31T13:20:30.154Z"
   },
   {
    "duration": 0,
    "start_time": "2023-05-31T13:20:30.155Z"
   },
   {
    "duration": 0,
    "start_time": "2023-05-31T13:20:30.156Z"
   },
   {
    "duration": 0,
    "start_time": "2023-05-31T13:20:30.156Z"
   },
   {
    "duration": 0,
    "start_time": "2023-05-31T13:20:30.157Z"
   },
   {
    "duration": 0,
    "start_time": "2023-05-31T13:20:30.157Z"
   },
   {
    "duration": 0,
    "start_time": "2023-05-31T13:20:30.160Z"
   },
   {
    "duration": 0,
    "start_time": "2023-05-31T13:20:30.161Z"
   },
   {
    "duration": 0,
    "start_time": "2023-05-31T13:20:30.162Z"
   },
   {
    "duration": 0,
    "start_time": "2023-05-31T13:20:30.165Z"
   },
   {
    "duration": 0,
    "start_time": "2023-05-31T13:20:30.165Z"
   },
   {
    "duration": 0,
    "start_time": "2023-05-31T13:20:30.166Z"
   },
   {
    "duration": 0,
    "start_time": "2023-05-31T13:20:30.167Z"
   },
   {
    "duration": 0,
    "start_time": "2023-05-31T13:20:30.168Z"
   },
   {
    "duration": 0,
    "start_time": "2023-05-31T13:20:30.168Z"
   },
   {
    "duration": 0,
    "start_time": "2023-05-31T13:20:30.169Z"
   },
   {
    "duration": 0,
    "start_time": "2023-05-31T13:20:30.169Z"
   },
   {
    "duration": 0,
    "start_time": "2023-05-31T13:20:30.170Z"
   },
   {
    "duration": 0,
    "start_time": "2023-05-31T13:20:30.175Z"
   },
   {
    "duration": 0,
    "start_time": "2023-05-31T13:20:30.176Z"
   },
   {
    "duration": 0,
    "start_time": "2023-05-31T13:20:30.177Z"
   },
   {
    "duration": 0,
    "start_time": "2023-05-31T13:20:30.177Z"
   },
   {
    "duration": 0,
    "start_time": "2023-05-31T13:20:30.178Z"
   },
   {
    "duration": 0,
    "start_time": "2023-05-31T13:20:30.179Z"
   },
   {
    "duration": 0,
    "start_time": "2023-05-31T13:20:30.179Z"
   },
   {
    "duration": 1197,
    "start_time": "2023-05-31T13:21:37.930Z"
   },
   {
    "duration": 73,
    "start_time": "2023-05-31T13:21:39.129Z"
   },
   {
    "duration": 43,
    "start_time": "2023-05-31T13:21:39.203Z"
   },
   {
    "duration": 19,
    "start_time": "2023-05-31T13:21:39.247Z"
   },
   {
    "duration": 16,
    "start_time": "2023-05-31T13:21:39.268Z"
   },
   {
    "duration": 6,
    "start_time": "2023-05-31T13:21:39.286Z"
   },
   {
    "duration": 8,
    "start_time": "2023-05-31T13:21:39.293Z"
   },
   {
    "duration": 6,
    "start_time": "2023-05-31T13:21:39.303Z"
   },
   {
    "duration": 5,
    "start_time": "2023-05-31T13:21:39.311Z"
   },
   {
    "duration": 10,
    "start_time": "2023-05-31T13:21:39.317Z"
   },
   {
    "duration": 37,
    "start_time": "2023-05-31T13:21:39.328Z"
   },
   {
    "duration": 21,
    "start_time": "2023-05-31T13:21:39.366Z"
   },
   {
    "duration": 17,
    "start_time": "2023-05-31T13:21:39.389Z"
   },
   {
    "duration": 6,
    "start_time": "2023-05-31T13:21:39.409Z"
   },
   {
    "duration": 146,
    "start_time": "2023-05-31T13:21:39.417Z"
   },
   {
    "duration": 0,
    "start_time": "2023-05-31T13:21:39.568Z"
   },
   {
    "duration": 0,
    "start_time": "2023-05-31T13:21:39.569Z"
   },
   {
    "duration": 0,
    "start_time": "2023-05-31T13:21:39.571Z"
   },
   {
    "duration": 0,
    "start_time": "2023-05-31T13:21:39.573Z"
   },
   {
    "duration": 0,
    "start_time": "2023-05-31T13:21:39.574Z"
   },
   {
    "duration": 0,
    "start_time": "2023-05-31T13:21:39.577Z"
   },
   {
    "duration": 0,
    "start_time": "2023-05-31T13:21:39.578Z"
   },
   {
    "duration": 0,
    "start_time": "2023-05-31T13:21:39.579Z"
   },
   {
    "duration": 0,
    "start_time": "2023-05-31T13:21:39.580Z"
   },
   {
    "duration": 0,
    "start_time": "2023-05-31T13:21:39.581Z"
   },
   {
    "duration": 0,
    "start_time": "2023-05-31T13:21:39.584Z"
   },
   {
    "duration": 0,
    "start_time": "2023-05-31T13:21:39.586Z"
   },
   {
    "duration": 0,
    "start_time": "2023-05-31T13:21:39.587Z"
   },
   {
    "duration": 0,
    "start_time": "2023-05-31T13:21:39.588Z"
   },
   {
    "duration": 0,
    "start_time": "2023-05-31T13:21:39.589Z"
   },
   {
    "duration": 0,
    "start_time": "2023-05-31T13:21:39.591Z"
   },
   {
    "duration": 0,
    "start_time": "2023-05-31T13:21:39.592Z"
   },
   {
    "duration": 0,
    "start_time": "2023-05-31T13:21:39.593Z"
   },
   {
    "duration": 0,
    "start_time": "2023-05-31T13:21:39.595Z"
   },
   {
    "duration": 0,
    "start_time": "2023-05-31T13:21:39.596Z"
   },
   {
    "duration": 0,
    "start_time": "2023-05-31T13:21:39.598Z"
   },
   {
    "duration": 0,
    "start_time": "2023-05-31T13:21:39.599Z"
   },
   {
    "duration": 1,
    "start_time": "2023-05-31T13:21:39.600Z"
   },
   {
    "duration": 0,
    "start_time": "2023-05-31T13:21:39.602Z"
   },
   {
    "duration": 0,
    "start_time": "2023-05-31T13:21:39.603Z"
   },
   {
    "duration": 0,
    "start_time": "2023-05-31T13:21:39.605Z"
   },
   {
    "duration": 0,
    "start_time": "2023-05-31T13:21:39.606Z"
   },
   {
    "duration": 0,
    "start_time": "2023-05-31T13:21:39.608Z"
   },
   {
    "duration": 0,
    "start_time": "2023-05-31T13:21:39.610Z"
   },
   {
    "duration": 0,
    "start_time": "2023-05-31T13:21:39.611Z"
   },
   {
    "duration": 0,
    "start_time": "2023-05-31T13:21:39.611Z"
   },
   {
    "duration": 0,
    "start_time": "2023-05-31T13:21:39.612Z"
   },
   {
    "duration": 0,
    "start_time": "2023-05-31T13:21:39.613Z"
   },
   {
    "duration": 0,
    "start_time": "2023-05-31T13:21:39.613Z"
   },
   {
    "duration": 0,
    "start_time": "2023-05-31T13:21:39.651Z"
   },
   {
    "duration": 0,
    "start_time": "2023-05-31T13:21:39.652Z"
   },
   {
    "duration": 0,
    "start_time": "2023-05-31T13:21:39.653Z"
   },
   {
    "duration": 0,
    "start_time": "2023-05-31T13:21:39.653Z"
   },
   {
    "duration": 0,
    "start_time": "2023-05-31T13:21:39.654Z"
   },
   {
    "duration": 0,
    "start_time": "2023-05-31T13:21:39.657Z"
   },
   {
    "duration": 0,
    "start_time": "2023-05-31T13:21:39.657Z"
   },
   {
    "duration": 0,
    "start_time": "2023-05-31T13:21:39.658Z"
   },
   {
    "duration": 0,
    "start_time": "2023-05-31T13:21:39.659Z"
   },
   {
    "duration": 0,
    "start_time": "2023-05-31T13:21:39.659Z"
   },
   {
    "duration": 0,
    "start_time": "2023-05-31T13:21:39.660Z"
   },
   {
    "duration": 0,
    "start_time": "2023-05-31T13:21:39.661Z"
   },
   {
    "duration": 0,
    "start_time": "2023-05-31T13:21:39.661Z"
   },
   {
    "duration": 0,
    "start_time": "2023-05-31T13:21:39.662Z"
   },
   {
    "duration": 0,
    "start_time": "2023-05-31T13:21:39.663Z"
   },
   {
    "duration": 0,
    "start_time": "2023-05-31T13:21:39.663Z"
   },
   {
    "duration": 0,
    "start_time": "2023-05-31T13:21:39.664Z"
   },
   {
    "duration": 0,
    "start_time": "2023-05-31T13:21:39.664Z"
   },
   {
    "duration": 0,
    "start_time": "2023-05-31T13:21:39.666Z"
   },
   {
    "duration": 0,
    "start_time": "2023-05-31T13:21:39.666Z"
   },
   {
    "duration": 0,
    "start_time": "2023-05-31T13:21:39.667Z"
   },
   {
    "duration": 34,
    "start_time": "2023-05-31T13:21:48.039Z"
   },
   {
    "duration": 7,
    "start_time": "2023-05-31T13:22:32.501Z"
   },
   {
    "duration": 31,
    "start_time": "2023-05-31T13:22:37.455Z"
   },
   {
    "duration": 7,
    "start_time": "2023-05-31T13:22:51.178Z"
   },
   {
    "duration": 37,
    "start_time": "2023-05-31T13:22:51.649Z"
   },
   {
    "duration": 4,
    "start_time": "2023-05-31T13:22:56.384Z"
   },
   {
    "duration": 53,
    "start_time": "2023-05-31T13:22:56.390Z"
   },
   {
    "duration": 43,
    "start_time": "2023-05-31T13:22:56.445Z"
   },
   {
    "duration": 9,
    "start_time": "2023-05-31T13:22:56.490Z"
   },
   {
    "duration": 10,
    "start_time": "2023-05-31T13:22:56.501Z"
   },
   {
    "duration": 5,
    "start_time": "2023-05-31T13:22:56.513Z"
   },
   {
    "duration": 8,
    "start_time": "2023-05-31T13:22:56.550Z"
   },
   {
    "duration": 20,
    "start_time": "2023-05-31T13:22:56.560Z"
   },
   {
    "duration": 9,
    "start_time": "2023-05-31T13:22:56.582Z"
   },
   {
    "duration": 10,
    "start_time": "2023-05-31T13:22:56.593Z"
   },
   {
    "duration": 8,
    "start_time": "2023-05-31T13:22:56.605Z"
   },
   {
    "duration": 11,
    "start_time": "2023-05-31T13:22:56.615Z"
   },
   {
    "duration": 44,
    "start_time": "2023-05-31T13:22:56.629Z"
   },
   {
    "duration": 8,
    "start_time": "2023-05-31T13:22:56.675Z"
   },
   {
    "duration": 28,
    "start_time": "2023-05-31T13:22:56.684Z"
   },
   {
    "duration": 9,
    "start_time": "2023-05-31T13:22:56.714Z"
   },
   {
    "duration": 68,
    "start_time": "2023-05-31T13:22:56.724Z"
   },
   {
    "duration": 9,
    "start_time": "2023-05-31T13:22:56.794Z"
   },
   {
    "duration": 21,
    "start_time": "2023-05-31T13:22:56.806Z"
   },
   {
    "duration": 6,
    "start_time": "2023-05-31T13:22:56.828Z"
   },
   {
    "duration": 3,
    "start_time": "2023-05-31T13:22:56.836Z"
   },
   {
    "duration": 24,
    "start_time": "2023-05-31T13:22:56.841Z"
   },
   {
    "duration": 7,
    "start_time": "2023-05-31T13:22:56.871Z"
   },
   {
    "duration": 3,
    "start_time": "2023-05-31T13:22:56.881Z"
   },
   {
    "duration": 6,
    "start_time": "2023-05-31T13:22:56.890Z"
   },
   {
    "duration": 9,
    "start_time": "2023-05-31T13:22:56.898Z"
   },
   {
    "duration": 12,
    "start_time": "2023-05-31T13:22:56.910Z"
   },
   {
    "duration": 17,
    "start_time": "2023-05-31T13:22:56.924Z"
   },
   {
    "duration": 30,
    "start_time": "2023-05-31T13:22:56.942Z"
   },
   {
    "duration": 5,
    "start_time": "2023-05-31T13:22:56.977Z"
   },
   {
    "duration": 44,
    "start_time": "2023-05-31T13:22:56.984Z"
   },
   {
    "duration": 15,
    "start_time": "2023-05-31T13:22:57.030Z"
   },
   {
    "duration": 0,
    "start_time": "2023-05-31T13:22:57.048Z"
   },
   {
    "duration": 0,
    "start_time": "2023-05-31T13:22:57.050Z"
   },
   {
    "duration": 0,
    "start_time": "2023-05-31T13:22:57.051Z"
   },
   {
    "duration": 0,
    "start_time": "2023-05-31T13:22:57.052Z"
   },
   {
    "duration": 0,
    "start_time": "2023-05-31T13:22:57.053Z"
   },
   {
    "duration": 0,
    "start_time": "2023-05-31T13:22:57.054Z"
   },
   {
    "duration": 0,
    "start_time": "2023-05-31T13:22:57.055Z"
   },
   {
    "duration": 0,
    "start_time": "2023-05-31T13:22:57.056Z"
   },
   {
    "duration": 0,
    "start_time": "2023-05-31T13:22:57.057Z"
   },
   {
    "duration": 0,
    "start_time": "2023-05-31T13:22:57.057Z"
   },
   {
    "duration": 0,
    "start_time": "2023-05-31T13:22:57.060Z"
   },
   {
    "duration": 0,
    "start_time": "2023-05-31T13:22:57.061Z"
   },
   {
    "duration": 0,
    "start_time": "2023-05-31T13:22:57.062Z"
   },
   {
    "duration": 0,
    "start_time": "2023-05-31T13:22:57.062Z"
   },
   {
    "duration": 0,
    "start_time": "2023-05-31T13:22:57.063Z"
   },
   {
    "duration": 0,
    "start_time": "2023-05-31T13:22:57.064Z"
   },
   {
    "duration": 0,
    "start_time": "2023-05-31T13:22:57.065Z"
   },
   {
    "duration": 0,
    "start_time": "2023-05-31T13:22:57.068Z"
   },
   {
    "duration": 0,
    "start_time": "2023-05-31T13:22:57.070Z"
   },
   {
    "duration": 0,
    "start_time": "2023-05-31T13:22:57.071Z"
   },
   {
    "duration": 0,
    "start_time": "2023-05-31T13:22:57.072Z"
   },
   {
    "duration": 0,
    "start_time": "2023-05-31T13:22:57.073Z"
   },
   {
    "duration": 0,
    "start_time": "2023-05-31T13:22:57.074Z"
   },
   {
    "duration": 0,
    "start_time": "2023-05-31T13:22:57.076Z"
   },
   {
    "duration": 1,
    "start_time": "2023-05-31T13:22:57.077Z"
   },
   {
    "duration": 0,
    "start_time": "2023-05-31T13:22:57.079Z"
   },
   {
    "duration": 0,
    "start_time": "2023-05-31T13:22:57.080Z"
   },
   {
    "duration": 0,
    "start_time": "2023-05-31T13:22:57.083Z"
   },
   {
    "duration": 0,
    "start_time": "2023-05-31T13:22:57.084Z"
   },
   {
    "duration": 0,
    "start_time": "2023-05-31T13:22:57.090Z"
   },
   {
    "duration": 0,
    "start_time": "2023-05-31T13:22:57.091Z"
   },
   {
    "duration": 0,
    "start_time": "2023-05-31T13:22:57.092Z"
   },
   {
    "duration": 0,
    "start_time": "2023-05-31T13:22:57.094Z"
   },
   {
    "duration": 0,
    "start_time": "2023-05-31T13:22:57.096Z"
   },
   {
    "duration": 0,
    "start_time": "2023-05-31T13:22:57.098Z"
   },
   {
    "duration": 0,
    "start_time": "2023-05-31T13:22:57.099Z"
   },
   {
    "duration": 0,
    "start_time": "2023-05-31T13:22:57.101Z"
   },
   {
    "duration": 0,
    "start_time": "2023-05-31T13:22:57.103Z"
   },
   {
    "duration": 3,
    "start_time": "2023-05-31T13:23:25.681Z"
   },
   {
    "duration": 56,
    "start_time": "2023-05-31T13:23:25.686Z"
   },
   {
    "duration": 40,
    "start_time": "2023-05-31T13:23:25.743Z"
   },
   {
    "duration": 11,
    "start_time": "2023-05-31T13:23:25.785Z"
   },
   {
    "duration": 14,
    "start_time": "2023-05-31T13:23:25.799Z"
   },
   {
    "duration": 5,
    "start_time": "2023-05-31T13:23:25.815Z"
   },
   {
    "duration": 43,
    "start_time": "2023-05-31T13:23:25.821Z"
   },
   {
    "duration": 16,
    "start_time": "2023-05-31T13:23:25.866Z"
   },
   {
    "duration": 7,
    "start_time": "2023-05-31T13:23:25.884Z"
   },
   {
    "duration": 10,
    "start_time": "2023-05-31T13:23:25.893Z"
   },
   {
    "duration": 5,
    "start_time": "2023-05-31T13:23:25.905Z"
   },
   {
    "duration": 10,
    "start_time": "2023-05-31T13:23:25.912Z"
   },
   {
    "duration": 49,
    "start_time": "2023-05-31T13:23:25.923Z"
   },
   {
    "duration": 10,
    "start_time": "2023-05-31T13:23:25.975Z"
   },
   {
    "duration": 31,
    "start_time": "2023-05-31T13:23:25.987Z"
   },
   {
    "duration": 12,
    "start_time": "2023-05-31T13:23:26.020Z"
   },
   {
    "duration": 77,
    "start_time": "2023-05-31T13:23:26.034Z"
   },
   {
    "duration": 10,
    "start_time": "2023-05-31T13:23:26.114Z"
   },
   {
    "duration": 56,
    "start_time": "2023-05-31T13:23:26.126Z"
   },
   {
    "duration": 5,
    "start_time": "2023-05-31T13:23:26.184Z"
   },
   {
    "duration": 9,
    "start_time": "2023-05-31T13:23:26.191Z"
   },
   {
    "duration": 9,
    "start_time": "2023-05-31T13:23:26.201Z"
   },
   {
    "duration": 11,
    "start_time": "2023-05-31T13:23:26.212Z"
   },
   {
    "duration": 5,
    "start_time": "2023-05-31T13:23:26.225Z"
   },
   {
    "duration": 4,
    "start_time": "2023-05-31T13:23:26.232Z"
   },
   {
    "duration": 5,
    "start_time": "2023-05-31T13:23:26.238Z"
   },
   {
    "duration": 13,
    "start_time": "2023-05-31T13:23:26.244Z"
   },
   {
    "duration": 7,
    "start_time": "2023-05-31T13:23:26.259Z"
   },
   {
    "duration": 22,
    "start_time": "2023-05-31T13:23:26.267Z"
   },
   {
    "duration": 9,
    "start_time": "2023-05-31T13:23:26.291Z"
   },
   {
    "duration": 27,
    "start_time": "2023-05-31T13:23:26.301Z"
   },
   {
    "duration": 42,
    "start_time": "2023-05-31T13:23:26.329Z"
   },
   {
    "duration": 18,
    "start_time": "2023-05-31T13:23:26.373Z"
   },
   {
    "duration": 0,
    "start_time": "2023-05-31T13:23:26.393Z"
   },
   {
    "duration": 0,
    "start_time": "2023-05-31T13:23:26.395Z"
   },
   {
    "duration": 0,
    "start_time": "2023-05-31T13:23:26.396Z"
   },
   {
    "duration": 0,
    "start_time": "2023-05-31T13:23:26.398Z"
   },
   {
    "duration": 0,
    "start_time": "2023-05-31T13:23:26.400Z"
   },
   {
    "duration": 0,
    "start_time": "2023-05-31T13:23:26.401Z"
   },
   {
    "duration": 0,
    "start_time": "2023-05-31T13:23:26.403Z"
   },
   {
    "duration": 0,
    "start_time": "2023-05-31T13:23:26.404Z"
   },
   {
    "duration": 0,
    "start_time": "2023-05-31T13:23:26.406Z"
   },
   {
    "duration": 0,
    "start_time": "2023-05-31T13:23:26.408Z"
   },
   {
    "duration": 0,
    "start_time": "2023-05-31T13:23:26.410Z"
   },
   {
    "duration": 0,
    "start_time": "2023-05-31T13:23:26.412Z"
   },
   {
    "duration": 0,
    "start_time": "2023-05-31T13:23:26.414Z"
   },
   {
    "duration": 0,
    "start_time": "2023-05-31T13:23:26.415Z"
   },
   {
    "duration": 0,
    "start_time": "2023-05-31T13:23:26.417Z"
   },
   {
    "duration": 0,
    "start_time": "2023-05-31T13:23:26.458Z"
   },
   {
    "duration": 0,
    "start_time": "2023-05-31T13:23:26.459Z"
   },
   {
    "duration": 0,
    "start_time": "2023-05-31T13:23:26.460Z"
   },
   {
    "duration": 0,
    "start_time": "2023-05-31T13:23:26.464Z"
   },
   {
    "duration": 1,
    "start_time": "2023-05-31T13:23:26.464Z"
   },
   {
    "duration": 0,
    "start_time": "2023-05-31T13:23:26.465Z"
   },
   {
    "duration": 0,
    "start_time": "2023-05-31T13:23:26.467Z"
   },
   {
    "duration": 0,
    "start_time": "2023-05-31T13:23:26.468Z"
   },
   {
    "duration": 0,
    "start_time": "2023-05-31T13:23:26.469Z"
   },
   {
    "duration": 0,
    "start_time": "2023-05-31T13:23:26.470Z"
   },
   {
    "duration": 0,
    "start_time": "2023-05-31T13:23:26.471Z"
   },
   {
    "duration": 0,
    "start_time": "2023-05-31T13:23:26.473Z"
   },
   {
    "duration": 0,
    "start_time": "2023-05-31T13:23:26.474Z"
   },
   {
    "duration": 0,
    "start_time": "2023-05-31T13:23:26.476Z"
   },
   {
    "duration": 0,
    "start_time": "2023-05-31T13:23:26.477Z"
   },
   {
    "duration": 0,
    "start_time": "2023-05-31T13:23:26.479Z"
   },
   {
    "duration": 0,
    "start_time": "2023-05-31T13:23:26.480Z"
   },
   {
    "duration": 0,
    "start_time": "2023-05-31T13:23:26.481Z"
   },
   {
    "duration": 0,
    "start_time": "2023-05-31T13:23:26.482Z"
   },
   {
    "duration": 0,
    "start_time": "2023-05-31T13:23:26.484Z"
   },
   {
    "duration": 0,
    "start_time": "2023-05-31T13:23:26.485Z"
   },
   {
    "duration": 0,
    "start_time": "2023-05-31T13:23:26.486Z"
   },
   {
    "duration": 0,
    "start_time": "2023-05-31T13:23:26.488Z"
   },
   {
    "duration": 3,
    "start_time": "2023-05-31T13:24:05.232Z"
   },
   {
    "duration": 13,
    "start_time": "2023-05-31T13:25:01.718Z"
   },
   {
    "duration": 29,
    "start_time": "2023-05-31T13:25:16.840Z"
   },
   {
    "duration": 11,
    "start_time": "2023-05-31T13:25:18.503Z"
   },
   {
    "duration": 21,
    "start_time": "2023-05-31T13:25:25.871Z"
   },
   {
    "duration": 13,
    "start_time": "2023-05-31T13:25:26.120Z"
   },
   {
    "duration": 5,
    "start_time": "2023-05-31T13:25:28.329Z"
   },
   {
    "duration": 7,
    "start_time": "2023-05-31T13:25:29.180Z"
   },
   {
    "duration": 12,
    "start_time": "2023-05-31T13:25:29.425Z"
   },
   {
    "duration": 25,
    "start_time": "2023-05-31T13:25:29.872Z"
   },
   {
    "duration": 32,
    "start_time": "2023-05-31T13:25:30.832Z"
   },
   {
    "duration": 7,
    "start_time": "2023-05-31T13:25:31.481Z"
   },
   {
    "duration": 233,
    "start_time": "2023-05-31T13:25:31.516Z"
   },
   {
    "duration": 23,
    "start_time": "2023-05-31T13:25:31.751Z"
   },
   {
    "duration": 704,
    "start_time": "2023-05-31T13:25:31.832Z"
   },
   {
    "duration": 3,
    "start_time": "2023-05-31T13:25:32.538Z"
   },
   {
    "duration": 9,
    "start_time": "2023-05-31T13:25:32.543Z"
   },
   {
    "duration": 277,
    "start_time": "2023-05-31T13:25:32.556Z"
   },
   {
    "duration": 383,
    "start_time": "2023-05-31T13:25:32.835Z"
   },
   {
    "duration": 11,
    "start_time": "2023-05-31T13:25:40.052Z"
   },
   {
    "duration": 10,
    "start_time": "2023-05-31T13:27:01.396Z"
   },
   {
    "duration": 14,
    "start_time": "2023-05-31T13:27:13.597Z"
   },
   {
    "duration": 272,
    "start_time": "2023-05-31T13:28:13.475Z"
   },
   {
    "duration": 181,
    "start_time": "2023-05-31T13:28:15.093Z"
   },
   {
    "duration": 11,
    "start_time": "2023-05-31T13:28:24.110Z"
   },
   {
    "duration": 9,
    "start_time": "2023-05-31T13:28:24.812Z"
   },
   {
    "duration": 3,
    "start_time": "2023-05-31T13:28:58.731Z"
   },
   {
    "duration": 76,
    "start_time": "2023-05-31T13:28:58.737Z"
   },
   {
    "duration": 26,
    "start_time": "2023-05-31T13:28:58.815Z"
   },
   {
    "duration": 28,
    "start_time": "2023-05-31T13:28:58.843Z"
   },
   {
    "duration": 8,
    "start_time": "2023-05-31T13:28:58.873Z"
   },
   {
    "duration": 5,
    "start_time": "2023-05-31T13:28:58.883Z"
   },
   {
    "duration": 6,
    "start_time": "2023-05-31T13:28:58.889Z"
   },
   {
    "duration": 4,
    "start_time": "2023-05-31T13:28:58.897Z"
   },
   {
    "duration": 8,
    "start_time": "2023-05-31T13:28:58.904Z"
   },
   {
    "duration": 55,
    "start_time": "2023-05-31T13:28:58.914Z"
   },
   {
    "duration": 13,
    "start_time": "2023-05-31T13:28:58.971Z"
   },
   {
    "duration": 15,
    "start_time": "2023-05-31T13:28:58.986Z"
   },
   {
    "duration": 19,
    "start_time": "2023-05-31T13:28:59.003Z"
   },
   {
    "duration": 6,
    "start_time": "2023-05-31T13:28:59.024Z"
   },
   {
    "duration": 51,
    "start_time": "2023-05-31T13:28:59.032Z"
   },
   {
    "duration": 10,
    "start_time": "2023-05-31T13:28:59.085Z"
   },
   {
    "duration": 41,
    "start_time": "2023-05-31T13:28:59.097Z"
   },
   {
    "duration": 30,
    "start_time": "2023-05-31T13:28:59.139Z"
   },
   {
    "duration": 12,
    "start_time": "2023-05-31T13:28:59.170Z"
   },
   {
    "duration": 5,
    "start_time": "2023-05-31T13:28:59.185Z"
   },
   {
    "duration": 11,
    "start_time": "2023-05-31T13:28:59.192Z"
   },
   {
    "duration": 10,
    "start_time": "2023-05-31T13:28:59.205Z"
   },
   {
    "duration": 15,
    "start_time": "2023-05-31T13:28:59.217Z"
   },
   {
    "duration": 3,
    "start_time": "2023-05-31T13:28:59.236Z"
   },
   {
    "duration": 27,
    "start_time": "2023-05-31T13:28:59.241Z"
   },
   {
    "duration": 16,
    "start_time": "2023-05-31T13:28:59.270Z"
   },
   {
    "duration": 5,
    "start_time": "2023-05-31T13:28:59.288Z"
   },
   {
    "duration": 21,
    "start_time": "2023-05-31T13:28:59.295Z"
   },
   {
    "duration": 23,
    "start_time": "2023-05-31T13:28:59.318Z"
   },
   {
    "duration": 20,
    "start_time": "2023-05-31T13:28:59.343Z"
   },
   {
    "duration": 20,
    "start_time": "2023-05-31T13:28:59.372Z"
   },
   {
    "duration": 16,
    "start_time": "2023-05-31T13:28:59.393Z"
   },
   {
    "duration": 10,
    "start_time": "2023-05-31T13:28:59.411Z"
   },
   {
    "duration": 14,
    "start_time": "2023-05-31T13:28:59.422Z"
   },
   {
    "duration": 22,
    "start_time": "2023-05-31T13:28:59.437Z"
   },
   {
    "duration": 8,
    "start_time": "2023-05-31T13:28:59.462Z"
   },
   {
    "duration": 18,
    "start_time": "2023-05-31T13:28:59.472Z"
   },
   {
    "duration": 12,
    "start_time": "2023-05-31T13:28:59.492Z"
   },
   {
    "duration": 26,
    "start_time": "2023-05-31T13:28:59.505Z"
   },
   {
    "duration": 40,
    "start_time": "2023-05-31T13:28:59.533Z"
   },
   {
    "duration": 9,
    "start_time": "2023-05-31T13:28:59.578Z"
   },
   {
    "duration": 217,
    "start_time": "2023-05-31T13:28:59.589Z"
   },
   {
    "duration": 19,
    "start_time": "2023-05-31T13:28:59.809Z"
   },
   {
    "duration": 644,
    "start_time": "2023-05-31T13:28:59.830Z"
   },
   {
    "duration": 2,
    "start_time": "2023-05-31T13:29:00.476Z"
   },
   {
    "duration": 86,
    "start_time": "2023-05-31T13:29:00.484Z"
   },
   {
    "duration": 337,
    "start_time": "2023-05-31T13:29:00.572Z"
   },
   {
    "duration": 391,
    "start_time": "2023-05-31T13:29:00.911Z"
   },
   {
    "duration": 3,
    "start_time": "2023-05-31T13:29:01.304Z"
   },
   {
    "duration": 35,
    "start_time": "2023-05-31T13:29:01.308Z"
   },
   {
    "duration": 51,
    "start_time": "2023-05-31T13:29:01.345Z"
   },
   {
    "duration": 197,
    "start_time": "2023-05-31T13:29:01.399Z"
   },
   {
    "duration": 195,
    "start_time": "2023-05-31T13:29:01.598Z"
   },
   {
    "duration": 9,
    "start_time": "2023-05-31T13:29:01.795Z"
   },
   {
    "duration": 32,
    "start_time": "2023-05-31T13:29:01.806Z"
   },
   {
    "duration": 302,
    "start_time": "2023-05-31T13:29:01.840Z"
   },
   {
    "duration": 175,
    "start_time": "2023-05-31T13:29:02.154Z"
   },
   {
    "duration": 8,
    "start_time": "2023-05-31T13:29:02.331Z"
   },
   {
    "duration": 19,
    "start_time": "2023-05-31T13:29:02.350Z"
   },
   {
    "duration": 234,
    "start_time": "2023-05-31T13:29:02.373Z"
   },
   {
    "duration": 186,
    "start_time": "2023-05-31T13:29:02.608Z"
   },
   {
    "duration": 8,
    "start_time": "2023-05-31T13:29:02.795Z"
   },
   {
    "duration": 33,
    "start_time": "2023-05-31T13:29:02.805Z"
   },
   {
    "duration": 58,
    "start_time": "2023-05-31T13:29:02.840Z"
   },
   {
    "duration": 0,
    "start_time": "2023-05-31T13:29:02.900Z"
   },
   {
    "duration": 0,
    "start_time": "2023-05-31T13:29:02.902Z"
   },
   {
    "duration": 0,
    "start_time": "2023-05-31T13:29:02.903Z"
   },
   {
    "duration": 0,
    "start_time": "2023-05-31T13:29:02.905Z"
   },
   {
    "duration": 0,
    "start_time": "2023-05-31T13:29:02.907Z"
   },
   {
    "duration": 0,
    "start_time": "2023-05-31T13:29:02.908Z"
   },
   {
    "duration": 0,
    "start_time": "2023-05-31T13:29:02.910Z"
   },
   {
    "duration": 0,
    "start_time": "2023-05-31T13:29:02.912Z"
   },
   {
    "duration": 206,
    "start_time": "2023-05-31T13:32:15.042Z"
   },
   {
    "duration": 175,
    "start_time": "2023-05-31T13:32:20.121Z"
   },
   {
    "duration": 8,
    "start_time": "2023-05-31T13:32:25.722Z"
   },
   {
    "duration": 8,
    "start_time": "2023-05-31T13:32:26.314Z"
   },
   {
    "duration": 11,
    "start_time": "2023-05-31T13:36:42.191Z"
   },
   {
    "duration": 224,
    "start_time": "2023-05-31T13:36:52.835Z"
   },
   {
    "duration": 242,
    "start_time": "2023-05-31T13:39:34.086Z"
   },
   {
    "duration": 243,
    "start_time": "2023-05-31T13:41:28.082Z"
   },
   {
    "duration": 226,
    "start_time": "2023-05-31T13:41:42.781Z"
   },
   {
    "duration": 9,
    "start_time": "2023-05-31T13:57:19.279Z"
   },
   {
    "duration": 564,
    "start_time": "2023-05-31T14:02:18.443Z"
   },
   {
    "duration": 453,
    "start_time": "2023-05-31T14:02:28.643Z"
   },
   {
    "duration": 801,
    "start_time": "2023-05-31T14:03:09.187Z"
   },
   {
    "duration": 931,
    "start_time": "2023-05-31T14:10:06.180Z"
   },
   {
    "duration": 355,
    "start_time": "2023-05-31T14:21:27.780Z"
   },
   {
    "duration": 16,
    "start_time": "2023-05-31T14:34:50.905Z"
   },
   {
    "duration": 15,
    "start_time": "2023-05-31T14:34:58.797Z"
   },
   {
    "duration": 13,
    "start_time": "2023-05-31T14:35:02.703Z"
   },
   {
    "duration": 23,
    "start_time": "2023-05-31T14:35:06.274Z"
   },
   {
    "duration": 15,
    "start_time": "2023-05-31T14:35:54.202Z"
   },
   {
    "duration": 6,
    "start_time": "2023-05-31T14:36:23.583Z"
   },
   {
    "duration": 33,
    "start_time": "2023-05-31T14:36:25.480Z"
   },
   {
    "duration": 10,
    "start_time": "2023-05-31T14:38:03.875Z"
   },
   {
    "duration": 16,
    "start_time": "2023-05-31T14:38:40.144Z"
   },
   {
    "duration": 21,
    "start_time": "2023-05-31T14:38:44.176Z"
   },
   {
    "duration": 15,
    "start_time": "2023-05-31T14:39:37.634Z"
   },
   {
    "duration": 30,
    "start_time": "2023-05-31T14:39:41.679Z"
   },
   {
    "duration": 7,
    "start_time": "2023-05-31T14:39:55.636Z"
   },
   {
    "duration": 8,
    "start_time": "2023-05-31T14:40:15.284Z"
   },
   {
    "duration": 1266,
    "start_time": "2023-05-31T14:40:28.702Z"
   },
   {
    "duration": 71,
    "start_time": "2023-05-31T14:40:29.970Z"
   },
   {
    "duration": 65,
    "start_time": "2023-05-31T14:40:30.043Z"
   },
   {
    "duration": 23,
    "start_time": "2023-05-31T14:40:30.110Z"
   },
   {
    "duration": 36,
    "start_time": "2023-05-31T14:40:30.135Z"
   },
   {
    "duration": 31,
    "start_time": "2023-05-31T14:40:30.173Z"
   },
   {
    "duration": 22,
    "start_time": "2023-05-31T14:40:30.206Z"
   },
   {
    "duration": 55,
    "start_time": "2023-05-31T14:40:30.229Z"
   },
   {
    "duration": 33,
    "start_time": "2023-05-31T14:40:30.286Z"
   },
   {
    "duration": 48,
    "start_time": "2023-05-31T14:40:30.323Z"
   },
   {
    "duration": 14,
    "start_time": "2023-05-31T14:40:30.376Z"
   },
   {
    "duration": 43,
    "start_time": "2023-05-31T14:40:30.394Z"
   },
   {
    "duration": 68,
    "start_time": "2023-05-31T14:40:30.440Z"
   },
   {
    "duration": 28,
    "start_time": "2023-05-31T14:40:30.515Z"
   },
   {
    "duration": 69,
    "start_time": "2023-05-31T14:40:30.545Z"
   },
   {
    "duration": 47,
    "start_time": "2023-05-31T14:40:30.616Z"
   },
   {
    "duration": 62,
    "start_time": "2023-05-31T14:40:30.665Z"
   },
   {
    "duration": 40,
    "start_time": "2023-05-31T14:40:30.730Z"
   },
   {
    "duration": 35,
    "start_time": "2023-05-31T14:40:30.785Z"
   },
   {
    "duration": 61,
    "start_time": "2023-05-31T14:40:30.823Z"
   },
   {
    "duration": 63,
    "start_time": "2023-05-31T14:40:30.885Z"
   },
   {
    "duration": 80,
    "start_time": "2023-05-31T14:40:30.957Z"
   },
   {
    "duration": 79,
    "start_time": "2023-05-31T14:40:31.039Z"
   },
   {
    "duration": 36,
    "start_time": "2023-05-31T14:40:31.120Z"
   },
   {
    "duration": 31,
    "start_time": "2023-05-31T14:40:31.163Z"
   },
   {
    "duration": 38,
    "start_time": "2023-05-31T14:40:31.196Z"
   },
   {
    "duration": 35,
    "start_time": "2023-05-31T14:40:31.237Z"
   },
   {
    "duration": 13,
    "start_time": "2023-05-31T14:40:31.284Z"
   },
   {
    "duration": 31,
    "start_time": "2023-05-31T14:40:31.303Z"
   },
   {
    "duration": 37,
    "start_time": "2023-05-31T14:40:31.336Z"
   },
   {
    "duration": 23,
    "start_time": "2023-05-31T14:40:31.376Z"
   },
   {
    "duration": 45,
    "start_time": "2023-05-31T14:40:31.404Z"
   },
   {
    "duration": 16,
    "start_time": "2023-05-31T14:40:31.460Z"
   },
   {
    "duration": 21,
    "start_time": "2023-05-31T14:40:31.479Z"
   },
   {
    "duration": 17,
    "start_time": "2023-05-31T14:40:31.502Z"
   },
   {
    "duration": 9,
    "start_time": "2023-05-31T14:40:31.520Z"
   },
   {
    "duration": 38,
    "start_time": "2023-05-31T14:40:31.531Z"
   },
   {
    "duration": 28,
    "start_time": "2023-05-31T14:40:31.576Z"
   },
   {
    "duration": 21,
    "start_time": "2023-05-31T14:40:31.606Z"
   },
   {
    "duration": 37,
    "start_time": "2023-05-31T14:40:31.629Z"
   },
   {
    "duration": 20,
    "start_time": "2023-05-31T14:40:31.668Z"
   },
   {
    "duration": 338,
    "start_time": "2023-05-31T14:40:31.690Z"
   },
   {
    "duration": 35,
    "start_time": "2023-05-31T14:40:32.031Z"
   },
   {
    "duration": 828,
    "start_time": "2023-05-31T14:40:32.068Z"
   },
   {
    "duration": 3,
    "start_time": "2023-05-31T14:40:32.904Z"
   },
   {
    "duration": 8,
    "start_time": "2023-05-31T14:40:32.909Z"
   },
   {
    "duration": 303,
    "start_time": "2023-05-31T14:40:32.919Z"
   },
   {
    "duration": 435,
    "start_time": "2023-05-31T14:40:33.224Z"
   },
   {
    "duration": 11,
    "start_time": "2023-05-31T14:40:33.669Z"
   },
   {
    "duration": 18,
    "start_time": "2023-05-31T14:40:33.691Z"
   },
   {
    "duration": 16,
    "start_time": "2023-05-31T14:40:33.713Z"
   },
   {
    "duration": 203,
    "start_time": "2023-05-31T14:40:33.730Z"
   },
   {
    "duration": 329,
    "start_time": "2023-05-31T14:40:33.935Z"
   },
   {
    "duration": 29,
    "start_time": "2023-05-31T14:40:34.273Z"
   },
   {
    "duration": 13,
    "start_time": "2023-05-31T14:40:34.308Z"
   },
   {
    "duration": 211,
    "start_time": "2023-05-31T14:40:34.325Z"
   },
   {
    "duration": 223,
    "start_time": "2023-05-31T14:40:34.538Z"
   },
   {
    "duration": 24,
    "start_time": "2023-05-31T14:40:34.768Z"
   },
   {
    "duration": 14,
    "start_time": "2023-05-31T14:40:34.797Z"
   },
   {
    "duration": 229,
    "start_time": "2023-05-31T14:40:34.816Z"
   },
   {
    "duration": 218,
    "start_time": "2023-05-31T14:40:35.048Z"
   },
   {
    "duration": 23,
    "start_time": "2023-05-31T14:40:35.268Z"
   },
   {
    "duration": 16,
    "start_time": "2023-05-31T14:40:35.295Z"
   },
   {
    "duration": 207,
    "start_time": "2023-05-31T14:40:35.314Z"
   },
   {
    "duration": 193,
    "start_time": "2023-05-31T14:40:35.523Z"
   },
   {
    "duration": 8,
    "start_time": "2023-05-31T14:40:35.718Z"
   },
   {
    "duration": 36,
    "start_time": "2023-05-31T14:40:35.727Z"
   },
   {
    "duration": 15,
    "start_time": "2023-05-31T14:40:35.764Z"
   },
   {
    "duration": 259,
    "start_time": "2023-05-31T14:40:35.781Z"
   },
   {
    "duration": 246,
    "start_time": "2023-05-31T14:40:36.042Z"
   },
   {
    "duration": 9,
    "start_time": "2023-05-31T14:40:36.290Z"
   },
   {
    "duration": 472,
    "start_time": "2023-05-31T14:40:36.301Z"
   },
   {
    "duration": 868,
    "start_time": "2023-05-31T14:40:36.775Z"
   },
   {
    "duration": 369,
    "start_time": "2023-05-31T14:40:37.644Z"
   },
   {
    "duration": 3,
    "start_time": "2023-05-31T14:40:38.016Z"
   },
   {
    "duration": 24,
    "start_time": "2023-05-31T14:40:38.021Z"
   },
   {
    "duration": 20,
    "start_time": "2023-05-31T14:40:38.047Z"
   },
   {
    "duration": 33,
    "start_time": "2023-05-31T14:40:38.069Z"
   },
   {
    "duration": 15,
    "start_time": "2023-05-31T14:40:38.106Z"
   },
   {
    "duration": 6,
    "start_time": "2023-05-31T14:40:38.123Z"
   },
   {
    "duration": 14,
    "start_time": "2023-05-31T14:43:17.308Z"
   },
   {
    "duration": 13,
    "start_time": "2023-05-31T14:43:20.088Z"
   },
   {
    "duration": 11,
    "start_time": "2023-05-31T14:45:20.589Z"
   },
   {
    "duration": 6,
    "start_time": "2023-05-31T14:45:24.330Z"
   },
   {
    "duration": 13,
    "start_time": "2023-05-31T14:46:02.233Z"
   },
   {
    "duration": 12,
    "start_time": "2023-05-31T14:46:33.331Z"
   },
   {
    "duration": 105,
    "start_time": "2023-05-31T14:48:48.234Z"
   },
   {
    "duration": 10,
    "start_time": "2023-05-31T14:48:58.005Z"
   },
   {
    "duration": 1230,
    "start_time": "2023-05-31T15:11:17.866Z"
   },
   {
    "duration": 54,
    "start_time": "2023-05-31T15:11:19.098Z"
   },
   {
    "duration": 38,
    "start_time": "2023-05-31T15:11:19.153Z"
   },
   {
    "duration": 11,
    "start_time": "2023-05-31T15:11:19.193Z"
   },
   {
    "duration": 11,
    "start_time": "2023-05-31T15:11:19.206Z"
   },
   {
    "duration": 9,
    "start_time": "2023-05-31T15:11:19.218Z"
   },
   {
    "duration": 29,
    "start_time": "2023-05-31T15:11:19.229Z"
   },
   {
    "duration": 10,
    "start_time": "2023-05-31T15:11:19.260Z"
   },
   {
    "duration": 7,
    "start_time": "2023-05-31T15:11:19.272Z"
   },
   {
    "duration": 13,
    "start_time": "2023-05-31T15:11:19.283Z"
   },
   {
    "duration": 7,
    "start_time": "2023-05-31T15:11:19.298Z"
   },
   {
    "duration": 11,
    "start_time": "2023-05-31T15:11:19.307Z"
   },
   {
    "duration": 55,
    "start_time": "2023-05-31T15:11:19.319Z"
   },
   {
    "duration": 7,
    "start_time": "2023-05-31T15:11:19.379Z"
   },
   {
    "duration": 26,
    "start_time": "2023-05-31T15:11:19.388Z"
   },
   {
    "duration": 9,
    "start_time": "2023-05-31T15:11:19.415Z"
   },
   {
    "duration": 75,
    "start_time": "2023-05-31T15:11:19.425Z"
   },
   {
    "duration": 8,
    "start_time": "2023-05-31T15:11:19.502Z"
   },
   {
    "duration": 10,
    "start_time": "2023-05-31T15:11:19.512Z"
   },
   {
    "duration": 4,
    "start_time": "2023-05-31T15:11:19.523Z"
   },
   {
    "duration": 6,
    "start_time": "2023-05-31T15:11:19.529Z"
   },
   {
    "duration": 22,
    "start_time": "2023-05-31T15:11:19.536Z"
   },
   {
    "duration": 3,
    "start_time": "2023-05-31T15:11:19.559Z"
   },
   {
    "duration": 3,
    "start_time": "2023-05-31T15:11:19.563Z"
   },
   {
    "duration": 5,
    "start_time": "2023-05-31T15:11:19.567Z"
   },
   {
    "duration": 6,
    "start_time": "2023-05-31T15:11:19.576Z"
   },
   {
    "duration": 5,
    "start_time": "2023-05-31T15:11:19.584Z"
   },
   {
    "duration": 5,
    "start_time": "2023-05-31T15:11:19.590Z"
   },
   {
    "duration": 5,
    "start_time": "2023-05-31T15:11:19.597Z"
   },
   {
    "duration": 5,
    "start_time": "2023-05-31T15:11:19.604Z"
   },
   {
    "duration": 13,
    "start_time": "2023-05-31T15:11:19.611Z"
   },
   {
    "duration": 44,
    "start_time": "2023-05-31T15:11:19.626Z"
   },
   {
    "duration": 13,
    "start_time": "2023-05-31T15:11:19.672Z"
   },
   {
    "duration": 18,
    "start_time": "2023-05-31T15:11:19.686Z"
   },
   {
    "duration": 12,
    "start_time": "2023-05-31T15:11:19.706Z"
   },
   {
    "duration": 5,
    "start_time": "2023-05-31T15:11:19.720Z"
   },
   {
    "duration": 31,
    "start_time": "2023-05-31T15:11:19.727Z"
   },
   {
    "duration": 30,
    "start_time": "2023-05-31T15:11:19.765Z"
   },
   {
    "duration": 22,
    "start_time": "2023-05-31T15:11:19.796Z"
   },
   {
    "duration": 41,
    "start_time": "2023-05-31T15:11:19.820Z"
   },
   {
    "duration": 8,
    "start_time": "2023-05-31T15:11:19.875Z"
   },
   {
    "duration": 237,
    "start_time": "2023-05-31T15:11:19.884Z"
   },
   {
    "duration": 15,
    "start_time": "2023-05-31T15:11:20.123Z"
   },
   {
    "duration": 677,
    "start_time": "2023-05-31T15:11:20.139Z"
   },
   {
    "duration": 3,
    "start_time": "2023-05-31T15:11:20.818Z"
   },
   {
    "duration": 8,
    "start_time": "2023-05-31T15:11:20.823Z"
   },
   {
    "duration": 317,
    "start_time": "2023-05-31T15:11:20.833Z"
   },
   {
    "duration": 444,
    "start_time": "2023-05-31T15:11:21.152Z"
   },
   {
    "duration": 3,
    "start_time": "2023-05-31T15:11:21.598Z"
   },
   {
    "duration": 65,
    "start_time": "2023-05-31T15:11:21.603Z"
   },
   {
    "duration": 15,
    "start_time": "2023-05-31T15:11:21.679Z"
   },
   {
    "duration": 415,
    "start_time": "2023-05-31T15:11:21.696Z"
   },
   {
    "duration": 198,
    "start_time": "2023-05-31T15:11:22.113Z"
   },
   {
    "duration": 9,
    "start_time": "2023-05-31T15:11:22.313Z"
   },
   {
    "duration": 9,
    "start_time": "2023-05-31T15:11:22.323Z"
   },
   {
    "duration": 207,
    "start_time": "2023-05-31T15:11:22.361Z"
   },
   {
    "duration": 187,
    "start_time": "2023-05-31T15:11:22.574Z"
   },
   {
    "duration": 13,
    "start_time": "2023-05-31T15:11:22.764Z"
   },
   {
    "duration": 13,
    "start_time": "2023-05-31T15:11:22.782Z"
   },
   {
    "duration": 192,
    "start_time": "2023-05-31T15:11:22.797Z"
   },
   {
    "duration": 194,
    "start_time": "2023-05-31T15:11:22.991Z"
   },
   {
    "duration": 8,
    "start_time": "2023-05-31T15:11:23.187Z"
   },
   {
    "duration": 19,
    "start_time": "2023-05-31T15:11:23.196Z"
   },
   {
    "duration": 189,
    "start_time": "2023-05-31T15:11:23.217Z"
   },
   {
    "duration": 177,
    "start_time": "2023-05-31T15:11:23.408Z"
   },
   {
    "duration": 8,
    "start_time": "2023-05-31T15:11:23.587Z"
   },
   {
    "duration": 22,
    "start_time": "2023-05-31T15:11:23.597Z"
   },
   {
    "duration": 7,
    "start_time": "2023-05-31T15:11:23.621Z"
   },
   {
    "duration": 244,
    "start_time": "2023-05-31T15:11:23.630Z"
   },
   {
    "duration": 222,
    "start_time": "2023-05-31T15:11:23.878Z"
   },
   {
    "duration": 7,
    "start_time": "2023-05-31T15:11:24.103Z"
   },
   {
    "duration": 628,
    "start_time": "2023-05-31T15:11:24.112Z"
   },
   {
    "duration": 803,
    "start_time": "2023-05-31T15:11:24.742Z"
   },
   {
    "duration": 367,
    "start_time": "2023-05-31T15:11:25.552Z"
   },
   {
    "duration": 3,
    "start_time": "2023-05-31T15:11:25.921Z"
   },
   {
    "duration": 43,
    "start_time": "2023-05-31T15:11:25.926Z"
   },
   {
    "duration": 7,
    "start_time": "2023-05-31T15:11:25.973Z"
   },
   {
    "duration": 8,
    "start_time": "2023-05-31T15:11:25.982Z"
   },
   {
    "duration": 15,
    "start_time": "2023-05-31T15:11:25.992Z"
   },
   {
    "duration": 9,
    "start_time": "2023-05-31T15:11:26.008Z"
   },
   {
    "duration": 1290,
    "start_time": "2023-05-31T15:14:43.926Z"
   },
   {
    "duration": 65,
    "start_time": "2023-05-31T15:14:45.218Z"
   },
   {
    "duration": 31,
    "start_time": "2023-05-31T15:14:45.285Z"
   },
   {
    "duration": 8,
    "start_time": "2023-05-31T15:14:45.318Z"
   },
   {
    "duration": 29,
    "start_time": "2023-05-31T15:14:45.328Z"
   },
   {
    "duration": 12,
    "start_time": "2023-05-31T15:14:45.358Z"
   },
   {
    "duration": 14,
    "start_time": "2023-05-31T15:14:45.371Z"
   },
   {
    "duration": 6,
    "start_time": "2023-05-31T15:14:45.387Z"
   },
   {
    "duration": 5,
    "start_time": "2023-05-31T15:14:45.394Z"
   },
   {
    "duration": 12,
    "start_time": "2023-05-31T15:14:45.400Z"
   },
   {
    "duration": 7,
    "start_time": "2023-05-31T15:14:45.414Z"
   },
   {
    "duration": 38,
    "start_time": "2023-05-31T15:14:45.422Z"
   },
   {
    "duration": 27,
    "start_time": "2023-05-31T15:14:45.462Z"
   },
   {
    "duration": 6,
    "start_time": "2023-05-31T15:14:45.493Z"
   },
   {
    "duration": 35,
    "start_time": "2023-05-31T15:14:45.500Z"
   },
   {
    "duration": 34,
    "start_time": "2023-05-31T15:14:45.537Z"
   },
   {
    "duration": 43,
    "start_time": "2023-05-31T15:14:45.576Z"
   },
   {
    "duration": 8,
    "start_time": "2023-05-31T15:14:45.620Z"
   },
   {
    "duration": 10,
    "start_time": "2023-05-31T15:14:45.630Z"
   },
   {
    "duration": 21,
    "start_time": "2023-05-31T15:14:45.642Z"
   },
   {
    "duration": 10,
    "start_time": "2023-05-31T15:14:45.665Z"
   },
   {
    "duration": 7,
    "start_time": "2023-05-31T15:14:45.676Z"
   },
   {
    "duration": 13,
    "start_time": "2023-05-31T15:14:45.684Z"
   },
   {
    "duration": 4,
    "start_time": "2023-05-31T15:14:45.698Z"
   },
   {
    "duration": 10,
    "start_time": "2023-05-31T15:14:45.704Z"
   },
   {
    "duration": 4,
    "start_time": "2023-05-31T15:14:45.716Z"
   },
   {
    "duration": 15,
    "start_time": "2023-05-31T15:14:45.723Z"
   },
   {
    "duration": 9,
    "start_time": "2023-05-31T15:14:45.739Z"
   },
   {
    "duration": 39,
    "start_time": "2023-05-31T15:14:45.751Z"
   },
   {
    "duration": 11,
    "start_time": "2023-05-31T15:14:45.792Z"
   },
   {
    "duration": 14,
    "start_time": "2023-05-31T15:14:45.805Z"
   },
   {
    "duration": 22,
    "start_time": "2023-05-31T15:14:45.820Z"
   },
   {
    "duration": 21,
    "start_time": "2023-05-31T15:14:45.844Z"
   },
   {
    "duration": 25,
    "start_time": "2023-05-31T15:14:45.868Z"
   },
   {
    "duration": 14,
    "start_time": "2023-05-31T15:14:45.895Z"
   },
   {
    "duration": 5,
    "start_time": "2023-05-31T15:14:45.911Z"
   },
   {
    "duration": 15,
    "start_time": "2023-05-31T15:14:45.918Z"
   },
   {
    "duration": 33,
    "start_time": "2023-05-31T15:14:45.935Z"
   },
   {
    "duration": 39,
    "start_time": "2023-05-31T15:14:45.970Z"
   },
   {
    "duration": 26,
    "start_time": "2023-05-31T15:14:46.011Z"
   },
   {
    "duration": 28,
    "start_time": "2023-05-31T15:14:46.042Z"
   },
   {
    "duration": 218,
    "start_time": "2023-05-31T15:14:46.079Z"
   },
   {
    "duration": 16,
    "start_time": "2023-05-31T15:14:46.298Z"
   },
   {
    "duration": 717,
    "start_time": "2023-05-31T15:14:46.315Z"
   },
   {
    "duration": 3,
    "start_time": "2023-05-31T15:14:47.033Z"
   },
   {
    "duration": 10,
    "start_time": "2023-05-31T15:14:47.037Z"
   },
   {
    "duration": 294,
    "start_time": "2023-05-31T15:14:47.049Z"
   },
   {
    "duration": 395,
    "start_time": "2023-05-31T15:14:47.345Z"
   },
   {
    "duration": 10,
    "start_time": "2023-05-31T15:14:47.750Z"
   },
   {
    "duration": 13,
    "start_time": "2023-05-31T15:14:47.768Z"
   },
   {
    "duration": 13,
    "start_time": "2023-05-31T15:14:47.783Z"
   },
   {
    "duration": 279,
    "start_time": "2023-05-31T15:14:47.799Z"
   },
   {
    "duration": 188,
    "start_time": "2023-05-31T15:14:48.082Z"
   },
   {
    "duration": 9,
    "start_time": "2023-05-31T15:14:48.282Z"
   },
   {
    "duration": 12,
    "start_time": "2023-05-31T15:14:48.293Z"
   },
   {
    "duration": 183,
    "start_time": "2023-05-31T15:14:48.307Z"
   },
   {
    "duration": 193,
    "start_time": "2023-05-31T15:14:48.492Z"
   },
   {
    "duration": 9,
    "start_time": "2023-05-31T15:14:48.689Z"
   },
   {
    "duration": 10,
    "start_time": "2023-05-31T15:14:48.700Z"
   },
   {
    "duration": 192,
    "start_time": "2023-05-31T15:14:48.711Z"
   },
   {
    "duration": 196,
    "start_time": "2023-05-31T15:14:48.905Z"
   },
   {
    "duration": 7,
    "start_time": "2023-05-31T15:14:49.103Z"
   },
   {
    "duration": 9,
    "start_time": "2023-05-31T15:14:49.112Z"
   },
   {
    "duration": 200,
    "start_time": "2023-05-31T15:14:49.123Z"
   },
   {
    "duration": 177,
    "start_time": "2023-05-31T15:14:49.325Z"
   },
   {
    "duration": 7,
    "start_time": "2023-05-31T15:14:49.504Z"
   },
   {
    "duration": 9,
    "start_time": "2023-05-31T15:14:49.513Z"
   },
   {
    "duration": 7,
    "start_time": "2023-05-31T15:14:49.524Z"
   },
   {
    "duration": 238,
    "start_time": "2023-05-31T15:14:49.549Z"
   },
   {
    "duration": 207,
    "start_time": "2023-05-31T15:14:49.789Z"
   },
   {
    "duration": 5,
    "start_time": "2023-05-31T15:14:49.998Z"
   },
   {
    "duration": 533,
    "start_time": "2023-05-31T15:14:50.004Z"
   },
   {
    "duration": 739,
    "start_time": "2023-05-31T15:14:50.539Z"
   },
   {
    "duration": 320,
    "start_time": "2023-05-31T15:14:51.280Z"
   },
   {
    "duration": 2,
    "start_time": "2023-05-31T15:14:51.602Z"
   },
   {
    "duration": 30,
    "start_time": "2023-05-31T15:14:51.606Z"
   },
   {
    "duration": 10,
    "start_time": "2023-05-31T15:14:51.638Z"
   },
   {
    "duration": 13,
    "start_time": "2023-05-31T15:14:51.659Z"
   },
   {
    "duration": 36,
    "start_time": "2023-05-31T15:14:51.674Z"
   },
   {
    "duration": 9,
    "start_time": "2023-05-31T15:14:51.712Z"
   },
   {
    "duration": 6,
    "start_time": "2023-05-31T15:15:37.769Z"
   },
   {
    "duration": 65,
    "start_time": "2023-05-31T17:22:22.960Z"
   },
   {
    "duration": 1465,
    "start_time": "2023-05-31T17:22:29.415Z"
   },
   {
    "duration": 210,
    "start_time": "2023-05-31T17:22:30.882Z"
   },
   {
    "duration": 53,
    "start_time": "2023-05-31T17:22:31.094Z"
   },
   {
    "duration": 9,
    "start_time": "2023-05-31T17:22:31.152Z"
   },
   {
    "duration": 19,
    "start_time": "2023-05-31T17:22:31.162Z"
   },
   {
    "duration": 19,
    "start_time": "2023-05-31T17:22:31.182Z"
   },
   {
    "duration": 42,
    "start_time": "2023-05-31T17:22:31.202Z"
   },
   {
    "duration": 35,
    "start_time": "2023-05-31T17:22:31.246Z"
   },
   {
    "duration": 41,
    "start_time": "2023-05-31T17:22:31.282Z"
   },
   {
    "duration": 22,
    "start_time": "2023-05-31T17:22:31.327Z"
   },
   {
    "duration": 26,
    "start_time": "2023-05-31T17:22:31.351Z"
   },
   {
    "duration": 42,
    "start_time": "2023-05-31T17:22:31.379Z"
   },
   {
    "duration": 37,
    "start_time": "2023-05-31T17:22:31.423Z"
   },
   {
    "duration": 10,
    "start_time": "2023-05-31T17:22:31.462Z"
   },
   {
    "duration": 43,
    "start_time": "2023-05-31T17:22:31.474Z"
   },
   {
    "duration": 15,
    "start_time": "2023-05-31T17:22:31.520Z"
   },
   {
    "duration": 33,
    "start_time": "2023-05-31T17:22:31.536Z"
   },
   {
    "duration": 15,
    "start_time": "2023-05-31T17:22:31.570Z"
   },
   {
    "duration": 36,
    "start_time": "2023-05-31T17:22:31.587Z"
   },
   {
    "duration": 25,
    "start_time": "2023-05-31T17:22:31.631Z"
   },
   {
    "duration": 7,
    "start_time": "2023-05-31T17:22:31.658Z"
   },
   {
    "duration": 22,
    "start_time": "2023-05-31T17:22:31.666Z"
   },
   {
    "duration": 41,
    "start_time": "2023-05-31T17:22:31.690Z"
   },
   {
    "duration": 15,
    "start_time": "2023-05-31T17:22:31.733Z"
   },
   {
    "duration": 17,
    "start_time": "2023-05-31T17:22:31.751Z"
   },
   {
    "duration": 11,
    "start_time": "2023-05-31T17:22:31.770Z"
   },
   {
    "duration": 38,
    "start_time": "2023-05-31T17:22:31.782Z"
   },
   {
    "duration": 30,
    "start_time": "2023-05-31T17:22:31.827Z"
   },
   {
    "duration": 35,
    "start_time": "2023-05-31T17:22:31.858Z"
   },
   {
    "duration": 31,
    "start_time": "2023-05-31T17:22:31.895Z"
   },
   {
    "duration": 36,
    "start_time": "2023-05-31T17:22:31.928Z"
   },
   {
    "duration": 59,
    "start_time": "2023-05-31T17:22:31.965Z"
   },
   {
    "duration": 43,
    "start_time": "2023-05-31T17:22:32.026Z"
   },
   {
    "duration": 67,
    "start_time": "2023-05-31T17:22:32.071Z"
   },
   {
    "duration": 18,
    "start_time": "2023-05-31T17:22:32.139Z"
   },
   {
    "duration": 30,
    "start_time": "2023-05-31T17:22:32.158Z"
   },
   {
    "duration": 37,
    "start_time": "2023-05-31T17:22:32.190Z"
   },
   {
    "duration": 20,
    "start_time": "2023-05-31T17:22:32.228Z"
   },
   {
    "duration": 16,
    "start_time": "2023-05-31T17:22:32.250Z"
   },
   {
    "duration": 30,
    "start_time": "2023-05-31T17:22:32.268Z"
   },
   {
    "duration": 6,
    "start_time": "2023-05-31T17:22:32.300Z"
   },
   {
    "duration": 218,
    "start_time": "2023-05-31T17:22:32.313Z"
   },
   {
    "duration": 21,
    "start_time": "2023-05-31T17:22:32.538Z"
   },
   {
    "duration": 291,
    "start_time": "2023-05-31T17:22:32.561Z"
   },
   {
    "duration": 583,
    "start_time": "2023-05-31T17:22:32.854Z"
   },
   {
    "duration": 3,
    "start_time": "2023-05-31T17:22:33.439Z"
   },
   {
    "duration": 27,
    "start_time": "2023-05-31T17:22:33.443Z"
   },
   {
    "duration": 233,
    "start_time": "2023-05-31T17:22:33.471Z"
   },
   {
    "duration": 481,
    "start_time": "2023-05-31T17:22:33.706Z"
   },
   {
    "duration": 2,
    "start_time": "2023-05-31T17:22:34.189Z"
   },
   {
    "duration": 35,
    "start_time": "2023-05-31T17:22:34.193Z"
   },
   {
    "duration": 19,
    "start_time": "2023-05-31T17:22:34.240Z"
   },
   {
    "duration": 182,
    "start_time": "2023-05-31T17:22:34.261Z"
   },
   {
    "duration": 188,
    "start_time": "2023-05-31T17:22:34.444Z"
   },
   {
    "duration": 16,
    "start_time": "2023-05-31T17:22:34.644Z"
   },
   {
    "duration": 14,
    "start_time": "2023-05-31T17:22:34.661Z"
   },
   {
    "duration": 203,
    "start_time": "2023-05-31T17:22:34.676Z"
   },
   {
    "duration": 212,
    "start_time": "2023-05-31T17:22:34.881Z"
   },
   {
    "duration": 8,
    "start_time": "2023-05-31T17:22:35.095Z"
   },
   {
    "duration": 26,
    "start_time": "2023-05-31T17:22:35.110Z"
   },
   {
    "duration": 211,
    "start_time": "2023-05-31T17:22:35.145Z"
   },
   {
    "duration": 229,
    "start_time": "2023-05-31T17:22:35.358Z"
   },
   {
    "duration": 8,
    "start_time": "2023-05-31T17:22:35.588Z"
   },
   {
    "duration": 16,
    "start_time": "2023-05-31T17:22:35.598Z"
   },
   {
    "duration": 182,
    "start_time": "2023-05-31T17:22:35.616Z"
   },
   {
    "duration": 220,
    "start_time": "2023-05-31T17:22:35.818Z"
   },
   {
    "duration": 10,
    "start_time": "2023-05-31T17:22:36.040Z"
   },
   {
    "duration": 8,
    "start_time": "2023-05-31T17:22:36.053Z"
   },
   {
    "duration": 14,
    "start_time": "2023-05-31T17:22:36.062Z"
   },
   {
    "duration": 265,
    "start_time": "2023-05-31T17:22:36.078Z"
   },
   {
    "duration": 200,
    "start_time": "2023-05-31T17:22:36.348Z"
   },
   {
    "duration": 5,
    "start_time": "2023-05-31T17:22:36.549Z"
   },
   {
    "duration": 524,
    "start_time": "2023-05-31T17:22:36.556Z"
   },
   {
    "duration": 756,
    "start_time": "2023-05-31T17:22:37.082Z"
   },
   {
    "duration": 314,
    "start_time": "2023-05-31T17:22:37.840Z"
   },
   {
    "duration": 3,
    "start_time": "2023-05-31T17:22:38.155Z"
   },
   {
    "duration": 20,
    "start_time": "2023-05-31T17:22:38.159Z"
   },
   {
    "duration": 6,
    "start_time": "2023-05-31T17:22:38.181Z"
   },
   {
    "duration": 25,
    "start_time": "2023-05-31T17:22:38.189Z"
   },
   {
    "duration": 25,
    "start_time": "2023-05-31T17:22:38.217Z"
   },
   {
    "duration": 9,
    "start_time": "2023-05-31T17:22:38.245Z"
   },
   {
    "duration": 222,
    "start_time": "2023-05-31T17:23:01.078Z"
   },
   {
    "duration": 227,
    "start_time": "2023-05-31T17:23:19.236Z"
   },
   {
    "duration": 220,
    "start_time": "2023-05-31T17:24:03.532Z"
   },
   {
    "duration": 379,
    "start_time": "2023-05-31T17:28:32.593Z"
   },
   {
    "duration": 341,
    "start_time": "2023-05-31T17:29:03.697Z"
   },
   {
    "duration": 1275,
    "start_time": "2023-06-18T21:02:58.534Z"
   },
   {
    "duration": 365,
    "start_time": "2023-06-18T21:03:00.567Z"
   }
  ],
  "kernelspec": {
   "display_name": "Python 3 (ipykernel)",
   "language": "python",
   "name": "python3"
  },
  "language_info": {
   "codemirror_mode": {
    "name": "ipython",
    "version": 3
   },
   "file_extension": ".py",
   "mimetype": "text/x-python",
   "name": "python",
   "nbconvert_exporter": "python",
   "pygments_lexer": "ipython3",
   "version": "3.9.16"
  },
  "toc": {
   "base_numbering": 1,
   "nav_menu": {},
   "number_sections": true,
   "sideBar": true,
   "skip_h1_title": true,
   "title_cell": "Table of Contents",
   "title_sidebar": "Contents",
   "toc_cell": false,
   "toc_position": {
    "height": "795.273px",
    "left": "26px",
    "top": "110.318px",
    "width": "240.523px"
   },
   "toc_section_display": true,
   "toc_window_display": true
  }
 },
 "nbformat": 4,
 "nbformat_minor": 4
}
